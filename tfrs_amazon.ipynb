{
 "cells": [
  {
   "cell_type": "code",
   "execution_count": 1,
   "id": "4205e70a",
   "metadata": {},
   "outputs": [
    {
     "name": "stdout",
     "output_type": "stream",
     "text": [
      "2022-08-24 08:34:30.623190\n"
     ]
    },
    {
     "name": "stderr",
     "output_type": "stream",
     "text": [
      "2022-08-24 08:34:31.338245: W tensorflow/stream_executor/platform/default/dso_loader.cc:64] Could not load dynamic library 'libcudart.so.11.0'; dlerror: libcudart.so.11.0: cannot open shared object file: No such file or directory\n",
      "2022-08-24 08:34:31.338270: I tensorflow/stream_executor/cuda/cudart_stub.cc:29] Ignore above cudart dlerror if you do not have a GPU set up on your machine.\n"
     ]
    }
   ],
   "source": [
    "from datetime import datetime\n",
    "print(str(datetime.now()))\n",
    "import numpy as np\n",
    "# os.environ[\"TF_CPP_MIN_LOG_LEVEL\"] =\"3\"\n",
    "import tensorflow as tf\n",
    "import tensorflow_recommenders as tfrs\n",
    "import pandas as pd\n",
    "import math\n",
    "\n",
    "import os\n",
    "import glob"
   ]
  },
  {
   "cell_type": "code",
   "execution_count": 2,
   "id": "9bebfdd4",
   "metadata": {},
   "outputs": [
    {
     "name": "stdout",
     "output_type": "stream",
     "text": [
      "WARNING:tensorflow:From /tmp/ipykernel_4738/1916213802.py:1: is_gpu_available (from tensorflow.python.framework.test_util) is deprecated and will be removed in a future version.\n",
      "Instructions for updating:\n",
      "Use `tf.config.list_physical_devices('GPU')` instead.\n"
     ]
    },
    {
     "name": "stderr",
     "output_type": "stream",
     "text": [
      "2022-08-24 08:34:34.401072: W tensorflow/stream_executor/platform/default/dso_loader.cc:64] Could not load dynamic library 'libcuda.so.1'; dlerror: libcuda.so.1: cannot open shared object file: No such file or directory\n",
      "2022-08-24 08:34:34.401100: W tensorflow/stream_executor/cuda/cuda_driver.cc:269] failed call to cuInit: UNKNOWN ERROR (303)\n",
      "2022-08-24 08:34:34.401119: I tensorflow/stream_executor/cuda/cuda_diagnostics.cc:156] kernel driver does not appear to be running on this host (bioss-System-Product-Name): /proc/driver/nvidia/version does not exist\n"
     ]
    }
   ],
   "source": [
    "gpu_available = tf.test.is_gpu_available()\n",
    "gpu_available\n",
    "req_cols = ['ITEM_ID', 'USER_ID', 'CABIN_TYPE', 'USER_RESIDENCE']"
   ]
  },
  {
   "cell_type": "code",
   "execution_count": 3,
   "id": "93b86d8f",
   "metadata": {},
   "outputs": [],
   "source": [
    "data_set_df_updated = pd.read_csv(\"dataset/interaction_demo.csv\")\n",
    "test_df = pd.read_csv(\"dataset/interaction_test_demo.csv\")\n",
    "data_set_df_updated.loc[data_set_df_updated.USER_RESIDENCE.isnull(),\"USER_RESIDENCE\"] = 'None'\n",
    "test_df.loc[test_df.USER_RESIDENCE.isnull(),\"USER_RESIDENCE\"] = 'None'\n",
    "train_df = pd.concat([data_set_df_updated, test_df], ignore_index=True)\n",
    "train_df.sort_values(\"TIMESTAMP\", ascending= False, inplace= True)"
   ]
  },
  {
   "cell_type": "code",
   "execution_count": 4,
   "id": "bf387015",
   "metadata": {},
   "outputs": [
    {
     "data": {
      "text/plain": [
       "(350, 1)"
      ]
     },
     "execution_count": 4,
     "metadata": {},
     "output_type": "execute_result"
    }
   ],
   "source": [
    "item_df = train_df[[\"ITEM_ID\"]].drop_duplicates(\"ITEM_ID\")\n",
    "item_ds = tf.data.Dataset.from_tensor_slices(item_df.to_dict(\"list\")).batch(32)\n",
    "item_df.shape"
   ]
  },
  {
   "cell_type": "code",
   "execution_count": 5,
   "id": "8b3e53c3",
   "metadata": {},
   "outputs": [],
   "source": [
    "train_ds =  tf.data.Dataset.from_tensor_slices(train_df[req_cols].to_dict(\"list\")).batch(256)"
   ]
  },
  {
   "cell_type": "code",
   "execution_count": 6,
   "id": "c0b21ee3",
   "metadata": {},
   "outputs": [],
   "source": [
    "USER_ID_unique = np.unique(np.concatenate(list(train_ds.map(\n",
    "        lambda x: x[\"USER_ID\"]))))\n",
    "\n",
    "CABIN_TYPE_unique = np.unique(np.concatenate(list(train_ds.map(\n",
    "        lambda x: x[\"CABIN_TYPE\"]))))\n",
    "\n",
    "USER_RESIDENCE_unique = np.unique(np.concatenate(list(train_ds.map(\n",
    "        lambda x: x[\"USER_RESIDENCE\"]))))"
   ]
  },
  {
   "cell_type": "code",
   "execution_count": 7,
   "id": "8fb359ef",
   "metadata": {},
   "outputs": [],
   "source": [
    "item_unique =  np.unique(np.concatenate(list(train_ds.map(\n",
    "        lambda x: x[\"ITEM_ID\"]))))"
   ]
  },
  {
   "cell_type": "code",
   "execution_count": 8,
   "id": "876e1589",
   "metadata": {},
   "outputs": [],
   "source": [
    "class UserModel(tf.keras.Model):\n",
    "\n",
    "    def __init__(self):\n",
    "        super().__init__()\n",
    "\n",
    "        emb_dim = 32    \n",
    "        self.user_id_embedding = tf.keras.Sequential([\n",
    "            tf.keras.layers.experimental.preprocessing.StringLookup(\n",
    "                vocabulary=USER_ID_unique, mask_token=None),\n",
    "            tf.keras.layers.Embedding(len(USER_ID_unique) + 1, emb_dim),\n",
    "        ])\n",
    "            \n",
    "        self.cabin_type_embedding = tf.keras.Sequential([\n",
    "            tf.keras.layers.experimental.preprocessing.StringLookup(\n",
    "                vocabulary= CABIN_TYPE_unique, mask_token=None),  \n",
    "            tf.keras.layers.Embedding(len(CABIN_TYPE_unique) + 1, emb_dim),\n",
    "        ])\n",
    "\n",
    "        self.user_residence_embedding = tf.keras.Sequential([\n",
    "            tf.keras.layers.experimental.preprocessing.StringLookup(\n",
    "                vocabulary=USER_RESIDENCE_unique, mask_token=None),\n",
    "            tf.keras.layers.Embedding(len(USER_RESIDENCE_unique) + 1, emb_dim),\n",
    "        ])\n",
    "        \n",
    "\n",
    "    def call(self, user_interation_data):\n",
    "        return tf.concat([                          \n",
    "            self.user_id_embedding(user_interation_data[\"USER_ID\"]), \n",
    "            self.cabin_type_embedding(user_interation_data[\"CABIN_TYPE\"]), \n",
    "            self.user_residence_embedding(user_interation_data[\"USER_RESIDENCE\"]),\n",
    "        ], axis=1)\n",
    "\n",
    "\n",
    "\n"
   ]
  },
  {
   "cell_type": "code",
   "execution_count": 9,
   "id": "915250ec",
   "metadata": {},
   "outputs": [],
   "source": [
    "class ItemModel(tf.keras.Model):\n",
    "\n",
    "    def __init__(self):\n",
    "        super().__init__()\n",
    "\n",
    "        \n",
    "\n",
    "        self.item_embedding = tf.keras.Sequential([\n",
    "            tf.keras.layers.experimental.preprocessing.StringLookup(\n",
    "                vocabulary=item_unique, mask_token=None),\n",
    "            tf.keras.layers.Embedding(len(item_unique) + 1, 32),\n",
    "        ])\n",
    "\n",
    "\n",
    "    def call(self, user_interation_data):\n",
    "\n",
    "        return tf.concat([\n",
    "            self.item_embedding(user_interation_data[\"ITEM_ID\"])\n",
    "            \n",
    "            ], axis=1)"
   ]
  },
  {
   "cell_type": "code",
   "execution_count": 10,
   "id": "b5793fe1",
   "metadata": {},
   "outputs": [],
   "source": [
    "class TRFSRetrievalModel(tfrs.models.Model):\n",
    "\n",
    "    def __init__(self, UserModel,ItemModel, item_ds ):\n",
    "        super().__init__()\n",
    "\n",
    "\n",
    "\n",
    "        self.query_model = tf.keras.Sequential([#,UserModel()\n",
    "          UserModel(),\n",
    "          tf.keras.layers.Dense(32 , kernel_initializer= tf.keras.initializers.RandomNormal(seed=99)),   \n",
    "        ])\n",
    "        \n",
    "\n",
    "        self.candidate_model = tf.keras.Sequential([\n",
    "          ItemModel(),\n",
    "          tf.keras.layers.Dense(32, kernel_initializer= tf.keras.initializers.RandomNormal(seed=1))\n",
    "        ]) \n",
    "        \n",
    "        \n",
    "\n",
    "\n",
    "#         metrics = [\n",
    "#           tf.keras.metrics.TopKCategoricalAccuracy(\n",
    "#               k=x, name=f\"factorized_top_k/top_{x}_categorical_accuracy\")\n",
    "#           for x in [3,5,10,15, 25]\n",
    "#         ]  \n",
    "        \n",
    "        self.task = tfrs.tasks.Retrieval(\n",
    "            metrics=tfrs.metrics.FactorizedTopK(\n",
    "            item_ds.map(self.candidate_model),\n",
    "                ks= (3, 5, 10,15, 25))\n",
    "        )\n",
    "        \n",
    "#         self.task = tfrs.tasks.Retrieval(\n",
    "#             metrics=tfrs.metrics.FactorizedTopK(\n",
    "#                 candidates=item_ds.map(self.candidate_model),\n",
    "#                 metrics = metrics,\n",
    "#                 k = 100\n",
    "#             ),\n",
    "#             # temperature = 0.5,\n",
    "#             num_hard_negatives = 5\n",
    "#         )\n",
    "\n",
    "    def compute_loss(self, features, training= True):\n",
    "\n",
    "        item_features = {\"ITEM_ID\":features.pop(\"ITEM_ID\") }\n",
    "        query_embeddings = self.query_model(features)\n",
    "        item_embeddings = self.candidate_model(item_features)\n",
    "\n",
    "        return self.task(query_embeddings, \n",
    "        item_embeddings, \n",
    "        compute_metrics=True\n",
    "        )\n",
    "\n",
    "    def call(self, test):\n",
    "        features= test.copy()\n",
    "        item_features = {\"ITEM_ID\":features.pop(\"ITEM_ID\") }\n",
    "        query_embeddings = self.query_model(features)\n",
    "        item_embeddings = self.candidate_model(item_features)\n",
    "\n",
    "        return query_embeddings, item_embeddings\n"
   ]
  },
  {
   "cell_type": "code",
   "execution_count": 11,
   "id": "5f5d70e1",
   "metadata": {},
   "outputs": [],
   "source": [
    "test_max_index = math.floor(train_df.shape[0]*0.1)\n",
    "train_split_len = train_df.shape[0] - test_max_index\n",
    "data_set_tf = tf.data.Dataset.from_tensor_slices(train_df[req_cols].to_dict(\"list\"))\n",
    "test = data_set_tf.take(test_max_index)\n",
    "train = data_set_tf.skip(test_max_index).take(train_split_len)\n",
    "shuffled = train.shuffle(train_split_len, seed=42, reshuffle_each_iteration=True)\n",
    "cached_train = shuffled.batch(512).prefetch(4096)#train.shuffle(100_000).batch(2048)\n",
    "cached_test = test.batch(512).cache()\n"
   ]
  },
  {
   "cell_type": "code",
   "execution_count": 12,
   "id": "74fcf471",
   "metadata": {},
   "outputs": [
    {
     "data": {
      "text/plain": [
       "(34853, 3485)"
      ]
     },
     "execution_count": 12,
     "metadata": {},
     "output_type": "execute_result"
    }
   ],
   "source": [
    "train_df.shape[0], test_max_index"
   ]
  },
  {
   "cell_type": "code",
   "execution_count": 13,
   "id": "92aff5bf",
   "metadata": {},
   "outputs": [],
   "source": [
    "def delete_all_check_points(fpath= 'new_amazon_check_points/*'):\n",
    "    files = glob.glob(fpath)\n",
    "    for f in files:\n",
    "        os.remove(f)\n",
    "        "
   ]
  },
  {
   "cell_type": "code",
   "execution_count": 14,
   "id": "5a2625b7",
   "metadata": {},
   "outputs": [],
   "source": [
    "def get_call_back_fun(K):\n",
    "    delete_all_check_points()\n",
    "    model_path = f\"new_amazon_check_points/best_check_point_{K}k\"\n",
    "    \n",
    "    model_checkpoint_callback = tf.keras.callbacks.ModelCheckpoint(\n",
    "        filepath=model_path,\n",
    "        save_weights_only=True,\n",
    "        monitor=f'val_factorized_top_k/top_{K}_categorical_accuracy',\n",
    "        mode='max',\n",
    "        save_best_only=True)\n",
    "\n",
    "    early_stoping = tf.keras.callbacks.EarlyStopping(monitor=f'val_factorized_top_k/top_{K}_categorical_accuracy',\n",
    "                                                     mode='min',\n",
    "                                                     patience=5)\n",
    "\n",
    "    reduce_lr = tf.keras.callbacks.ReduceLROnPlateau(monitor=f'val_factorized_top_k/top_{K}_categorical_accuracy', \n",
    "                                                     factor=0.6,\n",
    "                                                     #mode='min',\n",
    "                                                     patience=9, \n",
    "                                                     min_lr=1e-6\n",
    "    )\n",
    "    return model_path, model_checkpoint_callback, early_stoping, reduce_lr"
   ]
  },
  {
   "cell_type": "code",
   "execution_count": 15,
   "id": "bf39bde0",
   "metadata": {},
   "outputs": [],
   "source": [
    "model_path, model_checkpoint_callback, early_stoping, reduce_lr = get_call_back_fun(10)"
   ]
  },
  {
   "cell_type": "code",
   "execution_count": 16,
   "id": "a45c02e1",
   "metadata": {},
   "outputs": [
    {
     "name": "stdout",
     "output_type": "stream",
     "text": [
      "WARNING:tensorflow:Layers in a Sequential model should only have a single input tensor. Received: inputs={'ITEM_ID': <tf.Tensor 'args_0:0' shape=(None,) dtype=string>}. Consider rewriting this model with the Functional API.\n"
     ]
    }
   ],
   "source": [
    "model = TRFSRetrievalModel(UserModel, ItemModel, item_ds)\n",
    "model.compile(optimizer=tf.keras.optimizers.Adam(0.01)) "
   ]
  },
  {
   "cell_type": "code",
   "execution_count": null,
   "id": "f49834c4",
   "metadata": {},
   "outputs": [
    {
     "name": "stdout",
     "output_type": "stream",
     "text": [
      "Epoch 1/100\n",
      "WARNING:tensorflow:Layers in a Sequential model should only have a single input tensor. Received: inputs={'USER_ID': <tf.Tensor 'IteratorGetNext:2' shape=(None,) dtype=string>, 'CABIN_TYPE': <tf.Tensor 'IteratorGetNext:0' shape=(None,) dtype=string>, 'USER_RESIDENCE': <tf.Tensor 'IteratorGetNext:3' shape=(None,) dtype=string>}. Consider rewriting this model with the Functional API.\n",
      "WARNING:tensorflow:Layers in a Sequential model should only have a single input tensor. Received: inputs={'ITEM_ID': <tf.Tensor 'IteratorGetNext:1' shape=(None,) dtype=string>}. Consider rewriting this model with the Functional API.\n",
      "WARNING:tensorflow:Layers in a Sequential model should only have a single input tensor. Received: inputs={'USER_ID': <tf.Tensor 'IteratorGetNext:2' shape=(None,) dtype=string>, 'CABIN_TYPE': <tf.Tensor 'IteratorGetNext:0' shape=(None,) dtype=string>, 'USER_RESIDENCE': <tf.Tensor 'IteratorGetNext:3' shape=(None,) dtype=string>}. Consider rewriting this model with the Functional API.\n",
      "WARNING:tensorflow:Layers in a Sequential model should only have a single input tensor. Received: inputs={'ITEM_ID': <tf.Tensor 'IteratorGetNext:1' shape=(None,) dtype=string>}. Consider rewriting this model with the Functional API.\n",
      "62/62 [==============================] - ETA: 0s - factorized_top_k/top_3_categorical_accuracy: 0.0593 - factorized_top_k/top_5_categorical_accuracy: 0.1088 - factorized_top_k/top_10_categorical_accuracy: 0.2088 - factorized_top_k/top_15_categorical_accuracy: 0.2777 - factorized_top_k/top_25_categorical_accuracy: 0.3759 - loss: 2981.9918 - regularization_loss: 0.0000e+00 - total_loss: 2981.9918WARNING:tensorflow:Layers in a Sequential model should only have a single input tensor. Received: inputs={'USER_ID': <tf.Tensor 'IteratorGetNext:2' shape=(None,) dtype=string>, 'CABIN_TYPE': <tf.Tensor 'IteratorGetNext:0' shape=(None,) dtype=string>, 'USER_RESIDENCE': <tf.Tensor 'IteratorGetNext:3' shape=(None,) dtype=string>}. Consider rewriting this model with the Functional API.\n",
      "WARNING:tensorflow:Layers in a Sequential model should only have a single input tensor. Received: inputs={'ITEM_ID': <tf.Tensor 'IteratorGetNext:1' shape=(None,) dtype=string>}. Consider rewriting this model with the Functional API.\n",
      "62/62 [==============================] - 5s 55ms/step - factorized_top_k/top_3_categorical_accuracy: 0.0593 - factorized_top_k/top_5_categorical_accuracy: 0.1088 - factorized_top_k/top_10_categorical_accuracy: 0.2088 - factorized_top_k/top_15_categorical_accuracy: 0.2777 - factorized_top_k/top_25_categorical_accuracy: 0.3759 - loss: 2944.1422 - regularization_loss: 0.0000e+00 - total_loss: 2944.1422 - val_factorized_top_k/top_3_categorical_accuracy: 0.0970 - val_factorized_top_k/top_5_categorical_accuracy: 0.2020 - val_factorized_top_k/top_10_categorical_accuracy: 0.2755 - val_factorized_top_k/top_15_categorical_accuracy: 0.3461 - val_factorized_top_k/top_25_categorical_accuracy: 0.4393 - val_loss: 2238.2056 - val_regularization_loss: 0.0000e+00 - val_total_loss: 2238.2056 - lr: 0.0100\n",
      "Epoch 2/100\n",
      "62/62 [==============================] - 3s 52ms/step - factorized_top_k/top_3_categorical_accuracy: 0.2090 - factorized_top_k/top_5_categorical_accuracy: 0.3003 - factorized_top_k/top_10_categorical_accuracy: 0.4439 - factorized_top_k/top_15_categorical_accuracy: 0.5299 - factorized_top_k/top_25_categorical_accuracy: 0.6346 - loss: 2509.3716 - regularization_loss: 0.0000e+00 - total_loss: 2509.3716 - val_factorized_top_k/top_3_categorical_accuracy: 0.1337 - val_factorized_top_k/top_5_categorical_accuracy: 0.1911 - val_factorized_top_k/top_10_categorical_accuracy: 0.2760 - val_factorized_top_k/top_15_categorical_accuracy: 0.3286 - val_factorized_top_k/top_25_categorical_accuracy: 0.3971 - val_loss: 2327.0818 - val_regularization_loss: 0.0000e+00 - val_total_loss: 2327.0818 - lr: 0.0100\n",
      "Epoch 3/100\n",
      "62/62 [==============================] - 3s 50ms/step - factorized_top_k/top_3_categorical_accuracy: 0.4724 - factorized_top_k/top_5_categorical_accuracy: 0.5830 - factorized_top_k/top_10_categorical_accuracy: 0.6966 - factorized_top_k/top_15_categorical_accuracy: 0.7489 - factorized_top_k/top_25_categorical_accuracy: 0.8022 - loss: 1989.5835 - regularization_loss: 0.0000e+00 - total_loss: 1989.5835 - val_factorized_top_k/top_3_categorical_accuracy: 0.0772 - val_factorized_top_k/top_5_categorical_accuracy: 0.1067 - val_factorized_top_k/top_10_categorical_accuracy: 0.1653 - val_factorized_top_k/top_15_categorical_accuracy: 0.2100 - val_factorized_top_k/top_25_categorical_accuracy: 0.2912 - val_loss: 2528.4419 - val_regularization_loss: 0.0000e+00 - val_total_loss: 2528.4419 - lr: 0.0100\n",
      "Epoch 4/100\n",
      "62/62 [==============================] - 3s 49ms/step - factorized_top_k/top_3_categorical_accuracy: 0.6199 - factorized_top_k/top_5_categorical_accuracy: 0.6960 - factorized_top_k/top_10_categorical_accuracy: 0.7636 - factorized_top_k/top_15_categorical_accuracy: 0.7955 - factorized_top_k/top_25_categorical_accuracy: 0.8357 - loss: 1658.3562 - regularization_loss: 0.0000e+00 - total_loss: 1658.3562 - val_factorized_top_k/top_3_categorical_accuracy: 0.0861 - val_factorized_top_k/top_5_categorical_accuracy: 0.1251 - val_factorized_top_k/top_10_categorical_accuracy: 0.1891 - val_factorized_top_k/top_15_categorical_accuracy: 0.2396 - val_factorized_top_k/top_25_categorical_accuracy: 0.3274 - val_loss: 2610.3040 - val_regularization_loss: 0.0000e+00 - val_total_loss: 2610.3040 - lr: 0.0100\n",
      "Epoch 5/100\n",
      "62/62 [==============================] - 3s 51ms/step - factorized_top_k/top_3_categorical_accuracy: 0.6861 - factorized_top_k/top_5_categorical_accuracy: 0.7343 - factorized_top_k/top_10_categorical_accuracy: 0.7890 - factorized_top_k/top_15_categorical_accuracy: 0.8178 - factorized_top_k/top_25_categorical_accuracy: 0.8549 - loss: 1509.1224 - regularization_loss: 0.0000e+00 - total_loss: 1509.1224 - val_factorized_top_k/top_3_categorical_accuracy: 0.1036 - val_factorized_top_k/top_5_categorical_accuracy: 0.1472 - val_factorized_top_k/top_10_categorical_accuracy: 0.2184 - val_factorized_top_k/top_15_categorical_accuracy: 0.2783 - val_factorized_top_k/top_25_categorical_accuracy: 0.3630 - val_loss: 2615.7712 - val_regularization_loss: 0.0000e+00 - val_total_loss: 2615.7712 - lr: 0.0100\n",
      "Epoch 6/100\n",
      "62/62 [==============================] - 3s 50ms/step - factorized_top_k/top_3_categorical_accuracy: 0.7058 - factorized_top_k/top_5_categorical_accuracy: 0.7498 - factorized_top_k/top_10_categorical_accuracy: 0.8036 - factorized_top_k/top_15_categorical_accuracy: 0.8327 - factorized_top_k/top_25_categorical_accuracy: 0.8667 - loss: 1427.1989 - regularization_loss: 0.0000e+00 - total_loss: 1427.1989 - val_factorized_top_k/top_3_categorical_accuracy: 0.1013 - val_factorized_top_k/top_5_categorical_accuracy: 0.1435 - val_factorized_top_k/top_10_categorical_accuracy: 0.2212 - val_factorized_top_k/top_15_categorical_accuracy: 0.2651 - val_factorized_top_k/top_25_categorical_accuracy: 0.3469 - val_loss: 2634.5693 - val_regularization_loss: 0.0000e+00 - val_total_loss: 2634.5693 - lr: 0.0100\n",
      "Epoch 7/100\n",
      "62/62 [==============================] - 3s 49ms/step - factorized_top_k/top_3_categorical_accuracy: 0.7188 - factorized_top_k/top_5_categorical_accuracy: 0.7615 - factorized_top_k/top_10_categorical_accuracy: 0.8112 - factorized_top_k/top_15_categorical_accuracy: 0.8408 - factorized_top_k/top_25_categorical_accuracy: 0.8765 - loss: 1379.6204 - regularization_loss: 0.0000e+00 - total_loss: 1379.6204 - val_factorized_top_k/top_3_categorical_accuracy: 0.1024 - val_factorized_top_k/top_5_categorical_accuracy: 0.1372 - val_factorized_top_k/top_10_categorical_accuracy: 0.2034 - val_factorized_top_k/top_15_categorical_accuracy: 0.2603 - val_factorized_top_k/top_25_categorical_accuracy: 0.3484 - val_loss: 2649.4141 - val_regularization_loss: 0.0000e+00 - val_total_loss: 2649.4141 - lr: 0.0100\n",
      "Epoch 8/100\n"
     ]
    },
    {
     "name": "stdout",
     "output_type": "stream",
     "text": [
      "62/62 [==============================] - 3s 49ms/step - factorized_top_k/top_3_categorical_accuracy: 0.7300 - factorized_top_k/top_5_categorical_accuracy: 0.7730 - factorized_top_k/top_10_categorical_accuracy: 0.8276 - factorized_top_k/top_15_categorical_accuracy: 0.8567 - factorized_top_k/top_25_categorical_accuracy: 0.8898 - loss: 1337.1226 - regularization_loss: 0.0000e+00 - total_loss: 1337.1226 - val_factorized_top_k/top_3_categorical_accuracy: 0.1133 - val_factorized_top_k/top_5_categorical_accuracy: 0.1472 - val_factorized_top_k/top_10_categorical_accuracy: 0.2146 - val_factorized_top_k/top_15_categorical_accuracy: 0.2600 - val_factorized_top_k/top_25_categorical_accuracy: 0.3704 - val_loss: 2646.4058 - val_regularization_loss: 0.0000e+00 - val_total_loss: 2646.4058 - lr: 0.0100\n",
      "Epoch 9/100\n",
      "62/62 [==============================] - 3s 50ms/step - factorized_top_k/top_3_categorical_accuracy: 0.7403 - factorized_top_k/top_5_categorical_accuracy: 0.7840 - factorized_top_k/top_10_categorical_accuracy: 0.8359 - factorized_top_k/top_15_categorical_accuracy: 0.8646 - factorized_top_k/top_25_categorical_accuracy: 0.8969 - loss: 1309.8415 - regularization_loss: 0.0000e+00 - total_loss: 1309.8415 - val_factorized_top_k/top_3_categorical_accuracy: 0.1139 - val_factorized_top_k/top_5_categorical_accuracy: 0.1449 - val_factorized_top_k/top_10_categorical_accuracy: 0.2189 - val_factorized_top_k/top_15_categorical_accuracy: 0.2689 - val_factorized_top_k/top_25_categorical_accuracy: 0.3449 - val_loss: 2637.0498 - val_regularization_loss: 0.0000e+00 - val_total_loss: 2637.0498 - lr: 0.0100\n",
      "Epoch 10/100\n",
      "62/62 [==============================] - 3s 50ms/step - factorized_top_k/top_3_categorical_accuracy: 0.7453 - factorized_top_k/top_5_categorical_accuracy: 0.7908 - factorized_top_k/top_10_categorical_accuracy: 0.8466 - factorized_top_k/top_15_categorical_accuracy: 0.8753 - factorized_top_k/top_25_categorical_accuracy: 0.9072 - loss: 1284.8142 - regularization_loss: 0.0000e+00 - total_loss: 1284.8142 - val_factorized_top_k/top_3_categorical_accuracy: 0.1392 - val_factorized_top_k/top_5_categorical_accuracy: 0.1859 - val_factorized_top_k/top_10_categorical_accuracy: 0.2600 - val_factorized_top_k/top_15_categorical_accuracy: 0.3027 - val_factorized_top_k/top_25_categorical_accuracy: 0.3782 - val_loss: 2609.0898 - val_regularization_loss: 0.0000e+00 - val_total_loss: 2609.0898 - lr: 0.0100\n",
      "Epoch 11/100\n",
      "62/62 [==============================] - 3s 51ms/step - factorized_top_k/top_3_categorical_accuracy: 0.7512 - factorized_top_k/top_5_categorical_accuracy: 0.7980 - factorized_top_k/top_10_categorical_accuracy: 0.8530 - factorized_top_k/top_15_categorical_accuracy: 0.8805 - factorized_top_k/top_25_categorical_accuracy: 0.9144 - loss: 1263.0896 - regularization_loss: 0.0000e+00 - total_loss: 1263.0896 - val_factorized_top_k/top_3_categorical_accuracy: 0.1386 - val_factorized_top_k/top_5_categorical_accuracy: 0.1808 - val_factorized_top_k/top_10_categorical_accuracy: 0.2537 - val_factorized_top_k/top_15_categorical_accuracy: 0.3050 - val_factorized_top_k/top_25_categorical_accuracy: 0.4000 - val_loss: 2620.1367 - val_regularization_loss: 0.0000e+00 - val_total_loss: 2620.1367 - lr: 0.0100\n",
      "Epoch 12/100\n",
      "62/62 [==============================] - 3s 51ms/step - factorized_top_k/top_3_categorical_accuracy: 0.7709 - factorized_top_k/top_5_categorical_accuracy: 0.8220 - factorized_top_k/top_10_categorical_accuracy: 0.8754 - factorized_top_k/top_15_categorical_accuracy: 0.9033 - factorized_top_k/top_25_categorical_accuracy: 0.9310 - loss: 1204.9412 - regularization_loss: 0.0000e+00 - total_loss: 1204.9412 - val_factorized_top_k/top_3_categorical_accuracy: 0.1395 - val_factorized_top_k/top_5_categorical_accuracy: 0.1874 - val_factorized_top_k/top_10_categorical_accuracy: 0.2666 - val_factorized_top_k/top_15_categorical_accuracy: 0.3182 - val_factorized_top_k/top_25_categorical_accuracy: 0.3888 - val_loss: 2723.2327 - val_regularization_loss: 0.0000e+00 - val_total_loss: 2723.2327 - lr: 0.0060\n",
      "Epoch 13/100\n",
      "62/62 [==============================] - 3s 50ms/step - factorized_top_k/top_3_categorical_accuracy: 0.7804 - factorized_top_k/top_5_categorical_accuracy: 0.8315 - factorized_top_k/top_10_categorical_accuracy: 0.8853 - factorized_top_k/top_15_categorical_accuracy: 0.9107 - factorized_top_k/top_25_categorical_accuracy: 0.9360 - loss: 1184.8535 - regularization_loss: 0.0000e+00 - total_loss: 1184.8535 - val_factorized_top_k/top_3_categorical_accuracy: 0.1346 - val_factorized_top_k/top_5_categorical_accuracy: 0.1882 - val_factorized_top_k/top_10_categorical_accuracy: 0.2666 - val_factorized_top_k/top_15_categorical_accuracy: 0.3154 - val_factorized_top_k/top_25_categorical_accuracy: 0.3931 - val_loss: 2722.3308 - val_regularization_loss: 0.0000e+00 - val_total_loss: 2722.3308 - lr: 0.0060\n",
      "Epoch 14/100\n",
      "62/62 [==============================] - 3s 51ms/step - factorized_top_k/top_3_categorical_accuracy: 0.7876 - factorized_top_k/top_5_categorical_accuracy: 0.8385 - factorized_top_k/top_10_categorical_accuracy: 0.8900 - factorized_top_k/top_15_categorical_accuracy: 0.9157 - factorized_top_k/top_25_categorical_accuracy: 0.9410 - loss: 1172.6790 - regularization_loss: 0.0000e+00 - total_loss: 1172.6790 - val_factorized_top_k/top_3_categorical_accuracy: 0.1248 - val_factorized_top_k/top_5_categorical_accuracy: 0.1673 - val_factorized_top_k/top_10_categorical_accuracy: 0.2479 - val_factorized_top_k/top_15_categorical_accuracy: 0.2944 - val_factorized_top_k/top_25_categorical_accuracy: 0.3874 - val_loss: 2741.7122 - val_regularization_loss: 0.0000e+00 - val_total_loss: 2741.7122 - lr: 0.0060\n",
      "Epoch 15/100\n",
      "62/62 [==============================] - 3s 50ms/step - factorized_top_k/top_3_categorical_accuracy: 0.7888 - factorized_top_k/top_5_categorical_accuracy: 0.8422 - factorized_top_k/top_10_categorical_accuracy: 0.8963 - factorized_top_k/top_15_categorical_accuracy: 0.9197 - factorized_top_k/top_25_categorical_accuracy: 0.9451 - loss: 1165.4898 - regularization_loss: 0.0000e+00 - total_loss: 1165.4898 - val_factorized_top_k/top_3_categorical_accuracy: 0.1504 - val_factorized_top_k/top_5_categorical_accuracy: 0.1960 - val_factorized_top_k/top_10_categorical_accuracy: 0.2646 - val_factorized_top_k/top_15_categorical_accuracy: 0.3237 - val_factorized_top_k/top_25_categorical_accuracy: 0.4092 - val_loss: 2782.6826 - val_regularization_loss: 0.0000e+00 - val_total_loss: 2782.6826 - lr: 0.0060\n",
      "Epoch 16/100\n",
      "62/62 [==============================] - 3s 50ms/step - factorized_top_k/top_3_categorical_accuracy: 0.7938 - factorized_top_k/top_5_categorical_accuracy: 0.8486 - factorized_top_k/top_10_categorical_accuracy: 0.9012 - factorized_top_k/top_15_categorical_accuracy: 0.9247 - factorized_top_k/top_25_categorical_accuracy: 0.9492 - loss: 1160.1240 - regularization_loss: 0.0000e+00 - total_loss: 1160.1240 - val_factorized_top_k/top_3_categorical_accuracy: 0.1389 - val_factorized_top_k/top_5_categorical_accuracy: 0.1911 - val_factorized_top_k/top_10_categorical_accuracy: 0.2651 - val_factorized_top_k/top_15_categorical_accuracy: 0.3222 - val_factorized_top_k/top_25_categorical_accuracy: 0.3994 - val_loss: 2745.4324 - val_regularization_loss: 0.0000e+00 - val_total_loss: 2745.4324 - lr: 0.0060\n",
      "Epoch 17/100\n",
      "62/62 [==============================] - 3s 50ms/step - factorized_top_k/top_3_categorical_accuracy: 0.8004 - factorized_top_k/top_5_categorical_accuracy: 0.8509 - factorized_top_k/top_10_categorical_accuracy: 0.9050 - factorized_top_k/top_15_categorical_accuracy: 0.9278 - factorized_top_k/top_25_categorical_accuracy: 0.9504 - loss: 1148.9721 - regularization_loss: 0.0000e+00 - total_loss: 1148.9721 - val_factorized_top_k/top_3_categorical_accuracy: 0.1650 - val_factorized_top_k/top_5_categorical_accuracy: 0.2066 - val_factorized_top_k/top_10_categorical_accuracy: 0.2763 - val_factorized_top_k/top_15_categorical_accuracy: 0.3340 - val_factorized_top_k/top_25_categorical_accuracy: 0.4215 - val_loss: 2767.9041 - val_regularization_loss: 0.0000e+00 - val_total_loss: 2767.9041 - lr: 0.0060\n",
      "Epoch 18/100\n"
     ]
    },
    {
     "name": "stdout",
     "output_type": "stream",
     "text": [
      "62/62 [==============================] - 3s 50ms/step - factorized_top_k/top_3_categorical_accuracy: 0.8022 - factorized_top_k/top_5_categorical_accuracy: 0.8563 - factorized_top_k/top_10_categorical_accuracy: 0.9079 - factorized_top_k/top_15_categorical_accuracy: 0.9309 - factorized_top_k/top_25_categorical_accuracy: 0.9527 - loss: 1144.9489 - regularization_loss: 0.0000e+00 - total_loss: 1144.9489 - val_factorized_top_k/top_3_categorical_accuracy: 0.1455 - val_factorized_top_k/top_5_categorical_accuracy: 0.1980 - val_factorized_top_k/top_10_categorical_accuracy: 0.2809 - val_factorized_top_k/top_15_categorical_accuracy: 0.3311 - val_factorized_top_k/top_25_categorical_accuracy: 0.4189 - val_loss: 2762.4233 - val_regularization_loss: 0.0000e+00 - val_total_loss: 2762.4233 - lr: 0.0060\n",
      "Epoch 19/100\n",
      "62/62 [==============================] - 3s 49ms/step - factorized_top_k/top_3_categorical_accuracy: 0.8073 - factorized_top_k/top_5_categorical_accuracy: 0.8609 - factorized_top_k/top_10_categorical_accuracy: 0.9104 - factorized_top_k/top_15_categorical_accuracy: 0.9335 - factorized_top_k/top_25_categorical_accuracy: 0.9563 - loss: 1137.7157 - regularization_loss: 0.0000e+00 - total_loss: 1137.7157 - val_factorized_top_k/top_3_categorical_accuracy: 0.1429 - val_factorized_top_k/top_5_categorical_accuracy: 0.1877 - val_factorized_top_k/top_10_categorical_accuracy: 0.2714 - val_factorized_top_k/top_15_categorical_accuracy: 0.3323 - val_factorized_top_k/top_25_categorical_accuracy: 0.4149 - val_loss: 2763.1174 - val_regularization_loss: 0.0000e+00 - val_total_loss: 2763.1174 - lr: 0.0060\n",
      "Epoch 20/100\n",
      "62/62 [==============================] - 3s 50ms/step - factorized_top_k/top_3_categorical_accuracy: 0.8075 - factorized_top_k/top_5_categorical_accuracy: 0.8620 - factorized_top_k/top_10_categorical_accuracy: 0.9146 - factorized_top_k/top_15_categorical_accuracy: 0.9350 - factorized_top_k/top_25_categorical_accuracy: 0.9568 - loss: 1131.1745 - regularization_loss: 0.0000e+00 - total_loss: 1131.1745 - val_factorized_top_k/top_3_categorical_accuracy: 0.1518 - val_factorized_top_k/top_5_categorical_accuracy: 0.2080 - val_factorized_top_k/top_10_categorical_accuracy: 0.2824 - val_factorized_top_k/top_15_categorical_accuracy: 0.3331 - val_factorized_top_k/top_25_categorical_accuracy: 0.4204 - val_loss: 2763.8828 - val_regularization_loss: 0.0000e+00 - val_total_loss: 2763.8828 - lr: 0.0060\n",
      "Epoch 21/100\n",
      "62/62 [==============================] - 3s 49ms/step - factorized_top_k/top_3_categorical_accuracy: 0.8122 - factorized_top_k/top_5_categorical_accuracy: 0.8666 - factorized_top_k/top_10_categorical_accuracy: 0.9170 - factorized_top_k/top_15_categorical_accuracy: 0.9376 - factorized_top_k/top_25_categorical_accuracy: 0.9591 - loss: 1126.5470 - regularization_loss: 0.0000e+00 - total_loss: 1126.5470 - val_factorized_top_k/top_3_categorical_accuracy: 0.1455 - val_factorized_top_k/top_5_categorical_accuracy: 0.1963 - val_factorized_top_k/top_10_categorical_accuracy: 0.2706 - val_factorized_top_k/top_15_categorical_accuracy: 0.3168 - val_factorized_top_k/top_25_categorical_accuracy: 0.4109 - val_loss: 2760.8533 - val_regularization_loss: 0.0000e+00 - val_total_loss: 2760.8533 - lr: 0.0060\n",
      "Epoch 22/100\n",
      "62/62 [==============================] - 3s 49ms/step - factorized_top_k/top_3_categorical_accuracy: 0.8132 - factorized_top_k/top_5_categorical_accuracy: 0.8681 - factorized_top_k/top_10_categorical_accuracy: 0.9182 - factorized_top_k/top_15_categorical_accuracy: 0.9395 - factorized_top_k/top_25_categorical_accuracy: 0.9609 - loss: 1123.7070 - regularization_loss: 0.0000e+00 - total_loss: 1123.7070 - val_factorized_top_k/top_3_categorical_accuracy: 0.1400 - val_factorized_top_k/top_5_categorical_accuracy: 0.1805 - val_factorized_top_k/top_10_categorical_accuracy: 0.2554 - val_factorized_top_k/top_15_categorical_accuracy: 0.3162 - val_factorized_top_k/top_25_categorical_accuracy: 0.4034 - val_loss: 2752.0366 - val_regularization_loss: 0.0000e+00 - val_total_loss: 2752.0366 - lr: 0.0060\n",
      "Epoch 23/100\n",
      "62/62 [==============================] - 3s 50ms/step - factorized_top_k/top_3_categorical_accuracy: 0.8152 - factorized_top_k/top_5_categorical_accuracy: 0.8705 - factorized_top_k/top_10_categorical_accuracy: 0.9218 - factorized_top_k/top_15_categorical_accuracy: 0.9419 - factorized_top_k/top_25_categorical_accuracy: 0.9625 - loss: 1119.8711 - regularization_loss: 0.0000e+00 - total_loss: 1119.8711 - val_factorized_top_k/top_3_categorical_accuracy: 0.1552 - val_factorized_top_k/top_5_categorical_accuracy: 0.2032 - val_factorized_top_k/top_10_categorical_accuracy: 0.2861 - val_factorized_top_k/top_15_categorical_accuracy: 0.3363 - val_factorized_top_k/top_25_categorical_accuracy: 0.4247 - val_loss: 2775.6714 - val_regularization_loss: 0.0000e+00 - val_total_loss: 2775.6714 - lr: 0.0060\n",
      "Epoch 24/100\n",
      "62/62 [==============================] - 3s 49ms/step - factorized_top_k/top_3_categorical_accuracy: 0.8200 - factorized_top_k/top_5_categorical_accuracy: 0.8728 - factorized_top_k/top_10_categorical_accuracy: 0.9215 - factorized_top_k/top_15_categorical_accuracy: 0.9426 - factorized_top_k/top_25_categorical_accuracy: 0.9627 - loss: 1114.6200 - regularization_loss: 0.0000e+00 - total_loss: 1114.6200 - val_factorized_top_k/top_3_categorical_accuracy: 0.1449 - val_factorized_top_k/top_5_categorical_accuracy: 0.1920 - val_factorized_top_k/top_10_categorical_accuracy: 0.2795 - val_factorized_top_k/top_15_categorical_accuracy: 0.3377 - val_factorized_top_k/top_25_categorical_accuracy: 0.4336 - val_loss: 2760.6492 - val_regularization_loss: 0.0000e+00 - val_total_loss: 2760.6492 - lr: 0.0060\n",
      "Epoch 25/100\n",
      "62/62 [==============================] - 3s 49ms/step - factorized_top_k/top_3_categorical_accuracy: 0.8209 - factorized_top_k/top_5_categorical_accuracy: 0.8754 - factorized_top_k/top_10_categorical_accuracy: 0.9254 - factorized_top_k/top_15_categorical_accuracy: 0.9456 - factorized_top_k/top_25_categorical_accuracy: 0.9652 - loss: 1110.3482 - regularization_loss: 0.0000e+00 - total_loss: 1110.3482 - val_factorized_top_k/top_3_categorical_accuracy: 0.1466 - val_factorized_top_k/top_5_categorical_accuracy: 0.1917 - val_factorized_top_k/top_10_categorical_accuracy: 0.2666 - val_factorized_top_k/top_15_categorical_accuracy: 0.3194 - val_factorized_top_k/top_25_categorical_accuracy: 0.4172 - val_loss: 2773.3367 - val_regularization_loss: 0.0000e+00 - val_total_loss: 2773.3367 - lr: 0.0060\n",
      "Epoch 26/100\n",
      "62/62 [==============================] - 3s 50ms/step - factorized_top_k/top_3_categorical_accuracy: 0.8219 - factorized_top_k/top_5_categorical_accuracy: 0.8759 - factorized_top_k/top_10_categorical_accuracy: 0.9267 - factorized_top_k/top_15_categorical_accuracy: 0.9478 - factorized_top_k/top_25_categorical_accuracy: 0.9667 - loss: 1108.1597 - regularization_loss: 0.0000e+00 - total_loss: 1108.1597 - val_factorized_top_k/top_3_categorical_accuracy: 0.1667 - val_factorized_top_k/top_5_categorical_accuracy: 0.2184 - val_factorized_top_k/top_10_categorical_accuracy: 0.3001 - val_factorized_top_k/top_15_categorical_accuracy: 0.3518 - val_factorized_top_k/top_25_categorical_accuracy: 0.4445 - val_loss: 2749.6287 - val_regularization_loss: 0.0000e+00 - val_total_loss: 2749.6287 - lr: 0.0060\n",
      "Epoch 27/100\n",
      "62/62 [==============================] - 3s 49ms/step - factorized_top_k/top_3_categorical_accuracy: 0.8274 - factorized_top_k/top_5_categorical_accuracy: 0.8815 - factorized_top_k/top_10_categorical_accuracy: 0.9280 - factorized_top_k/top_15_categorical_accuracy: 0.9482 - factorized_top_k/top_25_categorical_accuracy: 0.9674 - loss: 1103.0061 - regularization_loss: 0.0000e+00 - total_loss: 1103.0061 - val_factorized_top_k/top_3_categorical_accuracy: 0.1584 - val_factorized_top_k/top_5_categorical_accuracy: 0.2143 - val_factorized_top_k/top_10_categorical_accuracy: 0.2938 - val_factorized_top_k/top_15_categorical_accuracy: 0.3472 - val_factorized_top_k/top_25_categorical_accuracy: 0.4353 - val_loss: 2760.2227 - val_regularization_loss: 0.0000e+00 - val_total_loss: 2760.2227 - lr: 0.0060\n",
      "Epoch 28/100\n"
     ]
    },
    {
     "name": "stdout",
     "output_type": "stream",
     "text": [
      "62/62 [==============================] - 3s 49ms/step - factorized_top_k/top_3_categorical_accuracy: 0.8249 - factorized_top_k/top_5_categorical_accuracy: 0.8812 - factorized_top_k/top_10_categorical_accuracy: 0.9295 - factorized_top_k/top_15_categorical_accuracy: 0.9492 - factorized_top_k/top_25_categorical_accuracy: 0.9684 - loss: 1100.4129 - regularization_loss: 0.0000e+00 - total_loss: 1100.4129 - val_factorized_top_k/top_3_categorical_accuracy: 0.1615 - val_factorized_top_k/top_5_categorical_accuracy: 0.2195 - val_factorized_top_k/top_10_categorical_accuracy: 0.2918 - val_factorized_top_k/top_15_categorical_accuracy: 0.3438 - val_factorized_top_k/top_25_categorical_accuracy: 0.4293 - val_loss: 2757.9753 - val_regularization_loss: 0.0000e+00 - val_total_loss: 2757.9753 - lr: 0.0060\n",
      "Epoch 29/100\n",
      "22/62 [=========>....................] - ETA: 1s - factorized_top_k/top_3_categorical_accuracy: 0.8414 - factorized_top_k/top_5_categorical_accuracy: 0.8979 - factorized_top_k/top_10_categorical_accuracy: 0.9442 - factorized_top_k/top_15_categorical_accuracy: 0.9610 - factorized_top_k/top_25_categorical_accuracy: 0.9753 - loss: 1086.7136 - regularization_loss: 0.0000e+00 - total_loss: 1086.7136"
     ]
    }
   ],
   "source": [
    "model.fit(cached_train,\n",
    "          validation_data=cached_test,\n",
    "          epochs=100,\n",
    "          verbose=1, \n",
    "          workers=3,\n",
    "          use_multiprocessing=True,\n",
    "          callbacks=[model_checkpoint_callback, \n",
    "                     reduce_lr]\n",
    "\n",
    "          )"
   ]
  },
  {
   "cell_type": "code",
   "execution_count": 96,
   "id": "c91798a6",
   "metadata": {},
   "outputs": [
    {
     "data": {
      "text/plain": [
       "<tensorflow.python.training.tracking.util.CheckpointLoadStatus at 0x7efeec76a7f0>"
      ]
     },
     "execution_count": 96,
     "metadata": {},
     "output_type": "execute_result"
    }
   ],
   "source": [
    "model.load_weights(\"new_amazon_check_points/best_check_point_10k\")"
   ]
  },
  {
   "cell_type": "code",
   "execution_count": 97,
   "id": "40d04cb7",
   "metadata": {},
   "outputs": [
    {
     "name": "stdout",
     "output_type": "stream",
     "text": [
      "7/7 [==============================] - 0s 41ms/step - factorized_top_k/top_3_categorical_accuracy: 0.2046 - factorized_top_k/top_5_categorical_accuracy: 0.2623 - factorized_top_k/top_10_categorical_accuracy: 0.3432 - factorized_top_k/top_15_categorical_accuracy: 0.3986 - factorized_top_k/top_25_categorical_accuracy: 0.4838 - loss: 3742.8446 - regularization_loss: 0.0000e+00 - total_loss: 3742.8446\n"
     ]
    }
   ],
   "source": [
    "result_summary = model.evaluate(cached_test)"
   ]
  },
  {
   "cell_type": "code",
   "execution_count": 99,
   "id": "215d3fd7",
   "metadata": {},
   "outputs": [
    {
     "data": {
      "text/plain": [
       "{3: 0.20459111034870148,\n",
       " 5: 0.2622668445110321,\n",
       " 10: 0.34318506717681885,\n",
       " 15: 0.39856529235839844,\n",
       " 25: 0.4837876558303833}"
      ]
     },
     "execution_count": 99,
     "metadata": {},
     "output_type": "execute_result"
    }
   ],
   "source": [
    "{val:result_summary[idx] for idx, val in enumerate([3, 5, 10,15, 25]) }"
   ]
  },
  {
   "cell_type": "code",
   "execution_count": null,
   "id": "4ee8552d",
   "metadata": {},
   "outputs": [],
   "source": []
  }
 ],
 "metadata": {
  "kernelspec": {
   "display_name": "Python 3 (ipykernel)",
   "language": "python",
   "name": "python3"
  },
  "language_info": {
   "codemirror_mode": {
    "name": "ipython",
    "version": 3
   },
   "file_extension": ".py",
   "mimetype": "text/x-python",
   "name": "python",
   "nbconvert_exporter": "python",
   "pygments_lexer": "ipython3",
   "version": "3.9.1"
  }
 },
 "nbformat": 4,
 "nbformat_minor": 5
}
