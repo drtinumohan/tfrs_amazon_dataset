{
 "cells": [
  {
   "cell_type": "code",
   "execution_count": 63,
   "id": "4205e70a",
   "metadata": {},
   "outputs": [
    {
     "name": "stdout",
     "output_type": "stream",
     "text": [
      "2022-08-23 22:56:13.979795\n"
     ]
    }
   ],
   "source": [
    "from datetime import datetime\n",
    "print(str(datetime.now()))\n",
    "import numpy as np\n",
    "# os.environ[\"TF_CPP_MIN_LOG_LEVEL\"] =\"3\"\n",
    "import tensorflow as tf\n",
    "import tensorflow_recommenders as tfrs\n",
    "import pandas as pd\n",
    "import math\n",
    "\n",
    "import os\n",
    "import glob"
   ]
  },
  {
   "cell_type": "code",
   "execution_count": 5,
   "id": "9bebfdd4",
   "metadata": {},
   "outputs": [],
   "source": [
    "gpu_available = tf.test.is_gpu_available()\n",
    "gpu_available\n",
    "req_cols = ['ITEM_ID', 'USER_ID', 'CABIN_TYPE', 'USER_RESIDENCE']"
   ]
  },
  {
   "cell_type": "code",
   "execution_count": 18,
   "id": "93b86d8f",
   "metadata": {},
   "outputs": [],
   "source": [
    "data_set_df_updated = pd.read_csv(\"interaction_demo.csv\")\n",
    "test_df = pd.read_csv(\"interaction_test_demo.csv\")\n",
    "data_set_df_updated.loc[data_set_df_updated.USER_RESIDENCE.isnull(),\"USER_RESIDENCE\"] = 'None'\n",
    "test_df.loc[test_df.USER_RESIDENCE.isnull(),\"USER_RESIDENCE\"] = 'None'\n",
    "train_df = pd.concat([data_set_df_updated, test_df], ignore_index=True)\n",
    "train_df.sort_values(\"TIMESTAMP\", ascending= False, inplace= True)"
   ]
  },
  {
   "cell_type": "code",
   "execution_count": 22,
   "id": "bf387015",
   "metadata": {},
   "outputs": [
    {
     "data": {
      "text/plain": [
       "(350, 1)"
      ]
     },
     "execution_count": 22,
     "metadata": {},
     "output_type": "execute_result"
    }
   ],
   "source": [
    "item_df = train_df[[\"ITEM_ID\"]].drop_duplicates(\"ITEM_ID\")\n",
    "item_ds = tf.data.Dataset.from_tensor_slices(item_df.to_dict(\"list\")).batch(32)\n",
    "item_df.shape"
   ]
  },
  {
   "cell_type": "code",
   "execution_count": 23,
   "id": "8b3e53c3",
   "metadata": {},
   "outputs": [],
   "source": [
    "train_ds =  tf.data.Dataset.from_tensor_slices(train_df[req_cols].to_dict(\"list\")).batch(256)"
   ]
  },
  {
   "cell_type": "code",
   "execution_count": 24,
   "id": "c0b21ee3",
   "metadata": {},
   "outputs": [],
   "source": [
    "USER_ID_unique = np.unique(np.concatenate(list(train_ds.map(\n",
    "        lambda x: x[\"USER_ID\"]))))\n",
    "\n",
    "CABIN_TYPE_unique = np.unique(np.concatenate(list(train_ds.map(\n",
    "        lambda x: x[\"CABIN_TYPE\"]))))\n",
    "\n",
    "USER_RESIDENCE_unique = np.unique(np.concatenate(list(train_ds.map(\n",
    "        lambda x: x[\"USER_RESIDENCE\"]))))"
   ]
  },
  {
   "cell_type": "code",
   "execution_count": 26,
   "id": "8fb359ef",
   "metadata": {},
   "outputs": [],
   "source": [
    "item_unique =  np.unique(np.concatenate(list(train_ds.map(\n",
    "        lambda x: x[\"ITEM_ID\"]))))"
   ]
  },
  {
   "cell_type": "code",
   "execution_count": 27,
   "id": "876e1589",
   "metadata": {},
   "outputs": [],
   "source": [
    "class UserModel(tf.keras.Model):\n",
    "\n",
    "    def __init__(self):\n",
    "        super().__init__()\n",
    "\n",
    "        emb_dim = 32    \n",
    "        self.user_id_embedding = tf.keras.Sequential([\n",
    "            tf.keras.layers.experimental.preprocessing.StringLookup(\n",
    "                vocabulary=USER_ID_unique, mask_token=None),\n",
    "            tf.keras.layers.Embedding(len(USER_ID_unique) + 1, emb_dim),\n",
    "        ])\n",
    "            \n",
    "        self.cabin_type_embedding = tf.keras.Sequential([\n",
    "            tf.keras.layers.experimental.preprocessing.StringLookup(\n",
    "                vocabulary= CABIN_TYPE_unique, mask_token=None),  \n",
    "            tf.keras.layers.Embedding(len(CABIN_TYPE_unique) + 1, emb_dim),\n",
    "        ])\n",
    "\n",
    "        self.user_residence_embedding = tf.keras.Sequential([\n",
    "            tf.keras.layers.experimental.preprocessing.StringLookup(\n",
    "                vocabulary=USER_RESIDENCE_unique, mask_token=None),\n",
    "            tf.keras.layers.Embedding(len(USER_RESIDENCE_unique) + 1, emb_dim),\n",
    "        ])\n",
    "        \n",
    "\n",
    "    def call(self, user_interation_data):\n",
    "        return tf.concat([                          \n",
    "            self.user_id_embedding(user_interation_data[\"USER_ID\"]), \n",
    "            self.cabin_type_embedding(user_interation_data[\"CABIN_TYPE\"]), \n",
    "            self.user_residence_embedding(user_interation_data[\"USER_RESIDENCE\"]),\n",
    "        ], axis=1)\n",
    "\n",
    "\n",
    "\n"
   ]
  },
  {
   "cell_type": "code",
   "execution_count": 28,
   "id": "915250ec",
   "metadata": {},
   "outputs": [],
   "source": [
    "class ItemModel(tf.keras.Model):\n",
    "\n",
    "    def __init__(self):\n",
    "        super().__init__()\n",
    "\n",
    "        \n",
    "\n",
    "        self.item_embedding = tf.keras.Sequential([\n",
    "            tf.keras.layers.experimental.preprocessing.StringLookup(\n",
    "                vocabulary=item_unique, mask_token=None),\n",
    "            tf.keras.layers.Embedding(len(item_unique) + 1, 32),\n",
    "        ])\n",
    "\n",
    "\n",
    "    def call(self, user_interation_data):\n",
    "\n",
    "        return tf.concat([\n",
    "            self.item_embedding(user_interation_data[\"ITEM_ID\"])\n",
    "            \n",
    "            ], axis=1)"
   ]
  },
  {
   "cell_type": "code",
   "execution_count": 88,
   "id": "b5793fe1",
   "metadata": {},
   "outputs": [],
   "source": [
    "class TRFSRetrievalModel(tfrs.models.Model):\n",
    "\n",
    "    def __init__(self, UserModel,ItemModel, item_ds ):\n",
    "        super().__init__()\n",
    "\n",
    "\n",
    "\n",
    "        self.query_model = tf.keras.Sequential([#,UserModel()\n",
    "          UserModel(),\n",
    "          tf.keras.layers.Dense(32 , kernel_initializer= tf.keras.initializers.RandomNormal(seed=99)),   \n",
    "        ])\n",
    "        \n",
    "\n",
    "        self.candidate_model = tf.keras.Sequential([\n",
    "          ItemModel(),\n",
    "          tf.keras.layers.Dense(32, kernel_initializer= tf.keras.initializers.RandomNormal(seed=1))\n",
    "        ]) \n",
    "        \n",
    "        \n",
    "\n",
    "\n",
    "#         metrics = [\n",
    "#           tf.keras.metrics.TopKCategoricalAccuracy(\n",
    "#               k=x, name=f\"factorized_top_k/top_{x}_categorical_accuracy\")\n",
    "#           for x in [3,5,10,15, 25]\n",
    "#         ]  \n",
    "        \n",
    "        self.task = tfrs.tasks.Retrieval(\n",
    "            metrics=tfrs.metrics.FactorizedTopK(\n",
    "            item_ds.map(self.candidate_model),\n",
    "                ks= (3, 5, 10,15, 25))\n",
    "        )\n",
    "        \n",
    "#         self.task = tfrs.tasks.Retrieval(\n",
    "#             metrics=tfrs.metrics.FactorizedTopK(\n",
    "#                 candidates=item_ds.map(self.candidate_model),\n",
    "#                 metrics = metrics,\n",
    "#                 k = 100\n",
    "#             ),\n",
    "#             # temperature = 0.5,\n",
    "#             num_hard_negatives = 5\n",
    "#         )\n",
    "\n",
    "    def compute_loss(self, features, training= True):\n",
    "\n",
    "        item_features = {\"ITEM_ID\":features.pop(\"ITEM_ID\") }\n",
    "        query_embeddings = self.query_model(features)\n",
    "        item_embeddings = self.candidate_model(item_features)\n",
    "\n",
    "        return self.task(query_embeddings, \n",
    "        item_embeddings, \n",
    "        compute_metrics=True\n",
    "        )\n",
    "\n",
    "    def call(self, test):\n",
    "        features= test.copy()\n",
    "        item_features = {\"ITEM_ID\":features.pop(\"ITEM_ID\") }\n",
    "        query_embeddings = self.query_model(features)\n",
    "        item_embeddings = self.candidate_model(item_features)\n",
    "\n",
    "        return query_embeddings, item_embeddings\n"
   ]
  },
  {
   "cell_type": "code",
   "execution_count": 89,
   "id": "5f5d70e1",
   "metadata": {},
   "outputs": [],
   "source": [
    "test_max_index = math.floor(train_df.shape[0]*0.1)\n",
    "train_split_len = train_df.shape[0] - test_max_index\n",
    "data_set_tf = tf.data.Dataset.from_tensor_slices(train_df[req_cols].to_dict(\"list\"))\n",
    "test = data_set_tf.take(test_max_index)\n",
    "train = data_set_tf.skip(test_max_index).take(train_split_len)\n",
    "shuffled = train.shuffle(train_split_len, seed=42, reshuffle_each_iteration=True)\n",
    "cached_train = shuffled.batch(512).prefetch(4096)#train.shuffle(100_000).batch(2048)\n",
    "cached_test = test.batch(512).cache()\n"
   ]
  },
  {
   "cell_type": "code",
   "execution_count": 90,
   "id": "74fcf471",
   "metadata": {},
   "outputs": [
    {
     "data": {
      "text/plain": [
       "(34853, 3485)"
      ]
     },
     "execution_count": 90,
     "metadata": {},
     "output_type": "execute_result"
    }
   ],
   "source": [
    "train_df.shape[0], test_max_index"
   ]
  },
  {
   "cell_type": "code",
   "execution_count": 91,
   "id": "92aff5bf",
   "metadata": {},
   "outputs": [],
   "source": [
    "def delete_all_check_points(fpath= 'new_amazon_check_points/*'):\n",
    "    files = glob.glob(fpath)\n",
    "    for f in files:\n",
    "        os.remove(f)\n",
    "        "
   ]
  },
  {
   "cell_type": "code",
   "execution_count": 92,
   "id": "5a2625b7",
   "metadata": {},
   "outputs": [],
   "source": [
    "def get_call_back_fun(K):\n",
    "    delete_all_check_points()\n",
    "    model_path = f\"new_amazon_check_points/best_check_point_{K}k\"\n",
    "    \n",
    "    model_checkpoint_callback = tf.keras.callbacks.ModelCheckpoint(\n",
    "        filepath=model_path,\n",
    "        save_weights_only=True,\n",
    "        monitor=f'val_factorized_top_k/top_{K}_categorical_accuracy',\n",
    "        mode='max',\n",
    "        save_best_only=True)\n",
    "\n",
    "    early_stoping = tf.keras.callbacks.EarlyStopping(monitor=f'val_factorized_top_k/top_{K}_categorical_accuracy',\n",
    "                                                     mode='min',\n",
    "                                                     patience=5)\n",
    "\n",
    "    reduce_lr = tf.keras.callbacks.ReduceLROnPlateau(monitor=f'val_factorized_top_k/top_{K}_categorical_accuracy', \n",
    "                                                     factor=0.6,\n",
    "                                                     #mode='min',\n",
    "                                                     patience=9, \n",
    "                                                     min_lr=1e-6\n",
    "    )\n",
    "    return model_path, model_checkpoint_callback, early_stoping, reduce_lr"
   ]
  },
  {
   "cell_type": "code",
   "execution_count": 93,
   "id": "bf39bde0",
   "metadata": {},
   "outputs": [],
   "source": [
    "model_path, model_checkpoint_callback, early_stoping, reduce_lr = get_call_back_fun(10)"
   ]
  },
  {
   "cell_type": "code",
   "execution_count": 94,
   "id": "a45c02e1",
   "metadata": {},
   "outputs": [
    {
     "name": "stdout",
     "output_type": "stream",
     "text": [
      "WARNING:tensorflow:Layers in a Sequential model should only have a single input tensor. Received: inputs={'ITEM_ID': <tf.Tensor 'args_0:0' shape=(None,) dtype=string>}. Consider rewriting this model with the Functional API.\n"
     ]
    }
   ],
   "source": [
    "model = TRFSRetrievalModel(UserModel, ItemModel, item_ds)\n",
    "model.compile(optimizer=tf.keras.optimizers.Adam(0.01)) "
   ]
  },
  {
   "cell_type": "code",
   "execution_count": 95,
   "id": "f49834c4",
   "metadata": {},
   "outputs": [
    {
     "name": "stdout",
     "output_type": "stream",
     "text": [
      "Epoch 1/100\n",
      "WARNING:tensorflow:Layers in a Sequential model should only have a single input tensor. Received: inputs={'USER_ID': <tf.Tensor 'IteratorGetNext:2' shape=(None,) dtype=string>, 'CABIN_TYPE': <tf.Tensor 'IteratorGetNext:0' shape=(None,) dtype=string>, 'USER_RESIDENCE': <tf.Tensor 'IteratorGetNext:3' shape=(None,) dtype=string>}. Consider rewriting this model with the Functional API.\n",
      "WARNING:tensorflow:Layers in a Sequential model should only have a single input tensor. Received: inputs={'ITEM_ID': <tf.Tensor 'IteratorGetNext:1' shape=(None,) dtype=string>}. Consider rewriting this model with the Functional API.\n",
      "WARNING:tensorflow:Layers in a Sequential model should only have a single input tensor. Received: inputs={'USER_ID': <tf.Tensor 'IteratorGetNext:2' shape=(None,) dtype=string>, 'CABIN_TYPE': <tf.Tensor 'IteratorGetNext:0' shape=(None,) dtype=string>, 'USER_RESIDENCE': <tf.Tensor 'IteratorGetNext:3' shape=(None,) dtype=string>}. Consider rewriting this model with the Functional API.\n",
      "WARNING:tensorflow:Layers in a Sequential model should only have a single input tensor. Received: inputs={'ITEM_ID': <tf.Tensor 'IteratorGetNext:1' shape=(None,) dtype=string>}. Consider rewriting this model with the Functional API.\n",
      "62/62 [==============================] - ETA: 0s - factorized_top_k/top_3_categorical_accuracy: 0.0607 - factorized_top_k/top_5_categorical_accuracy: 0.1112 - factorized_top_k/top_10_categorical_accuracy: 0.2122 - factorized_top_k/top_15_categorical_accuracy: 0.2784 - factorized_top_k/top_25_categorical_accuracy: 0.3744 - loss: 2982.0636 - regularization_loss: 0.0000e+00 - total_loss: 2982.0636WARNING:tensorflow:Layers in a Sequential model should only have a single input tensor. Received: inputs={'USER_ID': <tf.Tensor 'IteratorGetNext:2' shape=(None,) dtype=string>, 'CABIN_TYPE': <tf.Tensor 'IteratorGetNext:0' shape=(None,) dtype=string>, 'USER_RESIDENCE': <tf.Tensor 'IteratorGetNext:3' shape=(None,) dtype=string>}. Consider rewriting this model with the Functional API.\n",
      "WARNING:tensorflow:Layers in a Sequential model should only have a single input tensor. Received: inputs={'ITEM_ID': <tf.Tensor 'IteratorGetNext:1' shape=(None,) dtype=string>}. Consider rewriting this model with the Functional API.\n",
      "62/62 [==============================] - 4s 55ms/step - factorized_top_k/top_3_categorical_accuracy: 0.0607 - factorized_top_k/top_5_categorical_accuracy: 0.1112 - factorized_top_k/top_10_categorical_accuracy: 0.2122 - factorized_top_k/top_15_categorical_accuracy: 0.2784 - factorized_top_k/top_25_categorical_accuracy: 0.3744 - loss: 2944.3048 - regularization_loss: 0.0000e+00 - total_loss: 2944.3048 - val_factorized_top_k/top_3_categorical_accuracy: 0.0875 - val_factorized_top_k/top_5_categorical_accuracy: 0.1271 - val_factorized_top_k/top_10_categorical_accuracy: 0.2729 - val_factorized_top_k/top_15_categorical_accuracy: 0.3257 - val_factorized_top_k/top_25_categorical_accuracy: 0.4106 - val_loss: 2259.5398 - val_regularization_loss: 0.0000e+00 - val_total_loss: 2259.5398 - lr: 0.0100\n",
      "Epoch 2/100\n",
      "62/62 [==============================] - 3s 51ms/step - factorized_top_k/top_3_categorical_accuracy: 0.2120 - factorized_top_k/top_5_categorical_accuracy: 0.3091 - factorized_top_k/top_10_categorical_accuracy: 0.4572 - factorized_top_k/top_15_categorical_accuracy: 0.5398 - factorized_top_k/top_25_categorical_accuracy: 0.6419 - loss: 2510.9196 - regularization_loss: 0.0000e+00 - total_loss: 2510.9196 - val_factorized_top_k/top_3_categorical_accuracy: 0.1208 - val_factorized_top_k/top_5_categorical_accuracy: 0.1776 - val_factorized_top_k/top_10_categorical_accuracy: 0.2737 - val_factorized_top_k/top_15_categorical_accuracy: 0.3280 - val_factorized_top_k/top_25_categorical_accuracy: 0.4060 - val_loss: 2318.1731 - val_regularization_loss: 0.0000e+00 - val_total_loss: 2318.1731 - lr: 0.0100\n",
      "Epoch 3/100\n",
      "62/62 [==============================] - 3s 50ms/step - factorized_top_k/top_3_categorical_accuracy: 0.4695 - factorized_top_k/top_5_categorical_accuracy: 0.5793 - factorized_top_k/top_10_categorical_accuracy: 0.6951 - factorized_top_k/top_15_categorical_accuracy: 0.7460 - factorized_top_k/top_25_categorical_accuracy: 0.8017 - loss: 1993.0489 - regularization_loss: 0.0000e+00 - total_loss: 1993.0489 - val_factorized_top_k/top_3_categorical_accuracy: 0.0821 - val_factorized_top_k/top_5_categorical_accuracy: 0.1188 - val_factorized_top_k/top_10_categorical_accuracy: 0.1722 - val_factorized_top_k/top_15_categorical_accuracy: 0.2172 - val_factorized_top_k/top_25_categorical_accuracy: 0.2760 - val_loss: 2510.3923 - val_regularization_loss: 0.0000e+00 - val_total_loss: 2510.3923 - lr: 0.0100\n",
      "Epoch 4/100\n",
      "62/62 [==============================] - 3s 50ms/step - factorized_top_k/top_3_categorical_accuracy: 0.6346 - factorized_top_k/top_5_categorical_accuracy: 0.7031 - factorized_top_k/top_10_categorical_accuracy: 0.7657 - factorized_top_k/top_15_categorical_accuracy: 0.7972 - factorized_top_k/top_25_categorical_accuracy: 0.8351 - loss: 1651.7676 - regularization_loss: 0.0000e+00 - total_loss: 1651.7676 - val_factorized_top_k/top_3_categorical_accuracy: 0.0976 - val_factorized_top_k/top_5_categorical_accuracy: 0.1254 - val_factorized_top_k/top_10_categorical_accuracy: 0.1822 - val_factorized_top_k/top_15_categorical_accuracy: 0.2327 - val_factorized_top_k/top_25_categorical_accuracy: 0.3205 - val_loss: 2649.0051 - val_regularization_loss: 0.0000e+00 - val_total_loss: 2649.0051 - lr: 0.0100\n",
      "Epoch 5/100\n",
      "62/62 [==============================] - 3s 49ms/step - factorized_top_k/top_3_categorical_accuracy: 0.6838 - factorized_top_k/top_5_categorical_accuracy: 0.7320 - factorized_top_k/top_10_categorical_accuracy: 0.7870 - factorized_top_k/top_15_categorical_accuracy: 0.8175 - factorized_top_k/top_25_categorical_accuracy: 0.8541 - loss: 1499.8885 - regularization_loss: 0.0000e+00 - total_loss: 1499.8885 - val_factorized_top_k/top_3_categorical_accuracy: 0.1093 - val_factorized_top_k/top_5_categorical_accuracy: 0.1463 - val_factorized_top_k/top_10_categorical_accuracy: 0.2063 - val_factorized_top_k/top_15_categorical_accuracy: 0.2623 - val_factorized_top_k/top_25_categorical_accuracy: 0.3549 - val_loss: 2611.8159 - val_regularization_loss: 0.0000e+00 - val_total_loss: 2611.8159 - lr: 0.0100\n",
      "Epoch 6/100\n",
      "62/62 [==============================] - 3s 50ms/step - factorized_top_k/top_3_categorical_accuracy: 0.7063 - factorized_top_k/top_5_categorical_accuracy: 0.7485 - factorized_top_k/top_10_categorical_accuracy: 0.7993 - factorized_top_k/top_15_categorical_accuracy: 0.8281 - factorized_top_k/top_25_categorical_accuracy: 0.8650 - loss: 1422.3647 - regularization_loss: 0.0000e+00 - total_loss: 1422.3647 - val_factorized_top_k/top_3_categorical_accuracy: 0.1056 - val_factorized_top_k/top_5_categorical_accuracy: 0.1443 - val_factorized_top_k/top_10_categorical_accuracy: 0.2063 - val_factorized_top_k/top_15_categorical_accuracy: 0.2594 - val_factorized_top_k/top_25_categorical_accuracy: 0.3455 - val_loss: 2631.0474 - val_regularization_loss: 0.0000e+00 - val_total_loss: 2631.0474 - lr: 0.0100\n",
      "Epoch 7/100\n",
      "62/62 [==============================] - 3s 49ms/step - factorized_top_k/top_3_categorical_accuracy: 0.7127 - factorized_top_k/top_5_categorical_accuracy: 0.7537 - factorized_top_k/top_10_categorical_accuracy: 0.8066 - factorized_top_k/top_15_categorical_accuracy: 0.8358 - factorized_top_k/top_25_categorical_accuracy: 0.8736 - loss: 1385.4855 - regularization_loss: 0.0000e+00 - total_loss: 1385.4855 - val_factorized_top_k/top_3_categorical_accuracy: 0.1056 - val_factorized_top_k/top_5_categorical_accuracy: 0.1426 - val_factorized_top_k/top_10_categorical_accuracy: 0.2141 - val_factorized_top_k/top_15_categorical_accuracy: 0.2617 - val_factorized_top_k/top_25_categorical_accuracy: 0.3481 - val_loss: 2619.5474 - val_regularization_loss: 0.0000e+00 - val_total_loss: 2619.5474 - lr: 0.0100\n",
      "Epoch 8/100\n"
     ]
    },
    {
     "name": "stdout",
     "output_type": "stream",
     "text": [
      "62/62 [==============================] - 3s 49ms/step - factorized_top_k/top_3_categorical_accuracy: 0.7215 - factorized_top_k/top_5_categorical_accuracy: 0.7609 - factorized_top_k/top_10_categorical_accuracy: 0.8153 - factorized_top_k/top_15_categorical_accuracy: 0.8450 - factorized_top_k/top_25_categorical_accuracy: 0.8830 - loss: 1351.3477 - regularization_loss: 0.0000e+00 - total_loss: 1351.3477 - val_factorized_top_k/top_3_categorical_accuracy: 0.1102 - val_factorized_top_k/top_5_categorical_accuracy: 0.1478 - val_factorized_top_k/top_10_categorical_accuracy: 0.2095 - val_factorized_top_k/top_15_categorical_accuracy: 0.2680 - val_factorized_top_k/top_25_categorical_accuracy: 0.3489 - val_loss: 2625.7820 - val_regularization_loss: 0.0000e+00 - val_total_loss: 2625.7820 - lr: 0.0100\n",
      "Epoch 9/100\n",
      "62/62 [==============================] - 3s 51ms/step - factorized_top_k/top_3_categorical_accuracy: 0.7332 - factorized_top_k/top_5_categorical_accuracy: 0.7750 - factorized_top_k/top_10_categorical_accuracy: 0.8289 - factorized_top_k/top_15_categorical_accuracy: 0.8574 - factorized_top_k/top_25_categorical_accuracy: 0.8900 - loss: 1326.4062 - regularization_loss: 0.0000e+00 - total_loss: 1326.4062 - val_factorized_top_k/top_3_categorical_accuracy: 0.1228 - val_factorized_top_k/top_5_categorical_accuracy: 0.1544 - val_factorized_top_k/top_10_categorical_accuracy: 0.2250 - val_factorized_top_k/top_15_categorical_accuracy: 0.2864 - val_factorized_top_k/top_25_categorical_accuracy: 0.3624 - val_loss: 2624.5857 - val_regularization_loss: 0.0000e+00 - val_total_loss: 2624.5857 - lr: 0.0100\n",
      "Epoch 10/100\n",
      "62/62 [==============================] - 3s 49ms/step - factorized_top_k/top_3_categorical_accuracy: 0.7381 - factorized_top_k/top_5_categorical_accuracy: 0.7823 - factorized_top_k/top_10_categorical_accuracy: 0.8375 - factorized_top_k/top_15_categorical_accuracy: 0.8662 - factorized_top_k/top_25_categorical_accuracy: 0.9000 - loss: 1302.1638 - regularization_loss: 0.0000e+00 - total_loss: 1302.1638 - val_factorized_top_k/top_3_categorical_accuracy: 0.1240 - val_factorized_top_k/top_5_categorical_accuracy: 0.1696 - val_factorized_top_k/top_10_categorical_accuracy: 0.2407 - val_factorized_top_k/top_15_categorical_accuracy: 0.2912 - val_factorized_top_k/top_25_categorical_accuracy: 0.3684 - val_loss: 2596.1260 - val_regularization_loss: 0.0000e+00 - val_total_loss: 2596.1260 - lr: 0.0100\n",
      "Epoch 11/100\n",
      "62/62 [==============================] - 3s 51ms/step - factorized_top_k/top_3_categorical_accuracy: 0.7439 - factorized_top_k/top_5_categorical_accuracy: 0.7881 - factorized_top_k/top_10_categorical_accuracy: 0.8434 - factorized_top_k/top_15_categorical_accuracy: 0.8731 - factorized_top_k/top_25_categorical_accuracy: 0.9060 - loss: 1279.7332 - regularization_loss: 0.0000e+00 - total_loss: 1279.7332 - val_factorized_top_k/top_3_categorical_accuracy: 0.1369 - val_factorized_top_k/top_5_categorical_accuracy: 0.1739 - val_factorized_top_k/top_10_categorical_accuracy: 0.2522 - val_factorized_top_k/top_15_categorical_accuracy: 0.3113 - val_factorized_top_k/top_25_categorical_accuracy: 0.3983 - val_loss: 2617.6260 - val_regularization_loss: 0.0000e+00 - val_total_loss: 2617.6260 - lr: 0.0100\n",
      "Epoch 12/100\n",
      "62/62 [==============================] - 3s 50ms/step - factorized_top_k/top_3_categorical_accuracy: 0.7636 - factorized_top_k/top_5_categorical_accuracy: 0.8135 - factorized_top_k/top_10_categorical_accuracy: 0.8694 - factorized_top_k/top_15_categorical_accuracy: 0.8964 - factorized_top_k/top_25_categorical_accuracy: 0.9276 - loss: 1217.2074 - regularization_loss: 0.0000e+00 - total_loss: 1217.2074 - val_factorized_top_k/top_3_categorical_accuracy: 0.1317 - val_factorized_top_k/top_5_categorical_accuracy: 0.1733 - val_factorized_top_k/top_10_categorical_accuracy: 0.2577 - val_factorized_top_k/top_15_categorical_accuracy: 0.3125 - val_factorized_top_k/top_25_categorical_accuracy: 0.3905 - val_loss: 2722.4873 - val_regularization_loss: 0.0000e+00 - val_total_loss: 2722.4873 - lr: 0.0060\n",
      "Epoch 13/100\n",
      "62/62 [==============================] - 3s 50ms/step - factorized_top_k/top_3_categorical_accuracy: 0.7744 - factorized_top_k/top_5_categorical_accuracy: 0.8252 - factorized_top_k/top_10_categorical_accuracy: 0.8798 - factorized_top_k/top_15_categorical_accuracy: 0.9061 - factorized_top_k/top_25_categorical_accuracy: 0.9346 - loss: 1195.6715 - regularization_loss: 0.0000e+00 - total_loss: 1195.6715 - val_factorized_top_k/top_3_categorical_accuracy: 0.1294 - val_factorized_top_k/top_5_categorical_accuracy: 0.1730 - val_factorized_top_k/top_10_categorical_accuracy: 0.2482 - val_factorized_top_k/top_15_categorical_accuracy: 0.3122 - val_factorized_top_k/top_25_categorical_accuracy: 0.3963 - val_loss: 2706.1274 - val_regularization_loss: 0.0000e+00 - val_total_loss: 2706.1274 - lr: 0.0060\n",
      "Epoch 14/100\n",
      "62/62 [==============================] - 3s 49ms/step - factorized_top_k/top_3_categorical_accuracy: 0.7809 - factorized_top_k/top_5_categorical_accuracy: 0.8294 - factorized_top_k/top_10_categorical_accuracy: 0.8846 - factorized_top_k/top_15_categorical_accuracy: 0.9108 - factorized_top_k/top_25_categorical_accuracy: 0.9376 - loss: 1183.0092 - regularization_loss: 0.0000e+00 - total_loss: 1183.0092 - val_factorized_top_k/top_3_categorical_accuracy: 0.1280 - val_factorized_top_k/top_5_categorical_accuracy: 0.1661 - val_factorized_top_k/top_10_categorical_accuracy: 0.2385 - val_factorized_top_k/top_15_categorical_accuracy: 0.2912 - val_factorized_top_k/top_25_categorical_accuracy: 0.3773 - val_loss: 2733.0850 - val_regularization_loss: 0.0000e+00 - val_total_loss: 2733.0850 - lr: 0.0060\n",
      "Epoch 15/100\n",
      "62/62 [==============================] - 3s 50ms/step - factorized_top_k/top_3_categorical_accuracy: 0.7834 - factorized_top_k/top_5_categorical_accuracy: 0.8339 - factorized_top_k/top_10_categorical_accuracy: 0.8893 - factorized_top_k/top_15_categorical_accuracy: 0.9142 - factorized_top_k/top_25_categorical_accuracy: 0.9407 - loss: 1174.6702 - regularization_loss: 0.0000e+00 - total_loss: 1174.6702 - val_factorized_top_k/top_3_categorical_accuracy: 0.1509 - val_factorized_top_k/top_5_categorical_accuracy: 0.1960 - val_factorized_top_k/top_10_categorical_accuracy: 0.2689 - val_factorized_top_k/top_15_categorical_accuracy: 0.3202 - val_factorized_top_k/top_25_categorical_accuracy: 0.3997 - val_loss: 2773.1406 - val_regularization_loss: 0.0000e+00 - val_total_loss: 2773.1406 - lr: 0.0060\n",
      "Epoch 16/100\n",
      "62/62 [==============================] - 3s 51ms/step - factorized_top_k/top_3_categorical_accuracy: 0.7883 - factorized_top_k/top_5_categorical_accuracy: 0.8408 - factorized_top_k/top_10_categorical_accuracy: 0.8945 - factorized_top_k/top_15_categorical_accuracy: 0.9201 - factorized_top_k/top_25_categorical_accuracy: 0.9445 - loss: 1170.0050 - regularization_loss: 0.0000e+00 - total_loss: 1170.0050 - val_factorized_top_k/top_3_categorical_accuracy: 0.1446 - val_factorized_top_k/top_5_categorical_accuracy: 0.1948 - val_factorized_top_k/top_10_categorical_accuracy: 0.2677 - val_factorized_top_k/top_15_categorical_accuracy: 0.3113 - val_factorized_top_k/top_25_categorical_accuracy: 0.3977 - val_loss: 2728.6399 - val_regularization_loss: 0.0000e+00 - val_total_loss: 2728.6399 - lr: 0.0060\n",
      "Epoch 17/100\n",
      "62/62 [==============================] - 3s 52ms/step - factorized_top_k/top_3_categorical_accuracy: 0.7921 - factorized_top_k/top_5_categorical_accuracy: 0.8444 - factorized_top_k/top_10_categorical_accuracy: 0.8973 - factorized_top_k/top_15_categorical_accuracy: 0.9222 - factorized_top_k/top_25_categorical_accuracy: 0.9461 - loss: 1160.3851 - regularization_loss: 0.0000e+00 - total_loss: 1160.3851 - val_factorized_top_k/top_3_categorical_accuracy: 0.1584 - val_factorized_top_k/top_5_categorical_accuracy: 0.2080 - val_factorized_top_k/top_10_categorical_accuracy: 0.2838 - val_factorized_top_k/top_15_categorical_accuracy: 0.3297 - val_factorized_top_k/top_25_categorical_accuracy: 0.4146 - val_loss: 2758.4211 - val_regularization_loss: 0.0000e+00 - val_total_loss: 2758.4211 - lr: 0.0060\n",
      "Epoch 18/100\n"
     ]
    },
    {
     "name": "stdout",
     "output_type": "stream",
     "text": [
      "62/62 [==============================] - 3s 50ms/step - factorized_top_k/top_3_categorical_accuracy: 0.7941 - factorized_top_k/top_5_categorical_accuracy: 0.8457 - factorized_top_k/top_10_categorical_accuracy: 0.9006 - factorized_top_k/top_15_categorical_accuracy: 0.9250 - factorized_top_k/top_25_categorical_accuracy: 0.9495 - loss: 1155.1792 - regularization_loss: 0.0000e+00 - total_loss: 1155.1792 - val_factorized_top_k/top_3_categorical_accuracy: 0.1484 - val_factorized_top_k/top_5_categorical_accuracy: 0.2006 - val_factorized_top_k/top_10_categorical_accuracy: 0.2778 - val_factorized_top_k/top_15_categorical_accuracy: 0.3346 - val_factorized_top_k/top_25_categorical_accuracy: 0.4129 - val_loss: 2742.9885 - val_regularization_loss: 0.0000e+00 - val_total_loss: 2742.9885 - lr: 0.0060\n",
      "Epoch 19/100\n",
      "62/62 [==============================] - 3s 52ms/step - factorized_top_k/top_3_categorical_accuracy: 0.7986 - factorized_top_k/top_5_categorical_accuracy: 0.8531 - factorized_top_k/top_10_categorical_accuracy: 0.9069 - factorized_top_k/top_15_categorical_accuracy: 0.9278 - factorized_top_k/top_25_categorical_accuracy: 0.9522 - loss: 1147.6437 - regularization_loss: 0.0000e+00 - total_loss: 1147.6437 - val_factorized_top_k/top_3_categorical_accuracy: 0.1466 - val_factorized_top_k/top_5_categorical_accuracy: 0.2060 - val_factorized_top_k/top_10_categorical_accuracy: 0.2904 - val_factorized_top_k/top_15_categorical_accuracy: 0.3329 - val_factorized_top_k/top_25_categorical_accuracy: 0.4106 - val_loss: 2753.4663 - val_regularization_loss: 0.0000e+00 - val_total_loss: 2753.4663 - lr: 0.0060\n",
      "Epoch 20/100\n",
      "62/62 [==============================] - 3s 50ms/step - factorized_top_k/top_3_categorical_accuracy: 0.8023 - factorized_top_k/top_5_categorical_accuracy: 0.8564 - factorized_top_k/top_10_categorical_accuracy: 0.9078 - factorized_top_k/top_15_categorical_accuracy: 0.9312 - factorized_top_k/top_25_categorical_accuracy: 0.9549 - loss: 1139.0981 - regularization_loss: 0.0000e+00 - total_loss: 1139.0981 - val_factorized_top_k/top_3_categorical_accuracy: 0.1604 - val_factorized_top_k/top_5_categorical_accuracy: 0.2089 - val_factorized_top_k/top_10_categorical_accuracy: 0.2867 - val_factorized_top_k/top_15_categorical_accuracy: 0.3380 - val_factorized_top_k/top_25_categorical_accuracy: 0.4166 - val_loss: 2758.0645 - val_regularization_loss: 0.0000e+00 - val_total_loss: 2758.0645 - lr: 0.0060\n",
      "Epoch 21/100\n",
      "62/62 [==============================] - 3s 50ms/step - factorized_top_k/top_3_categorical_accuracy: 0.8039 - factorized_top_k/top_5_categorical_accuracy: 0.8591 - factorized_top_k/top_10_categorical_accuracy: 0.9127 - factorized_top_k/top_15_categorical_accuracy: 0.9343 - factorized_top_k/top_25_categorical_accuracy: 0.9571 - loss: 1135.3068 - regularization_loss: 0.0000e+00 - total_loss: 1135.3068 - val_factorized_top_k/top_3_categorical_accuracy: 0.1549 - val_factorized_top_k/top_5_categorical_accuracy: 0.2103 - val_factorized_top_k/top_10_categorical_accuracy: 0.2875 - val_factorized_top_k/top_15_categorical_accuracy: 0.3397 - val_factorized_top_k/top_25_categorical_accuracy: 0.4172 - val_loss: 2750.4233 - val_regularization_loss: 0.0000e+00 - val_total_loss: 2750.4233 - lr: 0.0060\n",
      "Epoch 22/100\n",
      "62/62 [==============================] - 3s 50ms/step - factorized_top_k/top_3_categorical_accuracy: 0.8065 - factorized_top_k/top_5_categorical_accuracy: 0.8621 - factorized_top_k/top_10_categorical_accuracy: 0.9161 - factorized_top_k/top_15_categorical_accuracy: 0.9370 - factorized_top_k/top_25_categorical_accuracy: 0.9594 - loss: 1130.6337 - regularization_loss: 0.0000e+00 - total_loss: 1130.6337 - val_factorized_top_k/top_3_categorical_accuracy: 0.1446 - val_factorized_top_k/top_5_categorical_accuracy: 0.1917 - val_factorized_top_k/top_10_categorical_accuracy: 0.2700 - val_factorized_top_k/top_15_categorical_accuracy: 0.3277 - val_factorized_top_k/top_25_categorical_accuracy: 0.4020 - val_loss: 2755.6411 - val_regularization_loss: 0.0000e+00 - val_total_loss: 2755.6411 - lr: 0.0060\n",
      "Epoch 23/100\n",
      "62/62 [==============================] - 3s 52ms/step - factorized_top_k/top_3_categorical_accuracy: 0.8109 - factorized_top_k/top_5_categorical_accuracy: 0.8659 - factorized_top_k/top_10_categorical_accuracy: 0.9171 - factorized_top_k/top_15_categorical_accuracy: 0.9389 - factorized_top_k/top_25_categorical_accuracy: 0.9602 - loss: 1126.9079 - regularization_loss: 0.0000e+00 - total_loss: 1126.9079 - val_factorized_top_k/top_3_categorical_accuracy: 0.1552 - val_factorized_top_k/top_5_categorical_accuracy: 0.2103 - val_factorized_top_k/top_10_categorical_accuracy: 0.2944 - val_factorized_top_k/top_15_categorical_accuracy: 0.3469 - val_factorized_top_k/top_25_categorical_accuracy: 0.4221 - val_loss: 2766.9622 - val_regularization_loss: 0.0000e+00 - val_total_loss: 2766.9622 - lr: 0.0060\n",
      "Epoch 24/100\n",
      "62/62 [==============================] - 3s 50ms/step - factorized_top_k/top_3_categorical_accuracy: 0.8133 - factorized_top_k/top_5_categorical_accuracy: 0.8702 - factorized_top_k/top_10_categorical_accuracy: 0.9202 - factorized_top_k/top_15_categorical_accuracy: 0.9411 - factorized_top_k/top_25_categorical_accuracy: 0.9620 - loss: 1122.0541 - regularization_loss: 0.0000e+00 - total_loss: 1122.0541 - val_factorized_top_k/top_3_categorical_accuracy: 0.1552 - val_factorized_top_k/top_5_categorical_accuracy: 0.2092 - val_factorized_top_k/top_10_categorical_accuracy: 0.2898 - val_factorized_top_k/top_15_categorical_accuracy: 0.3377 - val_factorized_top_k/top_25_categorical_accuracy: 0.4184 - val_loss: 2738.9883 - val_regularization_loss: 0.0000e+00 - val_total_loss: 2738.9883 - lr: 0.0060\n",
      "Epoch 25/100\n",
      "62/62 [==============================] - 3s 50ms/step - factorized_top_k/top_3_categorical_accuracy: 0.8161 - factorized_top_k/top_5_categorical_accuracy: 0.8731 - factorized_top_k/top_10_categorical_accuracy: 0.9218 - factorized_top_k/top_15_categorical_accuracy: 0.9438 - factorized_top_k/top_25_categorical_accuracy: 0.9643 - loss: 1117.5391 - regularization_loss: 0.0000e+00 - total_loss: 1117.5391 - val_factorized_top_k/top_3_categorical_accuracy: 0.1397 - val_factorized_top_k/top_5_categorical_accuracy: 0.1868 - val_factorized_top_k/top_10_categorical_accuracy: 0.2712 - val_factorized_top_k/top_15_categorical_accuracy: 0.3237 - val_factorized_top_k/top_25_categorical_accuracy: 0.4126 - val_loss: 2757.6978 - val_regularization_loss: 0.0000e+00 - val_total_loss: 2757.6978 - lr: 0.0060\n",
      "Epoch 26/100\n",
      "62/62 [==============================] - 3s 52ms/step - factorized_top_k/top_3_categorical_accuracy: 0.8183 - factorized_top_k/top_5_categorical_accuracy: 0.8742 - factorized_top_k/top_10_categorical_accuracy: 0.9236 - factorized_top_k/top_15_categorical_accuracy: 0.9446 - factorized_top_k/top_25_categorical_accuracy: 0.9644 - loss: 1114.1531 - regularization_loss: 0.0000e+00 - total_loss: 1114.1531 - val_factorized_top_k/top_3_categorical_accuracy: 0.1624 - val_factorized_top_k/top_5_categorical_accuracy: 0.2207 - val_factorized_top_k/top_10_categorical_accuracy: 0.2956 - val_factorized_top_k/top_15_categorical_accuracy: 0.3541 - val_factorized_top_k/top_25_categorical_accuracy: 0.4376 - val_loss: 2735.5625 - val_regularization_loss: 0.0000e+00 - val_total_loss: 2735.5625 - lr: 0.0060\n",
      "Epoch 27/100\n",
      "62/62 [==============================] - 3s 51ms/step - factorized_top_k/top_3_categorical_accuracy: 0.8232 - factorized_top_k/top_5_categorical_accuracy: 0.8775 - factorized_top_k/top_10_categorical_accuracy: 0.9254 - factorized_top_k/top_15_categorical_accuracy: 0.9470 - factorized_top_k/top_25_categorical_accuracy: 0.9665 - loss: 1108.2185 - regularization_loss: 0.0000e+00 - total_loss: 1108.2185 - val_factorized_top_k/top_3_categorical_accuracy: 0.1676 - val_factorized_top_k/top_5_categorical_accuracy: 0.2215 - val_factorized_top_k/top_10_categorical_accuracy: 0.3007 - val_factorized_top_k/top_15_categorical_accuracy: 0.3538 - val_factorized_top_k/top_25_categorical_accuracy: 0.4313 - val_loss: 2752.9890 - val_regularization_loss: 0.0000e+00 - val_total_loss: 2752.9890 - lr: 0.0060\n",
      "Epoch 28/100\n"
     ]
    },
    {
     "name": "stdout",
     "output_type": "stream",
     "text": [
      "62/62 [==============================] - 3s 49ms/step - factorized_top_k/top_3_categorical_accuracy: 0.8233 - factorized_top_k/top_5_categorical_accuracy: 0.8790 - factorized_top_k/top_10_categorical_accuracy: 0.9277 - factorized_top_k/top_15_categorical_accuracy: 0.9479 - factorized_top_k/top_25_categorical_accuracy: 0.9656 - loss: 1104.5741 - regularization_loss: 0.0000e+00 - total_loss: 1104.5741 - val_factorized_top_k/top_3_categorical_accuracy: 0.1572 - val_factorized_top_k/top_5_categorical_accuracy: 0.2149 - val_factorized_top_k/top_10_categorical_accuracy: 0.2996 - val_factorized_top_k/top_15_categorical_accuracy: 0.3492 - val_factorized_top_k/top_25_categorical_accuracy: 0.4209 - val_loss: 2753.9443 - val_regularization_loss: 0.0000e+00 - val_total_loss: 2753.9443 - lr: 0.0060\n",
      "Epoch 29/100\n",
      "62/62 [==============================] - 3s 50ms/step - factorized_top_k/top_3_categorical_accuracy: 0.8268 - factorized_top_k/top_5_categorical_accuracy: 0.8831 - factorized_top_k/top_10_categorical_accuracy: 0.9321 - factorized_top_k/top_15_categorical_accuracy: 0.9507 - factorized_top_k/top_25_categorical_accuracy: 0.9690 - loss: 1101.5071 - regularization_loss: 0.0000e+00 - total_loss: 1101.5071 - val_factorized_top_k/top_3_categorical_accuracy: 0.1506 - val_factorized_top_k/top_5_categorical_accuracy: 0.2077 - val_factorized_top_k/top_10_categorical_accuracy: 0.2895 - val_factorized_top_k/top_15_categorical_accuracy: 0.3423 - val_factorized_top_k/top_25_categorical_accuracy: 0.4267 - val_loss: 2777.7483 - val_regularization_loss: 0.0000e+00 - val_total_loss: 2777.7483 - lr: 0.0060\n",
      "Epoch 30/100\n",
      "62/62 [==============================] - 3s 50ms/step - factorized_top_k/top_3_categorical_accuracy: 0.8283 - factorized_top_k/top_5_categorical_accuracy: 0.8827 - factorized_top_k/top_10_categorical_accuracy: 0.9324 - factorized_top_k/top_15_categorical_accuracy: 0.9522 - factorized_top_k/top_25_categorical_accuracy: 0.9698 - loss: 1098.6106 - regularization_loss: 0.0000e+00 - total_loss: 1098.6106 - val_factorized_top_k/top_3_categorical_accuracy: 0.1567 - val_factorized_top_k/top_5_categorical_accuracy: 0.2138 - val_factorized_top_k/top_10_categorical_accuracy: 0.2904 - val_factorized_top_k/top_15_categorical_accuracy: 0.3489 - val_factorized_top_k/top_25_categorical_accuracy: 0.4281 - val_loss: 2763.8057 - val_regularization_loss: 0.0000e+00 - val_total_loss: 2763.8057 - lr: 0.0060\n",
      "Epoch 31/100\n",
      "62/62 [==============================] - 3s 50ms/step - factorized_top_k/top_3_categorical_accuracy: 0.8283 - factorized_top_k/top_5_categorical_accuracy: 0.8845 - factorized_top_k/top_10_categorical_accuracy: 0.9328 - factorized_top_k/top_15_categorical_accuracy: 0.9529 - factorized_top_k/top_25_categorical_accuracy: 0.9706 - loss: 1095.2095 - regularization_loss: 0.0000e+00 - total_loss: 1095.2095 - val_factorized_top_k/top_3_categorical_accuracy: 0.1475 - val_factorized_top_k/top_5_categorical_accuracy: 0.1974 - val_factorized_top_k/top_10_categorical_accuracy: 0.2869 - val_factorized_top_k/top_15_categorical_accuracy: 0.3380 - val_factorized_top_k/top_25_categorical_accuracy: 0.4112 - val_loss: 2768.5654 - val_regularization_loss: 0.0000e+00 - val_total_loss: 2768.5654 - lr: 0.0060\n",
      "Epoch 32/100\n",
      "62/62 [==============================] - 3s 51ms/step - factorized_top_k/top_3_categorical_accuracy: 0.8317 - factorized_top_k/top_5_categorical_accuracy: 0.8866 - factorized_top_k/top_10_categorical_accuracy: 0.9355 - factorized_top_k/top_15_categorical_accuracy: 0.9538 - factorized_top_k/top_25_categorical_accuracy: 0.9706 - loss: 1092.4839 - regularization_loss: 0.0000e+00 - total_loss: 1092.4839 - val_factorized_top_k/top_3_categorical_accuracy: 0.1664 - val_factorized_top_k/top_5_categorical_accuracy: 0.2230 - val_factorized_top_k/top_10_categorical_accuracy: 0.3056 - val_factorized_top_k/top_15_categorical_accuracy: 0.3595 - val_factorized_top_k/top_25_categorical_accuracy: 0.4347 - val_loss: 2778.7805 - val_regularization_loss: 0.0000e+00 - val_total_loss: 2778.7805 - lr: 0.0060\n",
      "Epoch 33/100\n",
      "62/62 [==============================] - 3s 50ms/step - factorized_top_k/top_3_categorical_accuracy: 0.8338 - factorized_top_k/top_5_categorical_accuracy: 0.8912 - factorized_top_k/top_10_categorical_accuracy: 0.9376 - factorized_top_k/top_15_categorical_accuracy: 0.9560 - factorized_top_k/top_25_categorical_accuracy: 0.9719 - loss: 1092.1706 - regularization_loss: 0.0000e+00 - total_loss: 1092.1706 - val_factorized_top_k/top_3_categorical_accuracy: 0.1659 - val_factorized_top_k/top_5_categorical_accuracy: 0.2207 - val_factorized_top_k/top_10_categorical_accuracy: 0.2987 - val_factorized_top_k/top_15_categorical_accuracy: 0.3541 - val_factorized_top_k/top_25_categorical_accuracy: 0.4281 - val_loss: 2782.0632 - val_regularization_loss: 0.0000e+00 - val_total_loss: 2782.0632 - lr: 0.0060\n",
      "Epoch 34/100\n",
      "62/62 [==============================] - 3s 53ms/step - factorized_top_k/top_3_categorical_accuracy: 0.8335 - factorized_top_k/top_5_categorical_accuracy: 0.8913 - factorized_top_k/top_10_categorical_accuracy: 0.9382 - factorized_top_k/top_15_categorical_accuracy: 0.9571 - factorized_top_k/top_25_categorical_accuracy: 0.9734 - loss: 1087.6134 - regularization_loss: 0.0000e+00 - total_loss: 1087.6134 - val_factorized_top_k/top_3_categorical_accuracy: 0.1644 - val_factorized_top_k/top_5_categorical_accuracy: 0.2178 - val_factorized_top_k/top_10_categorical_accuracy: 0.3102 - val_factorized_top_k/top_15_categorical_accuracy: 0.3624 - val_factorized_top_k/top_25_categorical_accuracy: 0.4379 - val_loss: 2776.1423 - val_regularization_loss: 0.0000e+00 - val_total_loss: 2776.1423 - lr: 0.0060\n",
      "Epoch 35/100\n",
      "62/62 [==============================] - 3s 50ms/step - factorized_top_k/top_3_categorical_accuracy: 0.8360 - factorized_top_k/top_5_categorical_accuracy: 0.8914 - factorized_top_k/top_10_categorical_accuracy: 0.9409 - factorized_top_k/top_15_categorical_accuracy: 0.9580 - factorized_top_k/top_25_categorical_accuracy: 0.9737 - loss: 1081.8927 - regularization_loss: 0.0000e+00 - total_loss: 1081.8927 - val_factorized_top_k/top_3_categorical_accuracy: 0.1673 - val_factorized_top_k/top_5_categorical_accuracy: 0.2261 - val_factorized_top_k/top_10_categorical_accuracy: 0.3093 - val_factorized_top_k/top_15_categorical_accuracy: 0.3590 - val_factorized_top_k/top_25_categorical_accuracy: 0.4485 - val_loss: 2777.5769 - val_regularization_loss: 0.0000e+00 - val_total_loss: 2777.5769 - lr: 0.0060\n",
      "Epoch 36/100\n",
      "62/62 [==============================] - 3s 50ms/step - factorized_top_k/top_3_categorical_accuracy: 0.8383 - factorized_top_k/top_5_categorical_accuracy: 0.8944 - factorized_top_k/top_10_categorical_accuracy: 0.9416 - factorized_top_k/top_15_categorical_accuracy: 0.9590 - factorized_top_k/top_25_categorical_accuracy: 0.9745 - loss: 1079.4867 - regularization_loss: 0.0000e+00 - total_loss: 1079.4867 - val_factorized_top_k/top_3_categorical_accuracy: 0.1469 - val_factorized_top_k/top_5_categorical_accuracy: 0.2072 - val_factorized_top_k/top_10_categorical_accuracy: 0.3001 - val_factorized_top_k/top_15_categorical_accuracy: 0.3552 - val_factorized_top_k/top_25_categorical_accuracy: 0.4227 - val_loss: 2779.7344 - val_regularization_loss: 0.0000e+00 - val_total_loss: 2779.7344 - lr: 0.0060\n",
      "Epoch 37/100\n",
      "62/62 [==============================] - 3s 51ms/step - factorized_top_k/top_3_categorical_accuracy: 0.8383 - factorized_top_k/top_5_categorical_accuracy: 0.8950 - factorized_top_k/top_10_categorical_accuracy: 0.9427 - factorized_top_k/top_15_categorical_accuracy: 0.9610 - factorized_top_k/top_25_categorical_accuracy: 0.9755 - loss: 1078.0972 - regularization_loss: 0.0000e+00 - total_loss: 1078.0972 - val_factorized_top_k/top_3_categorical_accuracy: 0.1859 - val_factorized_top_k/top_5_categorical_accuracy: 0.2402 - val_factorized_top_k/top_10_categorical_accuracy: 0.3168 - val_factorized_top_k/top_15_categorical_accuracy: 0.3653 - val_factorized_top_k/top_25_categorical_accuracy: 0.4445 - val_loss: 2808.2581 - val_regularization_loss: 0.0000e+00 - val_total_loss: 2808.2581 - lr: 0.0060\n",
      "Epoch 38/100\n"
     ]
    },
    {
     "name": "stdout",
     "output_type": "stream",
     "text": [
      "62/62 [==============================] - 3s 50ms/step - factorized_top_k/top_3_categorical_accuracy: 0.8393 - factorized_top_k/top_5_categorical_accuracy: 0.8972 - factorized_top_k/top_10_categorical_accuracy: 0.9435 - factorized_top_k/top_15_categorical_accuracy: 0.9605 - factorized_top_k/top_25_categorical_accuracy: 0.9755 - loss: 1078.2730 - regularization_loss: 0.0000e+00 - total_loss: 1078.2730 - val_factorized_top_k/top_3_categorical_accuracy: 0.1693 - val_factorized_top_k/top_5_categorical_accuracy: 0.2241 - val_factorized_top_k/top_10_categorical_accuracy: 0.3044 - val_factorized_top_k/top_15_categorical_accuracy: 0.3524 - val_factorized_top_k/top_25_categorical_accuracy: 0.4273 - val_loss: 2794.6125 - val_regularization_loss: 0.0000e+00 - val_total_loss: 2794.6125 - lr: 0.0060\n",
      "Epoch 39/100\n",
      "62/62 [==============================] - 3s 51ms/step - factorized_top_k/top_3_categorical_accuracy: 0.8404 - factorized_top_k/top_5_categorical_accuracy: 0.8991 - factorized_top_k/top_10_categorical_accuracy: 0.9457 - factorized_top_k/top_15_categorical_accuracy: 0.9625 - factorized_top_k/top_25_categorical_accuracy: 0.9771 - loss: 1077.3606 - regularization_loss: 0.0000e+00 - total_loss: 1077.3606 - val_factorized_top_k/top_3_categorical_accuracy: 0.1713 - val_factorized_top_k/top_5_categorical_accuracy: 0.2298 - val_factorized_top_k/top_10_categorical_accuracy: 0.3096 - val_factorized_top_k/top_15_categorical_accuracy: 0.3587 - val_factorized_top_k/top_25_categorical_accuracy: 0.4385 - val_loss: 2787.8711 - val_regularization_loss: 0.0000e+00 - val_total_loss: 2787.8711 - lr: 0.0060\n",
      "Epoch 40/100\n",
      "62/62 [==============================] - 3s 50ms/step - factorized_top_k/top_3_categorical_accuracy: 0.8418 - factorized_top_k/top_5_categorical_accuracy: 0.9001 - factorized_top_k/top_10_categorical_accuracy: 0.9456 - factorized_top_k/top_15_categorical_accuracy: 0.9628 - factorized_top_k/top_25_categorical_accuracy: 0.9768 - loss: 1073.2195 - regularization_loss: 0.0000e+00 - total_loss: 1073.2195 - val_factorized_top_k/top_3_categorical_accuracy: 0.1736 - val_factorized_top_k/top_5_categorical_accuracy: 0.2313 - val_factorized_top_k/top_10_categorical_accuracy: 0.3156 - val_factorized_top_k/top_15_categorical_accuracy: 0.3587 - val_factorized_top_k/top_25_categorical_accuracy: 0.4456 - val_loss: 2795.5129 - val_regularization_loss: 0.0000e+00 - val_total_loss: 2795.5129 - lr: 0.0060\n",
      "Epoch 41/100\n",
      "62/62 [==============================] - 3s 50ms/step - factorized_top_k/top_3_categorical_accuracy: 0.8441 - factorized_top_k/top_5_categorical_accuracy: 0.9015 - factorized_top_k/top_10_categorical_accuracy: 0.9458 - factorized_top_k/top_15_categorical_accuracy: 0.9637 - factorized_top_k/top_25_categorical_accuracy: 0.9780 - loss: 1072.3907 - regularization_loss: 0.0000e+00 - total_loss: 1072.3907 - val_factorized_top_k/top_3_categorical_accuracy: 0.1725 - val_factorized_top_k/top_5_categorical_accuracy: 0.2273 - val_factorized_top_k/top_10_categorical_accuracy: 0.3022 - val_factorized_top_k/top_15_categorical_accuracy: 0.3555 - val_factorized_top_k/top_25_categorical_accuracy: 0.4385 - val_loss: 2803.9551 - val_regularization_loss: 0.0000e+00 - val_total_loss: 2803.9551 - lr: 0.0060\n",
      "Epoch 42/100\n",
      "62/62 [==============================] - 3s 50ms/step - factorized_top_k/top_3_categorical_accuracy: 0.8446 - factorized_top_k/top_5_categorical_accuracy: 0.9023 - factorized_top_k/top_10_categorical_accuracy: 0.9469 - factorized_top_k/top_15_categorical_accuracy: 0.9648 - factorized_top_k/top_25_categorical_accuracy: 0.9788 - loss: 1069.4338 - regularization_loss: 0.0000e+00 - total_loss: 1069.4338 - val_factorized_top_k/top_3_categorical_accuracy: 0.1782 - val_factorized_top_k/top_5_categorical_accuracy: 0.2428 - val_factorized_top_k/top_10_categorical_accuracy: 0.3159 - val_factorized_top_k/top_15_categorical_accuracy: 0.3647 - val_factorized_top_k/top_25_categorical_accuracy: 0.4488 - val_loss: 2800.3481 - val_regularization_loss: 0.0000e+00 - val_total_loss: 2800.3481 - lr: 0.0060\n",
      "Epoch 43/100\n",
      "62/62 [==============================] - 3s 50ms/step - factorized_top_k/top_3_categorical_accuracy: 0.8451 - factorized_top_k/top_5_categorical_accuracy: 0.9025 - factorized_top_k/top_10_categorical_accuracy: 0.9484 - factorized_top_k/top_15_categorical_accuracy: 0.9647 - factorized_top_k/top_25_categorical_accuracy: 0.9794 - loss: 1066.7289 - regularization_loss: 0.0000e+00 - total_loss: 1066.7289 - val_factorized_top_k/top_3_categorical_accuracy: 0.1825 - val_factorized_top_k/top_5_categorical_accuracy: 0.2428 - val_factorized_top_k/top_10_categorical_accuracy: 0.3148 - val_factorized_top_k/top_15_categorical_accuracy: 0.3673 - val_factorized_top_k/top_25_categorical_accuracy: 0.4382 - val_loss: 2798.9094 - val_regularization_loss: 0.0000e+00 - val_total_loss: 2798.9094 - lr: 0.0060\n",
      "Epoch 44/100\n",
      "62/62 [==============================] - 3s 51ms/step - factorized_top_k/top_3_categorical_accuracy: 0.8451 - factorized_top_k/top_5_categorical_accuracy: 0.9044 - factorized_top_k/top_10_categorical_accuracy: 0.9486 - factorized_top_k/top_15_categorical_accuracy: 0.9658 - factorized_top_k/top_25_categorical_accuracy: 0.9789 - loss: 1069.3170 - regularization_loss: 0.0000e+00 - total_loss: 1069.3170 - val_factorized_top_k/top_3_categorical_accuracy: 0.1851 - val_factorized_top_k/top_5_categorical_accuracy: 0.2430 - val_factorized_top_k/top_10_categorical_accuracy: 0.3205 - val_factorized_top_k/top_15_categorical_accuracy: 0.3644 - val_factorized_top_k/top_25_categorical_accuracy: 0.4488 - val_loss: 2789.5239 - val_regularization_loss: 0.0000e+00 - val_total_loss: 2789.5239 - lr: 0.0060\n",
      "Epoch 45/100\n",
      "62/62 [==============================] - 3s 50ms/step - factorized_top_k/top_3_categorical_accuracy: 0.8470 - factorized_top_k/top_5_categorical_accuracy: 0.9055 - factorized_top_k/top_10_categorical_accuracy: 0.9498 - factorized_top_k/top_15_categorical_accuracy: 0.9669 - factorized_top_k/top_25_categorical_accuracy: 0.9802 - loss: 1062.2578 - regularization_loss: 0.0000e+00 - total_loss: 1062.2578 - val_factorized_top_k/top_3_categorical_accuracy: 0.1768 - val_factorized_top_k/top_5_categorical_accuracy: 0.2244 - val_factorized_top_k/top_10_categorical_accuracy: 0.3024 - val_factorized_top_k/top_15_categorical_accuracy: 0.3555 - val_factorized_top_k/top_25_categorical_accuracy: 0.4379 - val_loss: 2797.4163 - val_regularization_loss: 0.0000e+00 - val_total_loss: 2797.4163 - lr: 0.0060\n",
      "Epoch 46/100\n",
      "62/62 [==============================] - 3s 50ms/step - factorized_top_k/top_3_categorical_accuracy: 0.8487 - factorized_top_k/top_5_categorical_accuracy: 0.9061 - factorized_top_k/top_10_categorical_accuracy: 0.9505 - factorized_top_k/top_15_categorical_accuracy: 0.9674 - factorized_top_k/top_25_categorical_accuracy: 0.9807 - loss: 1064.5091 - regularization_loss: 0.0000e+00 - total_loss: 1064.5091 - val_factorized_top_k/top_3_categorical_accuracy: 0.1793 - val_factorized_top_k/top_5_categorical_accuracy: 0.2284 - val_factorized_top_k/top_10_categorical_accuracy: 0.3136 - val_factorized_top_k/top_15_categorical_accuracy: 0.3656 - val_factorized_top_k/top_25_categorical_accuracy: 0.4390 - val_loss: 2786.3760 - val_regularization_loss: 0.0000e+00 - val_total_loss: 2786.3760 - lr: 0.0060\n",
      "Epoch 47/100\n",
      "62/62 [==============================] - 4s 56ms/step - factorized_top_k/top_3_categorical_accuracy: 0.8482 - factorized_top_k/top_5_categorical_accuracy: 0.9062 - factorized_top_k/top_10_categorical_accuracy: 0.9511 - factorized_top_k/top_15_categorical_accuracy: 0.9673 - factorized_top_k/top_25_categorical_accuracy: 0.9808 - loss: 1060.7231 - regularization_loss: 0.0000e+00 - total_loss: 1060.7231 - val_factorized_top_k/top_3_categorical_accuracy: 0.1802 - val_factorized_top_k/top_5_categorical_accuracy: 0.2353 - val_factorized_top_k/top_10_categorical_accuracy: 0.3220 - val_factorized_top_k/top_15_categorical_accuracy: 0.3716 - val_factorized_top_k/top_25_categorical_accuracy: 0.4465 - val_loss: 2806.0515 - val_regularization_loss: 0.0000e+00 - val_total_loss: 2806.0515 - lr: 0.0060\n",
      "Epoch 48/100\n"
     ]
    },
    {
     "name": "stdout",
     "output_type": "stream",
     "text": [
      "62/62 [==============================] - 3s 53ms/step - factorized_top_k/top_3_categorical_accuracy: 0.8493 - factorized_top_k/top_5_categorical_accuracy: 0.9079 - factorized_top_k/top_10_categorical_accuracy: 0.9520 - factorized_top_k/top_15_categorical_accuracy: 0.9676 - factorized_top_k/top_25_categorical_accuracy: 0.9818 - loss: 1058.1379 - regularization_loss: 0.0000e+00 - total_loss: 1058.1379 - val_factorized_top_k/top_3_categorical_accuracy: 0.1851 - val_factorized_top_k/top_5_categorical_accuracy: 0.2393 - val_factorized_top_k/top_10_categorical_accuracy: 0.3274 - val_factorized_top_k/top_15_categorical_accuracy: 0.3765 - val_factorized_top_k/top_25_categorical_accuracy: 0.4528 - val_loss: 2790.2058 - val_regularization_loss: 0.0000e+00 - val_total_loss: 2790.2058 - lr: 0.0060\n",
      "Epoch 49/100\n",
      "62/62 [==============================] - 3s 53ms/step - factorized_top_k/top_3_categorical_accuracy: 0.8509 - factorized_top_k/top_5_categorical_accuracy: 0.9083 - factorized_top_k/top_10_categorical_accuracy: 0.9525 - factorized_top_k/top_15_categorical_accuracy: 0.9682 - factorized_top_k/top_25_categorical_accuracy: 0.9809 - loss: 1057.4423 - regularization_loss: 0.0000e+00 - total_loss: 1057.4423 - val_factorized_top_k/top_3_categorical_accuracy: 0.1813 - val_factorized_top_k/top_5_categorical_accuracy: 0.2402 - val_factorized_top_k/top_10_categorical_accuracy: 0.3188 - val_factorized_top_k/top_15_categorical_accuracy: 0.3702 - val_factorized_top_k/top_25_categorical_accuracy: 0.4502 - val_loss: 2799.4065 - val_regularization_loss: 0.0000e+00 - val_total_loss: 2799.4065 - lr: 0.0060\n",
      "Epoch 50/100\n",
      "62/62 [==============================] - 3s 51ms/step - factorized_top_k/top_3_categorical_accuracy: 0.8530 - factorized_top_k/top_5_categorical_accuracy: 0.9106 - factorized_top_k/top_10_categorical_accuracy: 0.9538 - factorized_top_k/top_15_categorical_accuracy: 0.9698 - factorized_top_k/top_25_categorical_accuracy: 0.9823 - loss: 1057.4619 - regularization_loss: 0.0000e+00 - total_loss: 1057.4619 - val_factorized_top_k/top_3_categorical_accuracy: 0.1874 - val_factorized_top_k/top_5_categorical_accuracy: 0.2422 - val_factorized_top_k/top_10_categorical_accuracy: 0.3240 - val_factorized_top_k/top_15_categorical_accuracy: 0.3707 - val_factorized_top_k/top_25_categorical_accuracy: 0.4539 - val_loss: 2807.1284 - val_regularization_loss: 0.0000e+00 - val_total_loss: 2807.1284 - lr: 0.0060\n",
      "Epoch 51/100\n",
      "62/62 [==============================] - 3s 54ms/step - factorized_top_k/top_3_categorical_accuracy: 0.8519 - factorized_top_k/top_5_categorical_accuracy: 0.9110 - factorized_top_k/top_10_categorical_accuracy: 0.9549 - factorized_top_k/top_15_categorical_accuracy: 0.9701 - factorized_top_k/top_25_categorical_accuracy: 0.9820 - loss: 1056.8969 - regularization_loss: 0.0000e+00 - total_loss: 1056.8969 - val_factorized_top_k/top_3_categorical_accuracy: 0.1828 - val_factorized_top_k/top_5_categorical_accuracy: 0.2387 - val_factorized_top_k/top_10_categorical_accuracy: 0.3214 - val_factorized_top_k/top_15_categorical_accuracy: 0.3742 - val_factorized_top_k/top_25_categorical_accuracy: 0.4539 - val_loss: 2792.1287 - val_regularization_loss: 0.0000e+00 - val_total_loss: 2792.1287 - lr: 0.0060\n",
      "Epoch 52/100\n",
      "62/62 [==============================] - 4s 56ms/step - factorized_top_k/top_3_categorical_accuracy: 0.8517 - factorized_top_k/top_5_categorical_accuracy: 0.9099 - factorized_top_k/top_10_categorical_accuracy: 0.9552 - factorized_top_k/top_15_categorical_accuracy: 0.9693 - factorized_top_k/top_25_categorical_accuracy: 0.9822 - loss: 1057.2763 - regularization_loss: 0.0000e+00 - total_loss: 1057.2763 - val_factorized_top_k/top_3_categorical_accuracy: 0.2014 - val_factorized_top_k/top_5_categorical_accuracy: 0.2600 - val_factorized_top_k/top_10_categorical_accuracy: 0.3274 - val_factorized_top_k/top_15_categorical_accuracy: 0.3802 - val_factorized_top_k/top_25_categorical_accuracy: 0.4640 - val_loss: 2802.1130 - val_regularization_loss: 0.0000e+00 - val_total_loss: 2802.1130 - lr: 0.0060\n",
      "Epoch 53/100\n",
      "62/62 [==============================] - 3s 52ms/step - factorized_top_k/top_3_categorical_accuracy: 0.8541 - factorized_top_k/top_5_categorical_accuracy: 0.9123 - factorized_top_k/top_10_categorical_accuracy: 0.9548 - factorized_top_k/top_15_categorical_accuracy: 0.9698 - factorized_top_k/top_25_categorical_accuracy: 0.9831 - loss: 1055.5870 - regularization_loss: 0.0000e+00 - total_loss: 1055.5870 - val_factorized_top_k/top_3_categorical_accuracy: 0.1722 - val_factorized_top_k/top_5_categorical_accuracy: 0.2356 - val_factorized_top_k/top_10_categorical_accuracy: 0.3168 - val_factorized_top_k/top_15_categorical_accuracy: 0.3641 - val_factorized_top_k/top_25_categorical_accuracy: 0.4376 - val_loss: 2797.0742 - val_regularization_loss: 0.0000e+00 - val_total_loss: 2797.0742 - lr: 0.0060\n",
      "Epoch 54/100\n",
      "62/62 [==============================] - 3s 49ms/step - factorized_top_k/top_3_categorical_accuracy: 0.8511 - factorized_top_k/top_5_categorical_accuracy: 0.9114 - factorized_top_k/top_10_categorical_accuracy: 0.9553 - factorized_top_k/top_15_categorical_accuracy: 0.9704 - factorized_top_k/top_25_categorical_accuracy: 0.9835 - loss: 1055.8184 - regularization_loss: 0.0000e+00 - total_loss: 1055.8184 - val_factorized_top_k/top_3_categorical_accuracy: 0.1808 - val_factorized_top_k/top_5_categorical_accuracy: 0.2402 - val_factorized_top_k/top_10_categorical_accuracy: 0.3133 - val_factorized_top_k/top_15_categorical_accuracy: 0.3725 - val_factorized_top_k/top_25_categorical_accuracy: 0.4614 - val_loss: 2788.0933 - val_regularization_loss: 0.0000e+00 - val_total_loss: 2788.0933 - lr: 0.0060\n",
      "Epoch 55/100\n",
      "62/62 [==============================] - 3s 50ms/step - factorized_top_k/top_3_categorical_accuracy: 0.8529 - factorized_top_k/top_5_categorical_accuracy: 0.9108 - factorized_top_k/top_10_categorical_accuracy: 0.9550 - factorized_top_k/top_15_categorical_accuracy: 0.9704 - factorized_top_k/top_25_categorical_accuracy: 0.9837 - loss: 1050.9258 - regularization_loss: 0.0000e+00 - total_loss: 1050.9258 - val_factorized_top_k/top_3_categorical_accuracy: 0.1834 - val_factorized_top_k/top_5_categorical_accuracy: 0.2502 - val_factorized_top_k/top_10_categorical_accuracy: 0.3294 - val_factorized_top_k/top_15_categorical_accuracy: 0.3805 - val_factorized_top_k/top_25_categorical_accuracy: 0.4577 - val_loss: 2813.1792 - val_regularization_loss: 0.0000e+00 - val_total_loss: 2813.1792 - lr: 0.0060\n",
      "Epoch 56/100\n",
      "62/62 [==============================] - 3s 52ms/step - factorized_top_k/top_3_categorical_accuracy: 0.8528 - factorized_top_k/top_5_categorical_accuracy: 0.9110 - factorized_top_k/top_10_categorical_accuracy: 0.9550 - factorized_top_k/top_15_categorical_accuracy: 0.9704 - factorized_top_k/top_25_categorical_accuracy: 0.9829 - loss: 1050.7978 - regularization_loss: 0.0000e+00 - total_loss: 1050.7978 - val_factorized_top_k/top_3_categorical_accuracy: 0.1745 - val_factorized_top_k/top_5_categorical_accuracy: 0.2344 - val_factorized_top_k/top_10_categorical_accuracy: 0.3128 - val_factorized_top_k/top_15_categorical_accuracy: 0.3661 - val_factorized_top_k/top_25_categorical_accuracy: 0.4459 - val_loss: 2786.9443 - val_regularization_loss: 0.0000e+00 - val_total_loss: 2786.9443 - lr: 0.0060\n",
      "Epoch 57/100\n",
      "62/62 [==============================] - 3s 51ms/step - factorized_top_k/top_3_categorical_accuracy: 0.8545 - factorized_top_k/top_5_categorical_accuracy: 0.9119 - factorized_top_k/top_10_categorical_accuracy: 0.9560 - factorized_top_k/top_15_categorical_accuracy: 0.9720 - factorized_top_k/top_25_categorical_accuracy: 0.9837 - loss: 1050.6898 - regularization_loss: 0.0000e+00 - total_loss: 1050.6898 - val_factorized_top_k/top_3_categorical_accuracy: 0.1584 - val_factorized_top_k/top_5_categorical_accuracy: 0.2215 - val_factorized_top_k/top_10_categorical_accuracy: 0.3168 - val_factorized_top_k/top_15_categorical_accuracy: 0.3716 - val_factorized_top_k/top_25_categorical_accuracy: 0.4456 - val_loss: 2798.0527 - val_regularization_loss: 0.0000e+00 - val_total_loss: 2798.0527 - lr: 0.0060\n",
      "Epoch 58/100\n"
     ]
    },
    {
     "name": "stdout",
     "output_type": "stream",
     "text": [
      "62/62 [==============================] - 3s 53ms/step - factorized_top_k/top_3_categorical_accuracy: 0.8551 - factorized_top_k/top_5_categorical_accuracy: 0.9138 - factorized_top_k/top_10_categorical_accuracy: 0.9572 - factorized_top_k/top_15_categorical_accuracy: 0.9723 - factorized_top_k/top_25_categorical_accuracy: 0.9842 - loss: 1050.8590 - regularization_loss: 0.0000e+00 - total_loss: 1050.8590 - val_factorized_top_k/top_3_categorical_accuracy: 0.1802 - val_factorized_top_k/top_5_categorical_accuracy: 0.2407 - val_factorized_top_k/top_10_categorical_accuracy: 0.3188 - val_factorized_top_k/top_15_categorical_accuracy: 0.3742 - val_factorized_top_k/top_25_categorical_accuracy: 0.4516 - val_loss: 2776.5068 - val_regularization_loss: 0.0000e+00 - val_total_loss: 2776.5068 - lr: 0.0060\n",
      "Epoch 59/100\n",
      "62/62 [==============================] - 3s 51ms/step - factorized_top_k/top_3_categorical_accuracy: 0.8551 - factorized_top_k/top_5_categorical_accuracy: 0.9124 - factorized_top_k/top_10_categorical_accuracy: 0.9562 - factorized_top_k/top_15_categorical_accuracy: 0.9719 - factorized_top_k/top_25_categorical_accuracy: 0.9845 - loss: 1049.6059 - regularization_loss: 0.0000e+00 - total_loss: 1049.6059 - val_factorized_top_k/top_3_categorical_accuracy: 0.1871 - val_factorized_top_k/top_5_categorical_accuracy: 0.2519 - val_factorized_top_k/top_10_categorical_accuracy: 0.3231 - val_factorized_top_k/top_15_categorical_accuracy: 0.3707 - val_factorized_top_k/top_25_categorical_accuracy: 0.4548 - val_loss: 2814.3440 - val_regularization_loss: 0.0000e+00 - val_total_loss: 2814.3440 - lr: 0.0060\n",
      "Epoch 60/100\n",
      "62/62 [==============================] - 3s 52ms/step - factorized_top_k/top_3_categorical_accuracy: 0.8586 - factorized_top_k/top_5_categorical_accuracy: 0.9165 - factorized_top_k/top_10_categorical_accuracy: 0.9575 - factorized_top_k/top_15_categorical_accuracy: 0.9722 - factorized_top_k/top_25_categorical_accuracy: 0.9850 - loss: 1047.8637 - regularization_loss: 0.0000e+00 - total_loss: 1047.8637 - val_factorized_top_k/top_3_categorical_accuracy: 0.1914 - val_factorized_top_k/top_5_categorical_accuracy: 0.2488 - val_factorized_top_k/top_10_categorical_accuracy: 0.3334 - val_factorized_top_k/top_15_categorical_accuracy: 0.3819 - val_factorized_top_k/top_25_categorical_accuracy: 0.4565 - val_loss: 2819.8123 - val_regularization_loss: 0.0000e+00 - val_total_loss: 2819.8123 - lr: 0.0060\n",
      "Epoch 61/100\n",
      "62/62 [==============================] - 3s 51ms/step - factorized_top_k/top_3_categorical_accuracy: 0.8545 - factorized_top_k/top_5_categorical_accuracy: 0.9147 - factorized_top_k/top_10_categorical_accuracy: 0.9575 - factorized_top_k/top_15_categorical_accuracy: 0.9719 - factorized_top_k/top_25_categorical_accuracy: 0.9851 - loss: 1045.8757 - regularization_loss: 0.0000e+00 - total_loss: 1045.8757 - val_factorized_top_k/top_3_categorical_accuracy: 0.1816 - val_factorized_top_k/top_5_categorical_accuracy: 0.2405 - val_factorized_top_k/top_10_categorical_accuracy: 0.3228 - val_factorized_top_k/top_15_categorical_accuracy: 0.3756 - val_factorized_top_k/top_25_categorical_accuracy: 0.4519 - val_loss: 2793.5466 - val_regularization_loss: 0.0000e+00 - val_total_loss: 2793.5466 - lr: 0.0060\n",
      "Epoch 62/100\n",
      "62/62 [==============================] - 3s 52ms/step - factorized_top_k/top_3_categorical_accuracy: 0.8580 - factorized_top_k/top_5_categorical_accuracy: 0.9165 - factorized_top_k/top_10_categorical_accuracy: 0.9578 - factorized_top_k/top_15_categorical_accuracy: 0.9733 - factorized_top_k/top_25_categorical_accuracy: 0.9853 - loss: 1045.2836 - regularization_loss: 0.0000e+00 - total_loss: 1045.2836 - val_factorized_top_k/top_3_categorical_accuracy: 0.1788 - val_factorized_top_k/top_5_categorical_accuracy: 0.2459 - val_factorized_top_k/top_10_categorical_accuracy: 0.3374 - val_factorized_top_k/top_15_categorical_accuracy: 0.3776 - val_factorized_top_k/top_25_categorical_accuracy: 0.4502 - val_loss: 2818.9768 - val_regularization_loss: 0.0000e+00 - val_total_loss: 2818.9768 - lr: 0.0060\n",
      "Epoch 63/100\n",
      "62/62 [==============================] - 3s 50ms/step - factorized_top_k/top_3_categorical_accuracy: 0.8579 - factorized_top_k/top_5_categorical_accuracy: 0.9163 - factorized_top_k/top_10_categorical_accuracy: 0.9581 - factorized_top_k/top_15_categorical_accuracy: 0.9739 - factorized_top_k/top_25_categorical_accuracy: 0.9854 - loss: 1046.9883 - regularization_loss: 0.0000e+00 - total_loss: 1046.9883 - val_factorized_top_k/top_3_categorical_accuracy: 0.1773 - val_factorized_top_k/top_5_categorical_accuracy: 0.2321 - val_factorized_top_k/top_10_categorical_accuracy: 0.3139 - val_factorized_top_k/top_15_categorical_accuracy: 0.3636 - val_factorized_top_k/top_25_categorical_accuracy: 0.4436 - val_loss: 2818.6082 - val_regularization_loss: 0.0000e+00 - val_total_loss: 2818.6082 - lr: 0.0060\n",
      "Epoch 64/100\n",
      "62/62 [==============================] - 3s 50ms/step - factorized_top_k/top_3_categorical_accuracy: 0.8582 - factorized_top_k/top_5_categorical_accuracy: 0.9159 - factorized_top_k/top_10_categorical_accuracy: 0.9586 - factorized_top_k/top_15_categorical_accuracy: 0.9732 - factorized_top_k/top_25_categorical_accuracy: 0.9856 - loss: 1045.5468 - regularization_loss: 0.0000e+00 - total_loss: 1045.5468 - val_factorized_top_k/top_3_categorical_accuracy: 0.1945 - val_factorized_top_k/top_5_categorical_accuracy: 0.2442 - val_factorized_top_k/top_10_categorical_accuracy: 0.3297 - val_factorized_top_k/top_15_categorical_accuracy: 0.3765 - val_factorized_top_k/top_25_categorical_accuracy: 0.4560 - val_loss: 2821.2764 - val_regularization_loss: 0.0000e+00 - val_total_loss: 2821.2764 - lr: 0.0060\n",
      "Epoch 65/100\n",
      "62/62 [==============================] - 3s 50ms/step - factorized_top_k/top_3_categorical_accuracy: 0.8602 - factorized_top_k/top_5_categorical_accuracy: 0.9185 - factorized_top_k/top_10_categorical_accuracy: 0.9605 - factorized_top_k/top_15_categorical_accuracy: 0.9748 - factorized_top_k/top_25_categorical_accuracy: 0.9862 - loss: 1045.2083 - regularization_loss: 0.0000e+00 - total_loss: 1045.2083 - val_factorized_top_k/top_3_categorical_accuracy: 0.1871 - val_factorized_top_k/top_5_categorical_accuracy: 0.2471 - val_factorized_top_k/top_10_categorical_accuracy: 0.3220 - val_factorized_top_k/top_15_categorical_accuracy: 0.3759 - val_factorized_top_k/top_25_categorical_accuracy: 0.4631 - val_loss: 2808.8320 - val_regularization_loss: 0.0000e+00 - val_total_loss: 2808.8320 - lr: 0.0060\n",
      "Epoch 66/100\n",
      "62/62 [==============================] - 3s 50ms/step - factorized_top_k/top_3_categorical_accuracy: 0.8591 - factorized_top_k/top_5_categorical_accuracy: 0.9175 - factorized_top_k/top_10_categorical_accuracy: 0.9610 - factorized_top_k/top_15_categorical_accuracy: 0.9754 - factorized_top_k/top_25_categorical_accuracy: 0.9865 - loss: 1040.9176 - regularization_loss: 0.0000e+00 - total_loss: 1040.9176 - val_factorized_top_k/top_3_categorical_accuracy: 0.1954 - val_factorized_top_k/top_5_categorical_accuracy: 0.2485 - val_factorized_top_k/top_10_categorical_accuracy: 0.3251 - val_factorized_top_k/top_15_categorical_accuracy: 0.3793 - val_factorized_top_k/top_25_categorical_accuracy: 0.4528 - val_loss: 2836.1360 - val_regularization_loss: 0.0000e+00 - val_total_loss: 2836.1360 - lr: 0.0060\n",
      "Epoch 67/100\n",
      "62/62 [==============================] - 3s 51ms/step - factorized_top_k/top_3_categorical_accuracy: 0.8589 - factorized_top_k/top_5_categorical_accuracy: 0.9175 - factorized_top_k/top_10_categorical_accuracy: 0.9599 - factorized_top_k/top_15_categorical_accuracy: 0.9748 - factorized_top_k/top_25_categorical_accuracy: 0.9867 - loss: 1043.4232 - regularization_loss: 0.0000e+00 - total_loss: 1043.4232 - val_factorized_top_k/top_3_categorical_accuracy: 0.1900 - val_factorized_top_k/top_5_categorical_accuracy: 0.2494 - val_factorized_top_k/top_10_categorical_accuracy: 0.3234 - val_factorized_top_k/top_15_categorical_accuracy: 0.3713 - val_factorized_top_k/top_25_categorical_accuracy: 0.4511 - val_loss: 2821.6606 - val_regularization_loss: 0.0000e+00 - val_total_loss: 2821.6606 - lr: 0.0060\n",
      "Epoch 68/100\n"
     ]
    },
    {
     "name": "stdout",
     "output_type": "stream",
     "text": [
      "62/62 [==============================] - 3s 50ms/step - factorized_top_k/top_3_categorical_accuracy: 0.8580 - factorized_top_k/top_5_categorical_accuracy: 0.9195 - factorized_top_k/top_10_categorical_accuracy: 0.9613 - factorized_top_k/top_15_categorical_accuracy: 0.9753 - factorized_top_k/top_25_categorical_accuracy: 0.9862 - loss: 1043.1312 - regularization_loss: 0.0000e+00 - total_loss: 1043.1312 - val_factorized_top_k/top_3_categorical_accuracy: 0.1877 - val_factorized_top_k/top_5_categorical_accuracy: 0.2494 - val_factorized_top_k/top_10_categorical_accuracy: 0.3182 - val_factorized_top_k/top_15_categorical_accuracy: 0.3707 - val_factorized_top_k/top_25_categorical_accuracy: 0.4548 - val_loss: 2806.0564 - val_regularization_loss: 0.0000e+00 - val_total_loss: 2806.0564 - lr: 0.0060\n",
      "Epoch 69/100\n",
      "62/62 [==============================] - 3s 50ms/step - factorized_top_k/top_3_categorical_accuracy: 0.8593 - factorized_top_k/top_5_categorical_accuracy: 0.9192 - factorized_top_k/top_10_categorical_accuracy: 0.9595 - factorized_top_k/top_15_categorical_accuracy: 0.9745 - factorized_top_k/top_25_categorical_accuracy: 0.9866 - loss: 1042.6431 - regularization_loss: 0.0000e+00 - total_loss: 1042.6431 - val_factorized_top_k/top_3_categorical_accuracy: 0.1802 - val_factorized_top_k/top_5_categorical_accuracy: 0.2399 - val_factorized_top_k/top_10_categorical_accuracy: 0.3225 - val_factorized_top_k/top_15_categorical_accuracy: 0.3768 - val_factorized_top_k/top_25_categorical_accuracy: 0.4582 - val_loss: 2815.0142 - val_regularization_loss: 0.0000e+00 - val_total_loss: 2815.0142 - lr: 0.0060\n",
      "Epoch 70/100\n",
      "62/62 [==============================] - 3s 50ms/step - factorized_top_k/top_3_categorical_accuracy: 0.8622 - factorized_top_k/top_5_categorical_accuracy: 0.9196 - factorized_top_k/top_10_categorical_accuracy: 0.9601 - factorized_top_k/top_15_categorical_accuracy: 0.9750 - factorized_top_k/top_25_categorical_accuracy: 0.9868 - loss: 1040.6479 - regularization_loss: 0.0000e+00 - total_loss: 1040.6479 - val_factorized_top_k/top_3_categorical_accuracy: 0.1808 - val_factorized_top_k/top_5_categorical_accuracy: 0.2396 - val_factorized_top_k/top_10_categorical_accuracy: 0.3217 - val_factorized_top_k/top_15_categorical_accuracy: 0.3725 - val_factorized_top_k/top_25_categorical_accuracy: 0.4537 - val_loss: 2823.5364 - val_regularization_loss: 0.0000e+00 - val_total_loss: 2823.5364 - lr: 0.0060\n",
      "Epoch 71/100\n",
      "62/62 [==============================] - 3s 51ms/step - factorized_top_k/top_3_categorical_accuracy: 0.8594 - factorized_top_k/top_5_categorical_accuracy: 0.9209 - factorized_top_k/top_10_categorical_accuracy: 0.9621 - factorized_top_k/top_15_categorical_accuracy: 0.9758 - factorized_top_k/top_25_categorical_accuracy: 0.9870 - loss: 1041.6800 - regularization_loss: 0.0000e+00 - total_loss: 1041.6800 - val_factorized_top_k/top_3_categorical_accuracy: 0.1882 - val_factorized_top_k/top_5_categorical_accuracy: 0.2445 - val_factorized_top_k/top_10_categorical_accuracy: 0.3194 - val_factorized_top_k/top_15_categorical_accuracy: 0.3707 - val_factorized_top_k/top_25_categorical_accuracy: 0.4516 - val_loss: 2818.8904 - val_regularization_loss: 0.0000e+00 - val_total_loss: 2818.8904 - lr: 0.0060\n",
      "Epoch 72/100\n",
      "62/62 [==============================] - 3s 50ms/step - factorized_top_k/top_3_categorical_accuracy: 0.8670 - factorized_top_k/top_5_categorical_accuracy: 0.9273 - factorized_top_k/top_10_categorical_accuracy: 0.9659 - factorized_top_k/top_15_categorical_accuracy: 0.9789 - factorized_top_k/top_25_categorical_accuracy: 0.9891 - loss: 1017.1189 - regularization_loss: 0.0000e+00 - total_loss: 1017.1189 - val_factorized_top_k/top_3_categorical_accuracy: 0.1871 - val_factorized_top_k/top_5_categorical_accuracy: 0.2505 - val_factorized_top_k/top_10_categorical_accuracy: 0.3300 - val_factorized_top_k/top_15_categorical_accuracy: 0.3739 - val_factorized_top_k/top_25_categorical_accuracy: 0.4620 - val_loss: 2873.4097 - val_regularization_loss: 0.0000e+00 - val_total_loss: 2873.4097 - lr: 0.0036\n",
      "Epoch 73/100\n",
      "62/62 [==============================] - 3s 51ms/step - factorized_top_k/top_3_categorical_accuracy: 0.8687 - factorized_top_k/top_5_categorical_accuracy: 0.9292 - factorized_top_k/top_10_categorical_accuracy: 0.9685 - factorized_top_k/top_15_categorical_accuracy: 0.9804 - factorized_top_k/top_25_categorical_accuracy: 0.9897 - loss: 1012.7275 - regularization_loss: 0.0000e+00 - total_loss: 1012.7275 - val_factorized_top_k/top_3_categorical_accuracy: 0.1968 - val_factorized_top_k/top_5_categorical_accuracy: 0.2525 - val_factorized_top_k/top_10_categorical_accuracy: 0.3260 - val_factorized_top_k/top_15_categorical_accuracy: 0.3819 - val_factorized_top_k/top_25_categorical_accuracy: 0.4603 - val_loss: 2918.3176 - val_regularization_loss: 0.0000e+00 - val_total_loss: 2918.3176 - lr: 0.0036\n",
      "Epoch 74/100\n",
      "62/62 [==============================] - 3s 50ms/step - factorized_top_k/top_3_categorical_accuracy: 0.8708 - factorized_top_k/top_5_categorical_accuracy: 0.9316 - factorized_top_k/top_10_categorical_accuracy: 0.9690 - factorized_top_k/top_15_categorical_accuracy: 0.9808 - factorized_top_k/top_25_categorical_accuracy: 0.9899 - loss: 1013.8097 - regularization_loss: 0.0000e+00 - total_loss: 1013.8097 - val_factorized_top_k/top_3_categorical_accuracy: 0.2009 - val_factorized_top_k/top_5_categorical_accuracy: 0.2528 - val_factorized_top_k/top_10_categorical_accuracy: 0.3317 - val_factorized_top_k/top_15_categorical_accuracy: 0.3808 - val_factorized_top_k/top_25_categorical_accuracy: 0.4703 - val_loss: 2960.4480 - val_regularization_loss: 0.0000e+00 - val_total_loss: 2960.4480 - lr: 0.0036\n",
      "Epoch 75/100\n",
      "62/62 [==============================] - 3s 51ms/step - factorized_top_k/top_3_categorical_accuracy: 0.8700 - factorized_top_k/top_5_categorical_accuracy: 0.9319 - factorized_top_k/top_10_categorical_accuracy: 0.9692 - factorized_top_k/top_15_categorical_accuracy: 0.9811 - factorized_top_k/top_25_categorical_accuracy: 0.9902 - loss: 1012.9547 - regularization_loss: 0.0000e+00 - total_loss: 1012.9547 - val_factorized_top_k/top_3_categorical_accuracy: 0.1928 - val_factorized_top_k/top_5_categorical_accuracy: 0.2539 - val_factorized_top_k/top_10_categorical_accuracy: 0.3326 - val_factorized_top_k/top_15_categorical_accuracy: 0.3911 - val_factorized_top_k/top_25_categorical_accuracy: 0.4780 - val_loss: 2944.6162 - val_regularization_loss: 0.0000e+00 - val_total_loss: 2944.6162 - lr: 0.0036\n",
      "Epoch 76/100\n",
      "62/62 [==============================] - 3s 50ms/step - factorized_top_k/top_3_categorical_accuracy: 0.8717 - factorized_top_k/top_5_categorical_accuracy: 0.9317 - factorized_top_k/top_10_categorical_accuracy: 0.9699 - factorized_top_k/top_15_categorical_accuracy: 0.9817 - factorized_top_k/top_25_categorical_accuracy: 0.9903 - loss: 1014.8476 - regularization_loss: 0.0000e+00 - total_loss: 1014.8476 - val_factorized_top_k/top_3_categorical_accuracy: 0.1951 - val_factorized_top_k/top_5_categorical_accuracy: 0.2531 - val_factorized_top_k/top_10_categorical_accuracy: 0.3297 - val_factorized_top_k/top_15_categorical_accuracy: 0.3825 - val_factorized_top_k/top_25_categorical_accuracy: 0.4640 - val_loss: 2972.4170 - val_regularization_loss: 0.0000e+00 - val_total_loss: 2972.4170 - lr: 0.0036\n",
      "Epoch 77/100\n",
      "62/62 [==============================] - 3s 50ms/step - factorized_top_k/top_3_categorical_accuracy: 0.8716 - factorized_top_k/top_5_categorical_accuracy: 0.9306 - factorized_top_k/top_10_categorical_accuracy: 0.9695 - factorized_top_k/top_15_categorical_accuracy: 0.9813 - factorized_top_k/top_25_categorical_accuracy: 0.9906 - loss: 1010.4682 - regularization_loss: 0.0000e+00 - total_loss: 1010.4682 - val_factorized_top_k/top_3_categorical_accuracy: 0.1974 - val_factorized_top_k/top_5_categorical_accuracy: 0.2591 - val_factorized_top_k/top_10_categorical_accuracy: 0.3326 - val_factorized_top_k/top_15_categorical_accuracy: 0.3828 - val_factorized_top_k/top_25_categorical_accuracy: 0.4798 - val_loss: 2964.0522 - val_regularization_loss: 0.0000e+00 - val_total_loss: 2964.0522 - lr: 0.0036\n",
      "Epoch 78/100\n"
     ]
    },
    {
     "name": "stdout",
     "output_type": "stream",
     "text": [
      "62/62 [==============================] - 3s 55ms/step - factorized_top_k/top_3_categorical_accuracy: 0.8718 - factorized_top_k/top_5_categorical_accuracy: 0.9324 - factorized_top_k/top_10_categorical_accuracy: 0.9698 - factorized_top_k/top_15_categorical_accuracy: 0.9812 - factorized_top_k/top_25_categorical_accuracy: 0.9906 - loss: 1011.8246 - regularization_loss: 0.0000e+00 - total_loss: 1011.8246 - val_factorized_top_k/top_3_categorical_accuracy: 0.1888 - val_factorized_top_k/top_5_categorical_accuracy: 0.2571 - val_factorized_top_k/top_10_categorical_accuracy: 0.3349 - val_factorized_top_k/top_15_categorical_accuracy: 0.3793 - val_factorized_top_k/top_25_categorical_accuracy: 0.4651 - val_loss: 2950.7559 - val_regularization_loss: 0.0000e+00 - val_total_loss: 2950.7559 - lr: 0.0036\n",
      "Epoch 79/100\n",
      "62/62 [==============================] - 3s 52ms/step - factorized_top_k/top_3_categorical_accuracy: 0.8727 - factorized_top_k/top_5_categorical_accuracy: 0.9314 - factorized_top_k/top_10_categorical_accuracy: 0.9708 - factorized_top_k/top_15_categorical_accuracy: 0.9824 - factorized_top_k/top_25_categorical_accuracy: 0.9908 - loss: 1010.2776 - regularization_loss: 0.0000e+00 - total_loss: 1010.2776 - val_factorized_top_k/top_3_categorical_accuracy: 0.1897 - val_factorized_top_k/top_5_categorical_accuracy: 0.2491 - val_factorized_top_k/top_10_categorical_accuracy: 0.3297 - val_factorized_top_k/top_15_categorical_accuracy: 0.3831 - val_factorized_top_k/top_25_categorical_accuracy: 0.4686 - val_loss: 2969.1846 - val_regularization_loss: 0.0000e+00 - val_total_loss: 2969.1846 - lr: 0.0036\n",
      "Epoch 80/100\n",
      "62/62 [==============================] - 3s 52ms/step - factorized_top_k/top_3_categorical_accuracy: 0.8719 - factorized_top_k/top_5_categorical_accuracy: 0.9311 - factorized_top_k/top_10_categorical_accuracy: 0.9701 - factorized_top_k/top_15_categorical_accuracy: 0.9818 - factorized_top_k/top_25_categorical_accuracy: 0.9909 - loss: 1013.7808 - regularization_loss: 0.0000e+00 - total_loss: 1013.7808 - val_factorized_top_k/top_3_categorical_accuracy: 0.1920 - val_factorized_top_k/top_5_categorical_accuracy: 0.2534 - val_factorized_top_k/top_10_categorical_accuracy: 0.3343 - val_factorized_top_k/top_15_categorical_accuracy: 0.3776 - val_factorized_top_k/top_25_categorical_accuracy: 0.4660 - val_loss: 2965.9756 - val_regularization_loss: 0.0000e+00 - val_total_loss: 2965.9756 - lr: 0.0036\n",
      "Epoch 81/100\n",
      "62/62 [==============================] - 3s 50ms/step - factorized_top_k/top_3_categorical_accuracy: 0.8783 - factorized_top_k/top_5_categorical_accuracy: 0.9364 - factorized_top_k/top_10_categorical_accuracy: 0.9731 - factorized_top_k/top_15_categorical_accuracy: 0.9837 - factorized_top_k/top_25_categorical_accuracy: 0.9914 - loss: 995.6757 - regularization_loss: 0.0000e+00 - total_loss: 995.6757 - val_factorized_top_k/top_3_categorical_accuracy: 0.2014 - val_factorized_top_k/top_5_categorical_accuracy: 0.2557 - val_factorized_top_k/top_10_categorical_accuracy: 0.3363 - val_factorized_top_k/top_15_categorical_accuracy: 0.3871 - val_factorized_top_k/top_25_categorical_accuracy: 0.4723 - val_loss: 3000.5979 - val_regularization_loss: 0.0000e+00 - val_total_loss: 3000.5979 - lr: 0.0022\n",
      "Epoch 82/100\n",
      "62/62 [==============================] - 3s 53ms/step - factorized_top_k/top_3_categorical_accuracy: 0.8770 - factorized_top_k/top_5_categorical_accuracy: 0.9370 - factorized_top_k/top_10_categorical_accuracy: 0.9740 - factorized_top_k/top_15_categorical_accuracy: 0.9845 - factorized_top_k/top_25_categorical_accuracy: 0.9923 - loss: 993.9081 - regularization_loss: 0.0000e+00 - total_loss: 993.9081 - val_factorized_top_k/top_3_categorical_accuracy: 0.1971 - val_factorized_top_k/top_5_categorical_accuracy: 0.2551 - val_factorized_top_k/top_10_categorical_accuracy: 0.3363 - val_factorized_top_k/top_15_categorical_accuracy: 0.3802 - val_factorized_top_k/top_25_categorical_accuracy: 0.4648 - val_loss: 3024.3613 - val_regularization_loss: 0.0000e+00 - val_total_loss: 3024.3613 - lr: 0.0022\n",
      "Epoch 83/100\n",
      "62/62 [==============================] - 3s 55ms/step - factorized_top_k/top_3_categorical_accuracy: 0.8788 - factorized_top_k/top_5_categorical_accuracy: 0.9386 - factorized_top_k/top_10_categorical_accuracy: 0.9744 - factorized_top_k/top_15_categorical_accuracy: 0.9846 - factorized_top_k/top_25_categorical_accuracy: 0.9918 - loss: 994.2425 - regularization_loss: 0.0000e+00 - total_loss: 994.2425 - val_factorized_top_k/top_3_categorical_accuracy: 0.1934 - val_factorized_top_k/top_5_categorical_accuracy: 0.2634 - val_factorized_top_k/top_10_categorical_accuracy: 0.3397 - val_factorized_top_k/top_15_categorical_accuracy: 0.3868 - val_factorized_top_k/top_25_categorical_accuracy: 0.4712 - val_loss: 3037.2075 - val_regularization_loss: 0.0000e+00 - val_total_loss: 3037.2075 - lr: 0.0022\n",
      "Epoch 84/100\n",
      "62/62 [==============================] - 3s 51ms/step - factorized_top_k/top_3_categorical_accuracy: 0.8796 - factorized_top_k/top_5_categorical_accuracy: 0.9402 - factorized_top_k/top_10_categorical_accuracy: 0.9751 - factorized_top_k/top_15_categorical_accuracy: 0.9853 - factorized_top_k/top_25_categorical_accuracy: 0.9926 - loss: 993.8882 - regularization_loss: 0.0000e+00 - total_loss: 993.8882 - val_factorized_top_k/top_3_categorical_accuracy: 0.2029 - val_factorized_top_k/top_5_categorical_accuracy: 0.2600 - val_factorized_top_k/top_10_categorical_accuracy: 0.3317 - val_factorized_top_k/top_15_categorical_accuracy: 0.3819 - val_factorized_top_k/top_25_categorical_accuracy: 0.4683 - val_loss: 3073.4463 - val_regularization_loss: 0.0000e+00 - val_total_loss: 3073.4463 - lr: 0.0022\n",
      "Epoch 85/100\n",
      "62/62 [==============================] - 3s 52ms/step - factorized_top_k/top_3_categorical_accuracy: 0.8777 - factorized_top_k/top_5_categorical_accuracy: 0.9397 - factorized_top_k/top_10_categorical_accuracy: 0.9752 - factorized_top_k/top_15_categorical_accuracy: 0.9855 - factorized_top_k/top_25_categorical_accuracy: 0.9926 - loss: 993.6946 - regularization_loss: 0.0000e+00 - total_loss: 993.6946 - val_factorized_top_k/top_3_categorical_accuracy: 0.1925 - val_factorized_top_k/top_5_categorical_accuracy: 0.2614 - val_factorized_top_k/top_10_categorical_accuracy: 0.3409 - val_factorized_top_k/top_15_categorical_accuracy: 0.3859 - val_factorized_top_k/top_25_categorical_accuracy: 0.4732 - val_loss: 3079.4082 - val_regularization_loss: 0.0000e+00 - val_total_loss: 3079.4082 - lr: 0.0022\n",
      "Epoch 86/100\n",
      "62/62 [==============================] - 3s 51ms/step - factorized_top_k/top_3_categorical_accuracy: 0.8785 - factorized_top_k/top_5_categorical_accuracy: 0.9393 - factorized_top_k/top_10_categorical_accuracy: 0.9761 - factorized_top_k/top_15_categorical_accuracy: 0.9856 - factorized_top_k/top_25_categorical_accuracy: 0.9922 - loss: 993.5953 - regularization_loss: 0.0000e+00 - total_loss: 993.5953 - val_factorized_top_k/top_3_categorical_accuracy: 0.1968 - val_factorized_top_k/top_5_categorical_accuracy: 0.2634 - val_factorized_top_k/top_10_categorical_accuracy: 0.3389 - val_factorized_top_k/top_15_categorical_accuracy: 0.3828 - val_factorized_top_k/top_25_categorical_accuracy: 0.4714 - val_loss: 3099.2756 - val_regularization_loss: 0.0000e+00 - val_total_loss: 3099.2756 - lr: 0.0022\n",
      "Epoch 87/100\n",
      "62/62 [==============================] - 3s 53ms/step - factorized_top_k/top_3_categorical_accuracy: 0.8789 - factorized_top_k/top_5_categorical_accuracy: 0.9398 - factorized_top_k/top_10_categorical_accuracy: 0.9757 - factorized_top_k/top_15_categorical_accuracy: 0.9856 - factorized_top_k/top_25_categorical_accuracy: 0.9927 - loss: 992.9954 - regularization_loss: 0.0000e+00 - total_loss: 992.9954 - val_factorized_top_k/top_3_categorical_accuracy: 0.1974 - val_factorized_top_k/top_5_categorical_accuracy: 0.2597 - val_factorized_top_k/top_10_categorical_accuracy: 0.3412 - val_factorized_top_k/top_15_categorical_accuracy: 0.3851 - val_factorized_top_k/top_25_categorical_accuracy: 0.4720 - val_loss: 3108.4807 - val_regularization_loss: 0.0000e+00 - val_total_loss: 3108.4807 - lr: 0.0022\n",
      "Epoch 88/100\n"
     ]
    },
    {
     "name": "stdout",
     "output_type": "stream",
     "text": [
      "62/62 [==============================] - 3s 50ms/step - factorized_top_k/top_3_categorical_accuracy: 0.8797 - factorized_top_k/top_5_categorical_accuracy: 0.9394 - factorized_top_k/top_10_categorical_accuracy: 0.9754 - factorized_top_k/top_15_categorical_accuracy: 0.9853 - factorized_top_k/top_25_categorical_accuracy: 0.9927 - loss: 990.8615 - regularization_loss: 0.0000e+00 - total_loss: 990.8615 - val_factorized_top_k/top_3_categorical_accuracy: 0.2023 - val_factorized_top_k/top_5_categorical_accuracy: 0.2611 - val_factorized_top_k/top_10_categorical_accuracy: 0.3395 - val_factorized_top_k/top_15_categorical_accuracy: 0.3894 - val_factorized_top_k/top_25_categorical_accuracy: 0.4746 - val_loss: 3110.5818 - val_regularization_loss: 0.0000e+00 - val_total_loss: 3110.5818 - lr: 0.0022\n",
      "Epoch 89/100\n",
      "62/62 [==============================] - 3s 50ms/step - factorized_top_k/top_3_categorical_accuracy: 0.8786 - factorized_top_k/top_5_categorical_accuracy: 0.9398 - factorized_top_k/top_10_categorical_accuracy: 0.9757 - factorized_top_k/top_15_categorical_accuracy: 0.9859 - factorized_top_k/top_25_categorical_accuracy: 0.9928 - loss: 991.3765 - regularization_loss: 0.0000e+00 - total_loss: 991.3765 - val_factorized_top_k/top_3_categorical_accuracy: 0.2023 - val_factorized_top_k/top_5_categorical_accuracy: 0.2591 - val_factorized_top_k/top_10_categorical_accuracy: 0.3380 - val_factorized_top_k/top_15_categorical_accuracy: 0.3871 - val_factorized_top_k/top_25_categorical_accuracy: 0.4717 - val_loss: 3125.2612 - val_regularization_loss: 0.0000e+00 - val_total_loss: 3125.2612 - lr: 0.0022\n",
      "Epoch 90/100\n",
      "62/62 [==============================] - 3s 51ms/step - factorized_top_k/top_3_categorical_accuracy: 0.8795 - factorized_top_k/top_5_categorical_accuracy: 0.9400 - factorized_top_k/top_10_categorical_accuracy: 0.9757 - factorized_top_k/top_15_categorical_accuracy: 0.9862 - factorized_top_k/top_25_categorical_accuracy: 0.9931 - loss: 993.2115 - regularization_loss: 0.0000e+00 - total_loss: 993.2115 - val_factorized_top_k/top_3_categorical_accuracy: 0.2046 - val_factorized_top_k/top_5_categorical_accuracy: 0.2623 - val_factorized_top_k/top_10_categorical_accuracy: 0.3432 - val_factorized_top_k/top_15_categorical_accuracy: 0.3986 - val_factorized_top_k/top_25_categorical_accuracy: 0.4838 - val_loss: 3147.2742 - val_regularization_loss: 0.0000e+00 - val_total_loss: 3147.2742 - lr: 0.0022\n",
      "Epoch 91/100\n",
      "62/62 [==============================] - 3s 50ms/step - factorized_top_k/top_3_categorical_accuracy: 0.8778 - factorized_top_k/top_5_categorical_accuracy: 0.9417 - factorized_top_k/top_10_categorical_accuracy: 0.9765 - factorized_top_k/top_15_categorical_accuracy: 0.9861 - factorized_top_k/top_25_categorical_accuracy: 0.9933 - loss: 993.6784 - regularization_loss: 0.0000e+00 - total_loss: 993.6784 - val_factorized_top_k/top_3_categorical_accuracy: 0.1963 - val_factorized_top_k/top_5_categorical_accuracy: 0.2574 - val_factorized_top_k/top_10_categorical_accuracy: 0.3406 - val_factorized_top_k/top_15_categorical_accuracy: 0.3857 - val_factorized_top_k/top_25_categorical_accuracy: 0.4706 - val_loss: 3129.2654 - val_regularization_loss: 0.0000e+00 - val_total_loss: 3129.2654 - lr: 0.0022\n",
      "Epoch 92/100\n",
      "62/62 [==============================] - 3s 51ms/step - factorized_top_k/top_3_categorical_accuracy: 0.8793 - factorized_top_k/top_5_categorical_accuracy: 0.9417 - factorized_top_k/top_10_categorical_accuracy: 0.9767 - factorized_top_k/top_15_categorical_accuracy: 0.9861 - factorized_top_k/top_25_categorical_accuracy: 0.9935 - loss: 991.7250 - regularization_loss: 0.0000e+00 - total_loss: 991.7250 - val_factorized_top_k/top_3_categorical_accuracy: 0.2006 - val_factorized_top_k/top_5_categorical_accuracy: 0.2597 - val_factorized_top_k/top_10_categorical_accuracy: 0.3397 - val_factorized_top_k/top_15_categorical_accuracy: 0.3865 - val_factorized_top_k/top_25_categorical_accuracy: 0.4737 - val_loss: 3141.2388 - val_regularization_loss: 0.0000e+00 - val_total_loss: 3141.2388 - lr: 0.0022\n",
      "Epoch 93/100\n",
      "62/62 [==============================] - 3s 50ms/step - factorized_top_k/top_3_categorical_accuracy: 0.8799 - factorized_top_k/top_5_categorical_accuracy: 0.9419 - factorized_top_k/top_10_categorical_accuracy: 0.9771 - factorized_top_k/top_15_categorical_accuracy: 0.9864 - factorized_top_k/top_25_categorical_accuracy: 0.9930 - loss: 990.6840 - regularization_loss: 0.0000e+00 - total_loss: 990.6840 - val_factorized_top_k/top_3_categorical_accuracy: 0.1997 - val_factorized_top_k/top_5_categorical_accuracy: 0.2557 - val_factorized_top_k/top_10_categorical_accuracy: 0.3377 - val_factorized_top_k/top_15_categorical_accuracy: 0.3894 - val_factorized_top_k/top_25_categorical_accuracy: 0.4758 - val_loss: 3141.5879 - val_regularization_loss: 0.0000e+00 - val_total_loss: 3141.5879 - lr: 0.0022\n",
      "Epoch 94/100\n",
      "62/62 [==============================] - 3s 50ms/step - factorized_top_k/top_3_categorical_accuracy: 0.8794 - factorized_top_k/top_5_categorical_accuracy: 0.9421 - factorized_top_k/top_10_categorical_accuracy: 0.9776 - factorized_top_k/top_15_categorical_accuracy: 0.9867 - factorized_top_k/top_25_categorical_accuracy: 0.9932 - loss: 991.9427 - regularization_loss: 0.0000e+00 - total_loss: 991.9427 - val_factorized_top_k/top_3_categorical_accuracy: 0.1937 - val_factorized_top_k/top_5_categorical_accuracy: 0.2516 - val_factorized_top_k/top_10_categorical_accuracy: 0.3363 - val_factorized_top_k/top_15_categorical_accuracy: 0.3888 - val_factorized_top_k/top_25_categorical_accuracy: 0.4697 - val_loss: 3148.7798 - val_regularization_loss: 0.0000e+00 - val_total_loss: 3148.7798 - lr: 0.0022\n",
      "Epoch 95/100\n",
      "62/62 [==============================] - 3s 50ms/step - factorized_top_k/top_3_categorical_accuracy: 0.8796 - factorized_top_k/top_5_categorical_accuracy: 0.9411 - factorized_top_k/top_10_categorical_accuracy: 0.9765 - factorized_top_k/top_15_categorical_accuracy: 0.9867 - factorized_top_k/top_25_categorical_accuracy: 0.9936 - loss: 989.8482 - regularization_loss: 0.0000e+00 - total_loss: 989.8482 - val_factorized_top_k/top_3_categorical_accuracy: 0.1974 - val_factorized_top_k/top_5_categorical_accuracy: 0.2594 - val_factorized_top_k/top_10_categorical_accuracy: 0.3397 - val_factorized_top_k/top_15_categorical_accuracy: 0.3859 - val_factorized_top_k/top_25_categorical_accuracy: 0.4717 - val_loss: 3152.5920 - val_regularization_loss: 0.0000e+00 - val_total_loss: 3152.5920 - lr: 0.0022\n",
      "Epoch 96/100\n",
      "62/62 [==============================] - 3s 51ms/step - factorized_top_k/top_3_categorical_accuracy: 0.8797 - factorized_top_k/top_5_categorical_accuracy: 0.9408 - factorized_top_k/top_10_categorical_accuracy: 0.9767 - factorized_top_k/top_15_categorical_accuracy: 0.9865 - factorized_top_k/top_25_categorical_accuracy: 0.9935 - loss: 992.4212 - regularization_loss: 0.0000e+00 - total_loss: 992.4212 - val_factorized_top_k/top_3_categorical_accuracy: 0.2009 - val_factorized_top_k/top_5_categorical_accuracy: 0.2571 - val_factorized_top_k/top_10_categorical_accuracy: 0.3403 - val_factorized_top_k/top_15_categorical_accuracy: 0.3877 - val_factorized_top_k/top_25_categorical_accuracy: 0.4714 - val_loss: 3162.0085 - val_regularization_loss: 0.0000e+00 - val_total_loss: 3162.0085 - lr: 0.0022\n",
      "Epoch 97/100\n",
      "62/62 [==============================] - 3s 51ms/step - factorized_top_k/top_3_categorical_accuracy: 0.8790 - factorized_top_k/top_5_categorical_accuracy: 0.9418 - factorized_top_k/top_10_categorical_accuracy: 0.9778 - factorized_top_k/top_15_categorical_accuracy: 0.9868 - factorized_top_k/top_25_categorical_accuracy: 0.9934 - loss: 992.8573 - regularization_loss: 0.0000e+00 - total_loss: 992.8573 - val_factorized_top_k/top_3_categorical_accuracy: 0.1983 - val_factorized_top_k/top_5_categorical_accuracy: 0.2542 - val_factorized_top_k/top_10_categorical_accuracy: 0.3354 - val_factorized_top_k/top_15_categorical_accuracy: 0.3862 - val_factorized_top_k/top_25_categorical_accuracy: 0.4694 - val_loss: 3145.2134 - val_regularization_loss: 0.0000e+00 - val_total_loss: 3145.2134 - lr: 0.0022\n",
      "Epoch 98/100\n"
     ]
    },
    {
     "name": "stdout",
     "output_type": "stream",
     "text": [
      "62/62 [==============================] - 3s 50ms/step - factorized_top_k/top_3_categorical_accuracy: 0.8795 - factorized_top_k/top_5_categorical_accuracy: 0.9418 - factorized_top_k/top_10_categorical_accuracy: 0.9771 - factorized_top_k/top_15_categorical_accuracy: 0.9872 - factorized_top_k/top_25_categorical_accuracy: 0.9938 - loss: 991.7849 - regularization_loss: 0.0000e+00 - total_loss: 991.7849 - val_factorized_top_k/top_3_categorical_accuracy: 0.2029 - val_factorized_top_k/top_5_categorical_accuracy: 0.2534 - val_factorized_top_k/top_10_categorical_accuracy: 0.3366 - val_factorized_top_k/top_15_categorical_accuracy: 0.3874 - val_factorized_top_k/top_25_categorical_accuracy: 0.4654 - val_loss: 3156.9324 - val_regularization_loss: 0.0000e+00 - val_total_loss: 3156.9324 - lr: 0.0022\n",
      "Epoch 99/100\n",
      "62/62 [==============================] - 3s 50ms/step - factorized_top_k/top_3_categorical_accuracy: 0.8799 - factorized_top_k/top_5_categorical_accuracy: 0.9413 - factorized_top_k/top_10_categorical_accuracy: 0.9777 - factorized_top_k/top_15_categorical_accuracy: 0.9872 - factorized_top_k/top_25_categorical_accuracy: 0.9939 - loss: 990.9419 - regularization_loss: 0.0000e+00 - total_loss: 990.9419 - val_factorized_top_k/top_3_categorical_accuracy: 0.1989 - val_factorized_top_k/top_5_categorical_accuracy: 0.2594 - val_factorized_top_k/top_10_categorical_accuracy: 0.3372 - val_factorized_top_k/top_15_categorical_accuracy: 0.3882 - val_factorized_top_k/top_25_categorical_accuracy: 0.4735 - val_loss: 3167.4355 - val_regularization_loss: 0.0000e+00 - val_total_loss: 3167.4355 - lr: 0.0022\n",
      "Epoch 100/100\n",
      "62/62 [==============================] - 3s 50ms/step - factorized_top_k/top_3_categorical_accuracy: 0.8843 - factorized_top_k/top_5_categorical_accuracy: 0.9449 - factorized_top_k/top_10_categorical_accuracy: 0.9782 - factorized_top_k/top_15_categorical_accuracy: 0.9877 - factorized_top_k/top_25_categorical_accuracy: 0.9938 - loss: 979.0297 - regularization_loss: 0.0000e+00 - total_loss: 979.0297 - val_factorized_top_k/top_3_categorical_accuracy: 0.2063 - val_factorized_top_k/top_5_categorical_accuracy: 0.2582 - val_factorized_top_k/top_10_categorical_accuracy: 0.3423 - val_factorized_top_k/top_15_categorical_accuracy: 0.3888 - val_factorized_top_k/top_25_categorical_accuracy: 0.4735 - val_loss: 3171.0066 - val_regularization_loss: 0.0000e+00 - val_total_loss: 3171.0066 - lr: 0.0013\n"
     ]
    },
    {
     "data": {
      "text/plain": [
       "<keras.callbacks.History at 0x7efecc39c700>"
      ]
     },
     "execution_count": 95,
     "metadata": {},
     "output_type": "execute_result"
    }
   ],
   "source": [
    "model.fit(cached_train,\n",
    "          validation_data=cached_test,\n",
    "          epochs=100,\n",
    "          verbose=1, \n",
    "          workers=3,\n",
    "          use_multiprocessing=True,\n",
    "          callbacks=[model_checkpoint_callback, \n",
    "                     reduce_lr]\n",
    "\n",
    "          )"
   ]
  },
  {
   "cell_type": "code",
   "execution_count": 96,
   "id": "c91798a6",
   "metadata": {},
   "outputs": [
    {
     "data": {
      "text/plain": [
       "<tensorflow.python.training.tracking.util.CheckpointLoadStatus at 0x7efeec76a7f0>"
      ]
     },
     "execution_count": 96,
     "metadata": {},
     "output_type": "execute_result"
    }
   ],
   "source": [
    "model.load_weights(\"new_amazon_check_points/best_check_point_10k\")"
   ]
  },
  {
   "cell_type": "code",
   "execution_count": 97,
   "id": "40d04cb7",
   "metadata": {},
   "outputs": [
    {
     "name": "stdout",
     "output_type": "stream",
     "text": [
      "7/7 [==============================] - 0s 41ms/step - factorized_top_k/top_3_categorical_accuracy: 0.2046 - factorized_top_k/top_5_categorical_accuracy: 0.2623 - factorized_top_k/top_10_categorical_accuracy: 0.3432 - factorized_top_k/top_15_categorical_accuracy: 0.3986 - factorized_top_k/top_25_categorical_accuracy: 0.4838 - loss: 3742.8446 - regularization_loss: 0.0000e+00 - total_loss: 3742.8446\n"
     ]
    }
   ],
   "source": [
    "result_summary = model.evaluate(cached_test)"
   ]
  },
  {
   "cell_type": "code",
   "execution_count": 99,
   "id": "215d3fd7",
   "metadata": {},
   "outputs": [
    {
     "data": {
      "text/plain": [
       "{3: 0.20459111034870148,\n",
       " 5: 0.2622668445110321,\n",
       " 10: 0.34318506717681885,\n",
       " 15: 0.39856529235839844,\n",
       " 25: 0.4837876558303833}"
      ]
     },
     "execution_count": 99,
     "metadata": {},
     "output_type": "execute_result"
    }
   ],
   "source": [
    "{val:result_summary[idx] for idx, val in enumerate([3, 5, 10,15, 25]) }"
   ]
  },
  {
   "cell_type": "code",
   "execution_count": null,
   "id": "4ee8552d",
   "metadata": {},
   "outputs": [],
   "source": []
  }
 ],
 "metadata": {
  "kernelspec": {
   "display_name": "Python 3 (ipykernel)",
   "language": "python",
   "name": "python3"
  },
  "language_info": {
   "codemirror_mode": {
    "name": "ipython",
    "version": 3
   },
   "file_extension": ".py",
   "mimetype": "text/x-python",
   "name": "python",
   "nbconvert_exporter": "python",
   "pygments_lexer": "ipython3",
   "version": "3.9.1"
  }
 },
 "nbformat": 4,
 "nbformat_minor": 5
}
