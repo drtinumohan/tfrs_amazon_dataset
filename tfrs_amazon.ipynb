{
 "cells": [
  {
   "cell_type": "code",
   "execution_count": 1,
   "id": "4205e70a",
   "metadata": {},
   "outputs": [
    {
     "name": "stdout",
     "output_type": "stream",
     "text": [
      "2022-09-29 04:55:55.071281\n"
     ]
    },
    {
     "name": "stderr",
     "output_type": "stream",
     "text": [
      "2022-09-29 04:55:55.264316: W tensorflow/stream_executor/platform/default/dso_loader.cc:64] Could not load dynamic library 'libcudart.so.11.0'; dlerror: libcudart.so.11.0: cannot open shared object file: No such file or directory\n",
      "2022-09-29 04:55:55.264347: I tensorflow/stream_executor/cuda/cudart_stub.cc:29] Ignore above cudart dlerror if you do not have a GPU set up on your machine.\n"
     ]
    }
   ],
   "source": [
    "from datetime import datetime\n",
    "print(str(datetime.now()))\n",
    "import numpy as np\n",
    "# os.environ[\"TF_CPP_MIN_LOG_LEVEL\"] =\"3\"\n",
    "import tensorflow as tf\n",
    "import tensorflow_recommenders as tfrs\n",
    "import pandas as pd\n",
    "import math\n",
    "\n",
    "import os\n",
    "import glob\n",
    "import matplotlib.pyplot as plt\n"
   ]
  },
  {
   "cell_type": "code",
   "execution_count": 2,
   "id": "cfcc3505",
   "metadata": {},
   "outputs": [],
   "source": [
    "# !pip install matplotlib"
   ]
  },
  {
   "cell_type": "code",
   "execution_count": 3,
   "id": "9bebfdd4",
   "metadata": {},
   "outputs": [
    {
     "name": "stdout",
     "output_type": "stream",
     "text": [
      "WARNING:tensorflow:From /tmp/ipykernel_164211/1916213802.py:1: is_gpu_available (from tensorflow.python.framework.test_util) is deprecated and will be removed in a future version.\n",
      "Instructions for updating:\n",
      "Use `tf.config.list_physical_devices('GPU')` instead.\n"
     ]
    },
    {
     "name": "stderr",
     "output_type": "stream",
     "text": [
      "2022-09-29 04:55:57.452539: W tensorflow/stream_executor/platform/default/dso_loader.cc:64] Could not load dynamic library 'libcuda.so.1'; dlerror: libcuda.so.1: cannot open shared object file: No such file or directory\n",
      "2022-09-29 04:55:57.452578: W tensorflow/stream_executor/cuda/cuda_driver.cc:269] failed call to cuInit: UNKNOWN ERROR (303)\n",
      "2022-09-29 04:55:57.452611: I tensorflow/stream_executor/cuda/cuda_diagnostics.cc:156] kernel driver does not appear to be running on this host (bioss-System-Product-Name): /proc/driver/nvidia/version does not exist\n"
     ]
    }
   ],
   "source": [
    "gpu_available = tf.test.is_gpu_available()\n",
    "gpu_available\n",
    "req_cols = ['ITEM_ID', 'USER_ID', 'CABIN_TYPE', 'USER_RESIDENCE']"
   ]
  },
  {
   "cell_type": "code",
   "execution_count": 4,
   "id": "93b86d8f",
   "metadata": {},
   "outputs": [],
   "source": [
    "data_set_df_updated = pd.read_csv(\"dataset/interaction_demo.csv\")\n",
    "test_df = pd.read_csv(\"dataset/interaction_test_demo.csv\")\n",
    "data_set_df_updated.loc[data_set_df_updated.USER_RESIDENCE.isnull(),\"USER_RESIDENCE\"] = 'None'\n",
    "test_df.loc[test_df.USER_RESIDENCE.isnull(),\"USER_RESIDENCE\"] = 'None'\n",
    "train_df = pd.concat([data_set_df_updated, test_df], ignore_index=True)\n",
    "train_df.sort_values(\"TIMESTAMP\", ascending= False, inplace= True)"
   ]
  },
  {
   "cell_type": "code",
   "execution_count": 5,
   "id": "cd24e326",
   "metadata": {},
   "outputs": [],
   "source": [
    "train_df_item_count = train_df.groupby([\"ITEM_ID\"]).size().reset_index(name='counts')"
   ]
  },
  {
   "cell_type": "code",
   "execution_count": 6,
   "id": "a41761ec",
   "metadata": {},
   "outputs": [],
   "source": [
    "train_df_item_count[\"probability\"]= train_df_item_count[\"counts\"] / train_df_item_count[\"counts\"].sum()"
   ]
  },
  {
   "cell_type": "code",
   "execution_count": 7,
   "id": "9ff5752b",
   "metadata": {},
   "outputs": [],
   "source": [
    "train_df = train_df.merge(train_df_item_count[[\"ITEM_ID\",\"probability\"]], how='left', on='ITEM_ID',)\n"
   ]
  },
  {
   "cell_type": "code",
   "execution_count": 8,
   "id": "bf387015",
   "metadata": {},
   "outputs": [
    {
     "data": {
      "text/plain": [
       "(350, 1)"
      ]
     },
     "execution_count": 8,
     "metadata": {},
     "output_type": "execute_result"
    }
   ],
   "source": [
    "item_df = train_df[[\"ITEM_ID\"]].drop_duplicates(\"ITEM_ID\")\n",
    "item_ds = tf.data.Dataset.from_tensor_slices(item_df.to_dict(\"list\")).batch(32)\n",
    "item_df.shape"
   ]
  },
  {
   "cell_type": "code",
   "execution_count": 9,
   "id": "f6083b8e",
   "metadata": {},
   "outputs": [],
   "source": [
    "req_cols = req_cols+[\"probability\"]"
   ]
  },
  {
   "cell_type": "code",
   "execution_count": 10,
   "id": "8b3e53c3",
   "metadata": {},
   "outputs": [],
   "source": [
    "train_ds =  tf.data.Dataset.from_tensor_slices(train_df[req_cols].to_dict(\"list\")).batch(256)"
   ]
  },
  {
   "cell_type": "code",
   "execution_count": 11,
   "id": "c0b21ee3",
   "metadata": {},
   "outputs": [],
   "source": [
    "USER_ID_unique = np.unique(np.concatenate(list(train_ds.map(\n",
    "        lambda x: x[\"USER_ID\"]))))\n",
    "\n",
    "CABIN_TYPE_unique = np.unique(np.concatenate(list(train_ds.map(\n",
    "        lambda x: x[\"CABIN_TYPE\"]))))\n",
    "\n",
    "USER_RESIDENCE_unique = np.unique(np.concatenate(list(train_ds.map(\n",
    "        lambda x: x[\"USER_RESIDENCE\"]))))"
   ]
  },
  {
   "cell_type": "code",
   "execution_count": 12,
   "id": "8fb359ef",
   "metadata": {},
   "outputs": [],
   "source": [
    "item_unique =  np.unique(np.concatenate(list(train_ds.map(\n",
    "        lambda x: x[\"ITEM_ID\"]))))"
   ]
  },
  {
   "cell_type": "code",
   "execution_count": 13,
   "id": "7712418d",
   "metadata": {},
   "outputs": [],
   "source": [
    "# def rankL(np_rank):\n",
    "#     r = int(np_rank[-1])\n",
    "#     _l = 0\n",
    "#     for k in range(1, r+1):\n",
    "#         _l += 1./k\n",
    "#     return np.float32(_l)\n",
    "\n",
    "\n",
    "# \"\"\"\n",
    "# labels are assumed to be 1 hot encoded\n",
    "# \"\"\"\n",
    "# def warp_loss(labels, logits):\n",
    "#     # for easy broadcasting\n",
    "#     labels, logits = tf.transpose(labels, [1, 0]), tf.transpose(logits, [1, 0])\n",
    "#     f_y = tf.reduce_sum(logits*labels, axis=0)\n",
    "#     rank = tf.reduce_sum(tf.maximum(tf.sign(1+logits-f_y), 0), axis=0)\n",
    "#     diff = tf.reduce_sum(tf.maximum(1+logits-f_y, 0), axis=0)\n",
    "#     with tf.control_dependencies([tf.assert_greater(rank, tf.zeros_like(rank))]):\n",
    "#         return tf.py_func(rankL, [rank], tf.float32) * diff/rank"
   ]
  },
  {
   "cell_type": "code",
   "execution_count": 14,
   "id": "876e1589",
   "metadata": {},
   "outputs": [],
   "source": [
    "class UserModel(tf.keras.Model):\n",
    "\n",
    "    def __init__(self):\n",
    "        super().__init__()\n",
    "\n",
    "        emb_dim = 8    \n",
    "        self.user_id_embedding = tf.keras.Sequential([\n",
    "            tf.keras.layers.experimental.preprocessing.StringLookup(\n",
    "                vocabulary=USER_ID_unique, mask_token=None),\n",
    "            tf.keras.layers.Embedding(len(USER_ID_unique) + 1, 16),\n",
    "        ])\n",
    "            \n",
    "        self.cabin_type_embedding = tf.keras.Sequential([\n",
    "            tf.keras.layers.experimental.preprocessing.StringLookup(\n",
    "                vocabulary= CABIN_TYPE_unique, mask_token=None),  \n",
    "            tf.keras.layers.Embedding(len(CABIN_TYPE_unique) + 1, emb_dim),\n",
    "        ])\n",
    "\n",
    "        self.user_residence_embedding = tf.keras.Sequential([\n",
    "            tf.keras.layers.experimental.preprocessing.StringLookup(\n",
    "                vocabulary=USER_RESIDENCE_unique, mask_token=None),\n",
    "            tf.keras.layers.Embedding(len(USER_RESIDENCE_unique) + 1, emb_dim),\n",
    "        ])\n",
    "        \n",
    "\n",
    "    def call(self, user_interation_data):\n",
    "        return tf.concat([                          \n",
    "            self.user_id_embedding(user_interation_data[\"USER_ID\"]), \n",
    "            self.cabin_type_embedding(user_interation_data[\"CABIN_TYPE\"]), \n",
    "            self.user_residence_embedding(user_interation_data[\"USER_RESIDENCE\"]),\n",
    "        ], axis=1)\n",
    "\n",
    "\n",
    "\n"
   ]
  },
  {
   "cell_type": "code",
   "execution_count": 15,
   "id": "915250ec",
   "metadata": {},
   "outputs": [],
   "source": [
    "class ItemModel(tf.keras.Model):\n",
    "\n",
    "    def __init__(self):\n",
    "        super().__init__()\n",
    "\n",
    "        \n",
    "\n",
    "        self.item_embedding = tf.keras.Sequential([\n",
    "            tf.keras.layers.experimental.preprocessing.StringLookup(\n",
    "                vocabulary=item_unique, mask_token=None),\n",
    "            tf.keras.layers.Embedding(len(item_unique) + 1, 32),\n",
    "        ])\n",
    "\n",
    "\n",
    "    def call(self, user_interation_data):\n",
    "\n",
    "        return tf.concat([\n",
    "            self.item_embedding(user_interation_data[\"ITEM_ID\"])\n",
    "            \n",
    "            ], axis=1)"
   ]
  },
  {
   "cell_type": "code",
   "execution_count": 16,
   "id": "b5793fe1",
   "metadata": {},
   "outputs": [],
   "source": [
    "class TRFSRetrievalModel(tfrs.models.Model):\n",
    "\n",
    "    def __init__(self, UserModel,ItemModel, item_ds ):\n",
    "        super().__init__()\n",
    "\n",
    "\n",
    "\n",
    "        self.query_model = tf.keras.Sequential([#,UserModel()\n",
    "          UserModel(),\n",
    "#           tf.keras.layers.Dense(32 , kernel_initializer= tf.keras.initializers.RandomNormal(seed=99)),  \n",
    "#           tf.keras.layers.Dropout(0.2),\n",
    "        ])\n",
    "        \n",
    "\n",
    "        self.candidate_model = tf.keras.Sequential([\n",
    "          ItemModel(),\n",
    "#           tf.keras.layers.Dense(32, kernel_initializer= tf.keras.initializers.RandomNormal(seed=1)),\n",
    "#           tf.keras.layers.Dropout(0.2),\n",
    "        ]) \n",
    "        \n",
    "        \n",
    "\n",
    "\n",
    "#         metrics = [\n",
    "#           tf.keras.metrics.TopKCategoricalAccuracy(\n",
    "#               k=x, name=f\"factorized_top_k/top_{x}_categorical_accuracy\")\n",
    "#           for x in [3,5,10,15, 25]\n",
    "#         ]  \n",
    "        \n",
    "        self.task = tfrs.tasks.Retrieval(\n",
    "#             loss=warp_loss,\n",
    "            num_hard_negatives=100,\n",
    "            metrics=tfrs.metrics.FactorizedTopK(\n",
    "            item_ds.map(self.candidate_model),\n",
    "                ks= (3, 5, 10,15, 25)),\n",
    "                          \n",
    "\n",
    "        )\n",
    "        \n",
    "#         self.task = tfrs.tasks.Retrieval(\n",
    "#             metrics=tfrs.metrics.FactorizedTopK(\n",
    "#                 candidates=item_ds.map(self.candidate_model),\n",
    "#                 metrics = metrics,\n",
    "#                 k = 100\n",
    "#             ),\n",
    "#             # temperature = 0.5,\n",
    "#             num_hard_negatives = 5\n",
    "#         )\n",
    "\n",
    "    def compute_loss(self, features, training= True):\n",
    "\n",
    "        item_features = {\"ITEM_ID\":features.pop(\"ITEM_ID\") }\n",
    "        query_embeddings = self.query_model(features)\n",
    "        item_embeddings = self.candidate_model(item_features)\n",
    "        candidate_sampling_probability = features.pop(\"probability\")\n",
    "        return self.task(query_embeddings, \n",
    "        item_embeddings, \n",
    "        compute_metrics=True,\n",
    "        candidate_sampling_probability = candidate_sampling_probability\n",
    "        )\n",
    "\n",
    "    def call(self, test):\n",
    "        features= test.copy()\n",
    "        item_features = {\"ITEM_ID\":features.pop(\"ITEM_ID\") }\n",
    "        query_embeddings = self.query_model(features)\n",
    "        item_embeddings = self.candidate_model(item_features)\n",
    "\n",
    "        return query_embeddings, item_embeddings\n"
   ]
  },
  {
   "cell_type": "code",
   "execution_count": 17,
   "id": "5f5d70e1",
   "metadata": {},
   "outputs": [],
   "source": [
    "test_max_index = math.floor(train_df.shape[0]*0.1)\n",
    "train_split_len = train_df.shape[0] - test_max_index\n",
    "data_set_tf = tf.data.Dataset.from_tensor_slices(train_df[req_cols].to_dict(\"list\"))\n",
    "test = data_set_tf.take(test_max_index)\n",
    "train = data_set_tf.skip(test_max_index).take(train_split_len)\n",
    "shuffled = train.shuffle(train_split_len, seed=42, reshuffle_each_iteration=True)\n",
    "cached_train = shuffled.batch(512).prefetch(4096)#train.shuffle(100_000).batch(2048)\n",
    "cached_test = test.batch(512).cache()\n"
   ]
  },
  {
   "cell_type": "code",
   "execution_count": 18,
   "id": "74fcf471",
   "metadata": {},
   "outputs": [
    {
     "data": {
      "text/plain": [
       "(34853, 3485)"
      ]
     },
     "execution_count": 18,
     "metadata": {},
     "output_type": "execute_result"
    }
   ],
   "source": [
    "train_df.shape[0], test_max_index"
   ]
  },
  {
   "cell_type": "code",
   "execution_count": 19,
   "id": "92aff5bf",
   "metadata": {},
   "outputs": [],
   "source": [
    "def delete_all_check_points(fpath= 'new_amazon_check_points/*'):\n",
    "    files = glob.glob(fpath)\n",
    "    for f in files:\n",
    "        os.remove(f)\n",
    "        "
   ]
  },
  {
   "cell_type": "code",
   "execution_count": 20,
   "id": "5a2625b7",
   "metadata": {},
   "outputs": [],
   "source": [
    "def get_call_back_fun(K):\n",
    "    delete_all_check_points()\n",
    "    model_path = f\"new_amazon_check_points/best_check_point_{K}k\"\n",
    "    \n",
    "    model_checkpoint_callback = tf.keras.callbacks.ModelCheckpoint(\n",
    "        filepath=model_path,\n",
    "        save_weights_only=True,\n",
    "        monitor=f'val_factorized_top_k/top_{K}_categorical_accuracy',\n",
    "        mode='max',\n",
    "        save_best_only=True)\n",
    "\n",
    "    early_stoping = tf.keras.callbacks.EarlyStopping(monitor=f'val_factorized_top_k/top_{K}_categorical_accuracy',\n",
    "                                                     mode='min',\n",
    "                                                     patience=5)\n",
    "\n",
    "    reduce_lr = tf.keras.callbacks.ReduceLROnPlateau(monitor=f'val_factorized_top_k/top_{K}_categorical_accuracy', \n",
    "                                                     factor=0.6,\n",
    "                                                     #mode='min',\n",
    "                                                     patience=9, \n",
    "                                                     min_lr=1e-6\n",
    "    )\n",
    "    return model_path, model_checkpoint_callback, early_stoping, reduce_lr"
   ]
  },
  {
   "cell_type": "code",
   "execution_count": 21,
   "id": "bf39bde0",
   "metadata": {},
   "outputs": [],
   "source": [
    "model_path, model_checkpoint_callback, early_stoping, reduce_lr = get_call_back_fun(25)"
   ]
  },
  {
   "cell_type": "code",
   "execution_count": 22,
   "id": "a45c02e1",
   "metadata": {},
   "outputs": [
    {
     "name": "stdout",
     "output_type": "stream",
     "text": [
      "WARNING:tensorflow:Layers in a Sequential model should only have a single input tensor. Received: inputs={'ITEM_ID': <tf.Tensor 'args_0:0' shape=(None,) dtype=string>}. Consider rewriting this model with the Functional API.\n"
     ]
    }
   ],
   "source": [
    "model = TRFSRetrievalModel(UserModel, ItemModel, item_ds)\n",
    "model.compile(optimizer=tf.keras.optimizers.Adam(0.01)) "
   ]
  },
  {
   "cell_type": "code",
   "execution_count": 23,
   "id": "f49834c4",
   "metadata": {},
   "outputs": [
    {
     "name": "stdout",
     "output_type": "stream",
     "text": [
      "Epoch 1/200\n",
      "WARNING:tensorflow:Layers in a Sequential model should only have a single input tensor. Received: inputs={'USER_ID': <tf.Tensor 'IteratorGetNext:2' shape=(None,) dtype=string>, 'CABIN_TYPE': <tf.Tensor 'IteratorGetNext:0' shape=(None,) dtype=string>, 'USER_RESIDENCE': <tf.Tensor 'IteratorGetNext:3' shape=(None,) dtype=string>, 'probability': <tf.Tensor 'IteratorGetNext:4' shape=(None,) dtype=float32>}. Consider rewriting this model with the Functional API.\n",
      "WARNING:tensorflow:Layers in a Sequential model should only have a single input tensor. Received: inputs={'ITEM_ID': <tf.Tensor 'IteratorGetNext:1' shape=(None,) dtype=string>}. Consider rewriting this model with the Functional API.\n",
      "WARNING:tensorflow:Layers in a Sequential model should only have a single input tensor. Received: inputs={'USER_ID': <tf.Tensor 'IteratorGetNext:2' shape=(None,) dtype=string>, 'CABIN_TYPE': <tf.Tensor 'IteratorGetNext:0' shape=(None,) dtype=string>, 'USER_RESIDENCE': <tf.Tensor 'IteratorGetNext:3' shape=(None,) dtype=string>, 'probability': <tf.Tensor 'IteratorGetNext:4' shape=(None,) dtype=float32>}. Consider rewriting this model with the Functional API.\n",
      "WARNING:tensorflow:Layers in a Sequential model should only have a single input tensor. Received: inputs={'ITEM_ID': <tf.Tensor 'IteratorGetNext:1' shape=(None,) dtype=string>}. Consider rewriting this model with the Functional API.\n",
      "62/62 [==============================] - ETA: 0s - factorized_top_k/top_3_categorical_accuracy: 0.0408 - factorized_top_k/top_5_categorical_accuracy: 0.0801 - factorized_top_k/top_10_categorical_accuracy: 0.1535 - factorized_top_k/top_15_categorical_accuracy: 0.2196 - factorized_top_k/top_25_categorical_accuracy: 0.3236 - loss: 2922.8077 - regularization_loss: 0.0000e+00 - total_loss: 2922.8077WARNING:tensorflow:Layers in a Sequential model should only have a single input tensor. Received: inputs={'USER_ID': <tf.Tensor 'IteratorGetNext:2' shape=(None,) dtype=string>, 'CABIN_TYPE': <tf.Tensor 'IteratorGetNext:0' shape=(None,) dtype=string>, 'USER_RESIDENCE': <tf.Tensor 'IteratorGetNext:3' shape=(None,) dtype=string>, 'probability': <tf.Tensor 'IteratorGetNext:4' shape=(None,) dtype=float32>}. Consider rewriting this model with the Functional API.\n",
      "WARNING:tensorflow:Layers in a Sequential model should only have a single input tensor. Received: inputs={'ITEM_ID': <tf.Tensor 'IteratorGetNext:1' shape=(None,) dtype=string>}. Consider rewriting this model with the Functional API.\n",
      "62/62 [==============================] - 6s 53ms/step - factorized_top_k/top_3_categorical_accuracy: 0.0408 - factorized_top_k/top_5_categorical_accuracy: 0.0801 - factorized_top_k/top_10_categorical_accuracy: 0.1535 - factorized_top_k/top_15_categorical_accuracy: 0.2196 - factorized_top_k/top_25_categorical_accuracy: 0.3236 - loss: 2886.4490 - regularization_loss: 0.0000e+00 - total_loss: 2886.4490 - val_factorized_top_k/top_3_categorical_accuracy: 0.1690 - val_factorized_top_k/top_5_categorical_accuracy: 0.2356 - val_factorized_top_k/top_10_categorical_accuracy: 0.3308 - val_factorized_top_k/top_15_categorical_accuracy: 0.4069 - val_factorized_top_k/top_25_categorical_accuracy: 0.5268 - val_loss: 1947.3022 - val_regularization_loss: 0.0000e+00 - val_total_loss: 1947.3022 - lr: 0.0100\n",
      "Epoch 2/200\n",
      "62/62 [==============================] - 3s 46ms/step - factorized_top_k/top_3_categorical_accuracy: 0.1838 - factorized_top_k/top_5_categorical_accuracy: 0.2620 - factorized_top_k/top_10_categorical_accuracy: 0.3677 - factorized_top_k/top_15_categorical_accuracy: 0.4413 - factorized_top_k/top_25_categorical_accuracy: 0.5641 - loss: 2270.3319 - regularization_loss: 0.0000e+00 - total_loss: 2270.3319 - val_factorized_top_k/top_3_categorical_accuracy: 0.2000 - val_factorized_top_k/top_5_categorical_accuracy: 0.2557 - val_factorized_top_k/top_10_categorical_accuracy: 0.3564 - val_factorized_top_k/top_15_categorical_accuracy: 0.4373 - val_factorized_top_k/top_25_categorical_accuracy: 0.6103 - val_loss: 1936.6184 - val_regularization_loss: 0.0000e+00 - val_total_loss: 1936.6184 - lr: 0.0100\n",
      "Epoch 3/200\n",
      "62/62 [==============================] - 3s 46ms/step - factorized_top_k/top_3_categorical_accuracy: 0.5770 - factorized_top_k/top_5_categorical_accuracy: 0.6546 - factorized_top_k/top_10_categorical_accuracy: 0.7356 - factorized_top_k/top_15_categorical_accuracy: 0.7774 - factorized_top_k/top_25_categorical_accuracy: 0.8255 - loss: 1890.1240 - regularization_loss: 0.0000e+00 - total_loss: 1890.1240 - val_factorized_top_k/top_3_categorical_accuracy: 0.2410 - val_factorized_top_k/top_5_categorical_accuracy: 0.3300 - val_factorized_top_k/top_10_categorical_accuracy: 0.4551 - val_factorized_top_k/top_15_categorical_accuracy: 0.5377 - val_factorized_top_k/top_25_categorical_accuracy: 0.6468 - val_loss: 2053.4680 - val_regularization_loss: 0.0000e+00 - val_total_loss: 2053.4680 - lr: 0.0100\n",
      "Epoch 4/200\n",
      "62/62 [==============================] - 3s 45ms/step - factorized_top_k/top_3_categorical_accuracy: 0.7603 - factorized_top_k/top_5_categorical_accuracy: 0.8164 - factorized_top_k/top_10_categorical_accuracy: 0.8637 - factorized_top_k/top_15_categorical_accuracy: 0.8854 - factorized_top_k/top_25_categorical_accuracy: 0.9128 - loss: 1459.1801 - regularization_loss: 0.0000e+00 - total_loss: 1459.1801 - val_factorized_top_k/top_3_categorical_accuracy: 0.2494 - val_factorized_top_k/top_5_categorical_accuracy: 0.3260 - val_factorized_top_k/top_10_categorical_accuracy: 0.4519 - val_factorized_top_k/top_15_categorical_accuracy: 0.5217 - val_factorized_top_k/top_25_categorical_accuracy: 0.6296 - val_loss: 2200.5698 - val_regularization_loss: 0.0000e+00 - val_total_loss: 2200.5698 - lr: 0.0100\n",
      "Epoch 5/200\n",
      "62/62 [==============================] - 3s 45ms/step - factorized_top_k/top_3_categorical_accuracy: 0.8107 - factorized_top_k/top_5_categorical_accuracy: 0.8660 - factorized_top_k/top_10_categorical_accuracy: 0.9063 - factorized_top_k/top_15_categorical_accuracy: 0.9244 - factorized_top_k/top_25_categorical_accuracy: 0.9459 - loss: 1261.0916 - regularization_loss: 0.0000e+00 - total_loss: 1261.0916 - val_factorized_top_k/top_3_categorical_accuracy: 0.2281 - val_factorized_top_k/top_5_categorical_accuracy: 0.3053 - val_factorized_top_k/top_10_categorical_accuracy: 0.4247 - val_factorized_top_k/top_15_categorical_accuracy: 0.5036 - val_factorized_top_k/top_25_categorical_accuracy: 0.6258 - val_loss: 2282.8723 - val_regularization_loss: 0.0000e+00 - val_total_loss: 2282.8723 - lr: 0.0100\n",
      "Epoch 6/200\n",
      "62/62 [==============================] - 3s 45ms/step - factorized_top_k/top_3_categorical_accuracy: 0.8353 - factorized_top_k/top_5_categorical_accuracy: 0.8901 - factorized_top_k/top_10_categorical_accuracy: 0.9268 - factorized_top_k/top_15_categorical_accuracy: 0.9429 - factorized_top_k/top_25_categorical_accuracy: 0.9592 - loss: 1188.1829 - regularization_loss: 0.0000e+00 - total_loss: 1188.1829 - val_factorized_top_k/top_3_categorical_accuracy: 0.2241 - val_factorized_top_k/top_5_categorical_accuracy: 0.2967 - val_factorized_top_k/top_10_categorical_accuracy: 0.4146 - val_factorized_top_k/top_15_categorical_accuracy: 0.4907 - val_factorized_top_k/top_25_categorical_accuracy: 0.6155 - val_loss: 2333.6001 - val_regularization_loss: 0.0000e+00 - val_total_loss: 2333.6001 - lr: 0.0100\n",
      "Epoch 7/200\n",
      "62/62 [==============================] - 3s 46ms/step - factorized_top_k/top_3_categorical_accuracy: 0.8443 - factorized_top_k/top_5_categorical_accuracy: 0.9019 - factorized_top_k/top_10_categorical_accuracy: 0.9374 - factorized_top_k/top_15_categorical_accuracy: 0.9516 - factorized_top_k/top_25_categorical_accuracy: 0.9663 - loss: 1151.2793 - regularization_loss: 0.0000e+00 - total_loss: 1151.2793 - val_factorized_top_k/top_3_categorical_accuracy: 0.2207 - val_factorized_top_k/top_5_categorical_accuracy: 0.2910 - val_factorized_top_k/top_10_categorical_accuracy: 0.4055 - val_factorized_top_k/top_15_categorical_accuracy: 0.4901 - val_factorized_top_k/top_25_categorical_accuracy: 0.6169 - val_loss: 2369.0515 - val_regularization_loss: 0.0000e+00 - val_total_loss: 2369.0515 - lr: 0.0100\n",
      "Epoch 8/200\n"
     ]
    },
    {
     "name": "stdout",
     "output_type": "stream",
     "text": [
      "62/62 [==============================] - 3s 46ms/step - factorized_top_k/top_3_categorical_accuracy: 0.8529 - factorized_top_k/top_5_categorical_accuracy: 0.9098 - factorized_top_k/top_10_categorical_accuracy: 0.9432 - factorized_top_k/top_15_categorical_accuracy: 0.9570 - factorized_top_k/top_25_categorical_accuracy: 0.9706 - loss: 1126.9419 - regularization_loss: 0.0000e+00 - total_loss: 1126.9419 - val_factorized_top_k/top_3_categorical_accuracy: 0.2241 - val_factorized_top_k/top_5_categorical_accuracy: 0.2941 - val_factorized_top_k/top_10_categorical_accuracy: 0.3882 - val_factorized_top_k/top_15_categorical_accuracy: 0.4740 - val_factorized_top_k/top_25_categorical_accuracy: 0.6009 - val_loss: 2390.5852 - val_regularization_loss: 0.0000e+00 - val_total_loss: 2390.5852 - lr: 0.0100\n",
      "Epoch 9/200\n",
      "62/62 [==============================] - 3s 45ms/step - factorized_top_k/top_3_categorical_accuracy: 0.8594 - factorized_top_k/top_5_categorical_accuracy: 0.9145 - factorized_top_k/top_10_categorical_accuracy: 0.9476 - factorized_top_k/top_15_categorical_accuracy: 0.9608 - factorized_top_k/top_25_categorical_accuracy: 0.9750 - loss: 1110.9328 - regularization_loss: 0.0000e+00 - total_loss: 1110.9328 - val_factorized_top_k/top_3_categorical_accuracy: 0.2175 - val_factorized_top_k/top_5_categorical_accuracy: 0.2915 - val_factorized_top_k/top_10_categorical_accuracy: 0.3951 - val_factorized_top_k/top_15_categorical_accuracy: 0.4735 - val_factorized_top_k/top_25_categorical_accuracy: 0.5991 - val_loss: 2411.2808 - val_regularization_loss: 0.0000e+00 - val_total_loss: 2411.2808 - lr: 0.0100\n",
      "Epoch 10/200\n",
      "62/62 [==============================] - 3s 45ms/step - factorized_top_k/top_3_categorical_accuracy: 0.8608 - factorized_top_k/top_5_categorical_accuracy: 0.9190 - factorized_top_k/top_10_categorical_accuracy: 0.9517 - factorized_top_k/top_15_categorical_accuracy: 0.9638 - factorized_top_k/top_25_categorical_accuracy: 0.9768 - loss: 1102.1850 - regularization_loss: 0.0000e+00 - total_loss: 1102.1850 - val_factorized_top_k/top_3_categorical_accuracy: 0.2212 - val_factorized_top_k/top_5_categorical_accuracy: 0.2927 - val_factorized_top_k/top_10_categorical_accuracy: 0.3931 - val_factorized_top_k/top_15_categorical_accuracy: 0.4735 - val_factorized_top_k/top_25_categorical_accuracy: 0.5940 - val_loss: 2436.0352 - val_regularization_loss: 0.0000e+00 - val_total_loss: 2436.0352 - lr: 0.0100\n",
      "Epoch 11/200\n",
      "62/62 [==============================] - 3s 45ms/step - factorized_top_k/top_3_categorical_accuracy: 0.8624 - factorized_top_k/top_5_categorical_accuracy: 0.9213 - factorized_top_k/top_10_categorical_accuracy: 0.9548 - factorized_top_k/top_15_categorical_accuracy: 0.9667 - factorized_top_k/top_25_categorical_accuracy: 0.9794 - loss: 1090.6546 - regularization_loss: 0.0000e+00 - total_loss: 1090.6546 - val_factorized_top_k/top_3_categorical_accuracy: 0.2215 - val_factorized_top_k/top_5_categorical_accuracy: 0.2910 - val_factorized_top_k/top_10_categorical_accuracy: 0.3854 - val_factorized_top_k/top_15_categorical_accuracy: 0.4648 - val_factorized_top_k/top_25_categorical_accuracy: 0.5802 - val_loss: 2455.9451 - val_regularization_loss: 0.0000e+00 - val_total_loss: 2455.9451 - lr: 0.0100\n",
      "Epoch 12/200\n",
      "62/62 [==============================] - 3s 45ms/step - factorized_top_k/top_3_categorical_accuracy: 0.8649 - factorized_top_k/top_5_categorical_accuracy: 0.9246 - factorized_top_k/top_10_categorical_accuracy: 0.9568 - factorized_top_k/top_15_categorical_accuracy: 0.9686 - factorized_top_k/top_25_categorical_accuracy: 0.9806 - loss: 1085.9452 - regularization_loss: 0.0000e+00 - total_loss: 1085.9452 - val_factorized_top_k/top_3_categorical_accuracy: 0.2126 - val_factorized_top_k/top_5_categorical_accuracy: 0.2884 - val_factorized_top_k/top_10_categorical_accuracy: 0.3908 - val_factorized_top_k/top_15_categorical_accuracy: 0.4508 - val_factorized_top_k/top_25_categorical_accuracy: 0.5782 - val_loss: 2472.6436 - val_regularization_loss: 0.0000e+00 - val_total_loss: 2472.6436 - lr: 0.0100\n",
      "Epoch 13/200\n",
      "62/62 [==============================] - 3s 44ms/step - factorized_top_k/top_3_categorical_accuracy: 0.8752 - factorized_top_k/top_5_categorical_accuracy: 0.9327 - factorized_top_k/top_10_categorical_accuracy: 0.9620 - factorized_top_k/top_15_categorical_accuracy: 0.9731 - factorized_top_k/top_25_categorical_accuracy: 0.9836 - loss: 1057.8330 - regularization_loss: 0.0000e+00 - total_loss: 1057.8330 - val_factorized_top_k/top_3_categorical_accuracy: 0.2215 - val_factorized_top_k/top_5_categorical_accuracy: 0.2884 - val_factorized_top_k/top_10_categorical_accuracy: 0.3885 - val_factorized_top_k/top_15_categorical_accuracy: 0.4631 - val_factorized_top_k/top_25_categorical_accuracy: 0.5802 - val_loss: 2480.3921 - val_regularization_loss: 0.0000e+00 - val_total_loss: 2480.3921 - lr: 0.0060\n",
      "Epoch 14/200\n",
      "62/62 [==============================] - 3s 45ms/step - factorized_top_k/top_3_categorical_accuracy: 0.8766 - factorized_top_k/top_5_categorical_accuracy: 0.9343 - factorized_top_k/top_10_categorical_accuracy: 0.9644 - factorized_top_k/top_15_categorical_accuracy: 0.9740 - factorized_top_k/top_25_categorical_accuracy: 0.9845 - loss: 1049.4084 - regularization_loss: 0.0000e+00 - total_loss: 1049.4084 - val_factorized_top_k/top_3_categorical_accuracy: 0.2166 - val_factorized_top_k/top_5_categorical_accuracy: 0.2878 - val_factorized_top_k/top_10_categorical_accuracy: 0.3911 - val_factorized_top_k/top_15_categorical_accuracy: 0.4560 - val_factorized_top_k/top_25_categorical_accuracy: 0.5851 - val_loss: 2493.8215 - val_regularization_loss: 0.0000e+00 - val_total_loss: 2493.8215 - lr: 0.0060\n",
      "Epoch 15/200\n",
      "62/62 [==============================] - 3s 45ms/step - factorized_top_k/top_3_categorical_accuracy: 0.8761 - factorized_top_k/top_5_categorical_accuracy: 0.9350 - factorized_top_k/top_10_categorical_accuracy: 0.9647 - factorized_top_k/top_15_categorical_accuracy: 0.9747 - factorized_top_k/top_25_categorical_accuracy: 0.9853 - loss: 1046.3361 - regularization_loss: 0.0000e+00 - total_loss: 1046.3361 - val_factorized_top_k/top_3_categorical_accuracy: 0.2146 - val_factorized_top_k/top_5_categorical_accuracy: 0.2881 - val_factorized_top_k/top_10_categorical_accuracy: 0.3885 - val_factorized_top_k/top_15_categorical_accuracy: 0.4568 - val_factorized_top_k/top_25_categorical_accuracy: 0.5802 - val_loss: 2508.0747 - val_regularization_loss: 0.0000e+00 - val_total_loss: 2508.0747 - lr: 0.0060\n",
      "Epoch 16/200\n",
      "62/62 [==============================] - 3s 45ms/step - factorized_top_k/top_3_categorical_accuracy: 0.8765 - factorized_top_k/top_5_categorical_accuracy: 0.9360 - factorized_top_k/top_10_categorical_accuracy: 0.9664 - factorized_top_k/top_15_categorical_accuracy: 0.9757 - factorized_top_k/top_25_categorical_accuracy: 0.9863 - loss: 1046.5930 - regularization_loss: 0.0000e+00 - total_loss: 1046.5930 - val_factorized_top_k/top_3_categorical_accuracy: 0.2178 - val_factorized_top_k/top_5_categorical_accuracy: 0.2895 - val_factorized_top_k/top_10_categorical_accuracy: 0.3862 - val_factorized_top_k/top_15_categorical_accuracy: 0.4557 - val_factorized_top_k/top_25_categorical_accuracy: 0.5750 - val_loss: 2523.4712 - val_regularization_loss: 0.0000e+00 - val_total_loss: 2523.4712 - lr: 0.0060\n",
      "Epoch 17/200\n",
      "62/62 [==============================] - 3s 45ms/step - factorized_top_k/top_3_categorical_accuracy: 0.8794 - factorized_top_k/top_5_categorical_accuracy: 0.9374 - factorized_top_k/top_10_categorical_accuracy: 0.9669 - factorized_top_k/top_15_categorical_accuracy: 0.9767 - factorized_top_k/top_25_categorical_accuracy: 0.9865 - loss: 1040.6049 - regularization_loss: 0.0000e+00 - total_loss: 1040.6049 - val_factorized_top_k/top_3_categorical_accuracy: 0.2187 - val_factorized_top_k/top_5_categorical_accuracy: 0.2792 - val_factorized_top_k/top_10_categorical_accuracy: 0.3865 - val_factorized_top_k/top_15_categorical_accuracy: 0.4585 - val_factorized_top_k/top_25_categorical_accuracy: 0.5710 - val_loss: 2537.0486 - val_regularization_loss: 0.0000e+00 - val_total_loss: 2537.0486 - lr: 0.0060\n",
      "Epoch 18/200\n"
     ]
    },
    {
     "name": "stdout",
     "output_type": "stream",
     "text": [
      "62/62 [==============================] - 3s 46ms/step - factorized_top_k/top_3_categorical_accuracy: 0.8780 - factorized_top_k/top_5_categorical_accuracy: 0.9378 - factorized_top_k/top_10_categorical_accuracy: 0.9680 - factorized_top_k/top_15_categorical_accuracy: 0.9770 - factorized_top_k/top_25_categorical_accuracy: 0.9870 - loss: 1041.4865 - regularization_loss: 0.0000e+00 - total_loss: 1041.4865 - val_factorized_top_k/top_3_categorical_accuracy: 0.2135 - val_factorized_top_k/top_5_categorical_accuracy: 0.2875 - val_factorized_top_k/top_10_categorical_accuracy: 0.3857 - val_factorized_top_k/top_15_categorical_accuracy: 0.4491 - val_factorized_top_k/top_25_categorical_accuracy: 0.5681 - val_loss: 2542.7681 - val_regularization_loss: 0.0000e+00 - val_total_loss: 2542.7681 - lr: 0.0060\n",
      "Epoch 19/200\n",
      "62/62 [==============================] - 3s 45ms/step - factorized_top_k/top_3_categorical_accuracy: 0.8797 - factorized_top_k/top_5_categorical_accuracy: 0.9391 - factorized_top_k/top_10_categorical_accuracy: 0.9688 - factorized_top_k/top_15_categorical_accuracy: 0.9777 - factorized_top_k/top_25_categorical_accuracy: 0.9874 - loss: 1038.5226 - regularization_loss: 0.0000e+00 - total_loss: 1038.5226 - val_factorized_top_k/top_3_categorical_accuracy: 0.2184 - val_factorized_top_k/top_5_categorical_accuracy: 0.2852 - val_factorized_top_k/top_10_categorical_accuracy: 0.3805 - val_factorized_top_k/top_15_categorical_accuracy: 0.4502 - val_factorized_top_k/top_25_categorical_accuracy: 0.5661 - val_loss: 2558.1187 - val_regularization_loss: 0.0000e+00 - val_total_loss: 2558.1187 - lr: 0.0060\n",
      "Epoch 20/200\n",
      "62/62 [==============================] - 3s 45ms/step - factorized_top_k/top_3_categorical_accuracy: 0.8795 - factorized_top_k/top_5_categorical_accuracy: 0.9399 - factorized_top_k/top_10_categorical_accuracy: 0.9689 - factorized_top_k/top_15_categorical_accuracy: 0.9790 - factorized_top_k/top_25_categorical_accuracy: 0.9879 - loss: 1034.9425 - regularization_loss: 0.0000e+00 - total_loss: 1034.9425 - val_factorized_top_k/top_3_categorical_accuracy: 0.2187 - val_factorized_top_k/top_5_categorical_accuracy: 0.2826 - val_factorized_top_k/top_10_categorical_accuracy: 0.3851 - val_factorized_top_k/top_15_categorical_accuracy: 0.4545 - val_factorized_top_k/top_25_categorical_accuracy: 0.5661 - val_loss: 2569.7876 - val_regularization_loss: 0.0000e+00 - val_total_loss: 2569.7876 - lr: 0.0060\n",
      "Epoch 21/200\n",
      "62/62 [==============================] - 3s 45ms/step - factorized_top_k/top_3_categorical_accuracy: 0.8785 - factorized_top_k/top_5_categorical_accuracy: 0.9399 - factorized_top_k/top_10_categorical_accuracy: 0.9699 - factorized_top_k/top_15_categorical_accuracy: 0.9791 - factorized_top_k/top_25_categorical_accuracy: 0.9875 - loss: 1033.4204 - regularization_loss: 0.0000e+00 - total_loss: 1033.4204 - val_factorized_top_k/top_3_categorical_accuracy: 0.2123 - val_factorized_top_k/top_5_categorical_accuracy: 0.2815 - val_factorized_top_k/top_10_categorical_accuracy: 0.3811 - val_factorized_top_k/top_15_categorical_accuracy: 0.4554 - val_factorized_top_k/top_25_categorical_accuracy: 0.5664 - val_loss: 2572.6528 - val_regularization_loss: 0.0000e+00 - val_total_loss: 2572.6528 - lr: 0.0060\n",
      "Epoch 22/200\n",
      "62/62 [==============================] - 3s 45ms/step - factorized_top_k/top_3_categorical_accuracy: 0.8847 - factorized_top_k/top_5_categorical_accuracy: 0.9434 - factorized_top_k/top_10_categorical_accuracy: 0.9722 - factorized_top_k/top_15_categorical_accuracy: 0.9813 - factorized_top_k/top_25_categorical_accuracy: 0.9890 - loss: 1020.6782 - regularization_loss: 0.0000e+00 - total_loss: 1020.6782 - val_factorized_top_k/top_3_categorical_accuracy: 0.2166 - val_factorized_top_k/top_5_categorical_accuracy: 0.2872 - val_factorized_top_k/top_10_categorical_accuracy: 0.3802 - val_factorized_top_k/top_15_categorical_accuracy: 0.4516 - val_factorized_top_k/top_25_categorical_accuracy: 0.5636 - val_loss: 2581.9170 - val_regularization_loss: 0.0000e+00 - val_total_loss: 2581.9170 - lr: 0.0036\n",
      "Epoch 23/200\n",
      "62/62 [==============================] - 3s 45ms/step - factorized_top_k/top_3_categorical_accuracy: 0.8860 - factorized_top_k/top_5_categorical_accuracy: 0.9447 - factorized_top_k/top_10_categorical_accuracy: 0.9721 - factorized_top_k/top_15_categorical_accuracy: 0.9820 - factorized_top_k/top_25_categorical_accuracy: 0.9892 - loss: 1018.5926 - regularization_loss: 0.0000e+00 - total_loss: 1018.5926 - val_factorized_top_k/top_3_categorical_accuracy: 0.2215 - val_factorized_top_k/top_5_categorical_accuracy: 0.2864 - val_factorized_top_k/top_10_categorical_accuracy: 0.3825 - val_factorized_top_k/top_15_categorical_accuracy: 0.4542 - val_factorized_top_k/top_25_categorical_accuracy: 0.5621 - val_loss: 2589.7246 - val_regularization_loss: 0.0000e+00 - val_total_loss: 2589.7246 - lr: 0.0036\n",
      "Epoch 24/200\n",
      "62/62 [==============================] - 3s 45ms/step - factorized_top_k/top_3_categorical_accuracy: 0.8860 - factorized_top_k/top_5_categorical_accuracy: 0.9447 - factorized_top_k/top_10_categorical_accuracy: 0.9730 - factorized_top_k/top_15_categorical_accuracy: 0.9814 - factorized_top_k/top_25_categorical_accuracy: 0.9893 - loss: 1017.4878 - regularization_loss: 0.0000e+00 - total_loss: 1017.4878 - val_factorized_top_k/top_3_categorical_accuracy: 0.2204 - val_factorized_top_k/top_5_categorical_accuracy: 0.2824 - val_factorized_top_k/top_10_categorical_accuracy: 0.3791 - val_factorized_top_k/top_15_categorical_accuracy: 0.4482 - val_factorized_top_k/top_25_categorical_accuracy: 0.5613 - val_loss: 2597.9338 - val_regularization_loss: 0.0000e+00 - val_total_loss: 2597.9338 - lr: 0.0036\n",
      "Epoch 25/200\n",
      "62/62 [==============================] - 3s 45ms/step - factorized_top_k/top_3_categorical_accuracy: 0.8868 - factorized_top_k/top_5_categorical_accuracy: 0.9454 - factorized_top_k/top_10_categorical_accuracy: 0.9733 - factorized_top_k/top_15_categorical_accuracy: 0.9821 - factorized_top_k/top_25_categorical_accuracy: 0.9892 - loss: 1015.5859 - regularization_loss: 0.0000e+00 - total_loss: 1015.5859 - val_factorized_top_k/top_3_categorical_accuracy: 0.2181 - val_factorized_top_k/top_5_categorical_accuracy: 0.2844 - val_factorized_top_k/top_10_categorical_accuracy: 0.3799 - val_factorized_top_k/top_15_categorical_accuracy: 0.4508 - val_factorized_top_k/top_25_categorical_accuracy: 0.5601 - val_loss: 2605.6453 - val_regularization_loss: 0.0000e+00 - val_total_loss: 2605.6453 - lr: 0.0036\n",
      "Epoch 26/200\n",
      "62/62 [==============================] - 3s 46ms/step - factorized_top_k/top_3_categorical_accuracy: 0.8872 - factorized_top_k/top_5_categorical_accuracy: 0.9452 - factorized_top_k/top_10_categorical_accuracy: 0.9737 - factorized_top_k/top_15_categorical_accuracy: 0.9825 - factorized_top_k/top_25_categorical_accuracy: 0.9896 - loss: 1015.1464 - regularization_loss: 0.0000e+00 - total_loss: 1015.1464 - val_factorized_top_k/top_3_categorical_accuracy: 0.2181 - val_factorized_top_k/top_5_categorical_accuracy: 0.2826 - val_factorized_top_k/top_10_categorical_accuracy: 0.3793 - val_factorized_top_k/top_15_categorical_accuracy: 0.4496 - val_factorized_top_k/top_25_categorical_accuracy: 0.5604 - val_loss: 2610.8352 - val_regularization_loss: 0.0000e+00 - val_total_loss: 2610.8352 - lr: 0.0036\n",
      "Epoch 27/200\n",
      "62/62 [==============================] - 3s 45ms/step - factorized_top_k/top_3_categorical_accuracy: 0.8857 - factorized_top_k/top_5_categorical_accuracy: 0.9462 - factorized_top_k/top_10_categorical_accuracy: 0.9741 - factorized_top_k/top_15_categorical_accuracy: 0.9825 - factorized_top_k/top_25_categorical_accuracy: 0.9899 - loss: 1013.4423 - regularization_loss: 0.0000e+00 - total_loss: 1013.4423 - val_factorized_top_k/top_3_categorical_accuracy: 0.2218 - val_factorized_top_k/top_5_categorical_accuracy: 0.2792 - val_factorized_top_k/top_10_categorical_accuracy: 0.3773 - val_factorized_top_k/top_15_categorical_accuracy: 0.4496 - val_factorized_top_k/top_25_categorical_accuracy: 0.5613 - val_loss: 2616.4993 - val_regularization_loss: 0.0000e+00 - val_total_loss: 2616.4993 - lr: 0.0036\n",
      "Epoch 28/200\n"
     ]
    },
    {
     "name": "stdout",
     "output_type": "stream",
     "text": [
      "62/62 [==============================] - 3s 47ms/step - factorized_top_k/top_3_categorical_accuracy: 0.8866 - factorized_top_k/top_5_categorical_accuracy: 0.9456 - factorized_top_k/top_10_categorical_accuracy: 0.9744 - factorized_top_k/top_15_categorical_accuracy: 0.9828 - factorized_top_k/top_25_categorical_accuracy: 0.9898 - loss: 1013.7032 - regularization_loss: 0.0000e+00 - total_loss: 1013.7032 - val_factorized_top_k/top_3_categorical_accuracy: 0.2198 - val_factorized_top_k/top_5_categorical_accuracy: 0.2858 - val_factorized_top_k/top_10_categorical_accuracy: 0.3773 - val_factorized_top_k/top_15_categorical_accuracy: 0.4456 - val_factorized_top_k/top_25_categorical_accuracy: 0.5590 - val_loss: 2625.4431 - val_regularization_loss: 0.0000e+00 - val_total_loss: 2625.4431 - lr: 0.0036\n",
      "Epoch 29/200\n",
      "62/62 [==============================] - 3s 45ms/step - factorized_top_k/top_3_categorical_accuracy: 0.8873 - factorized_top_k/top_5_categorical_accuracy: 0.9463 - factorized_top_k/top_10_categorical_accuracy: 0.9746 - factorized_top_k/top_15_categorical_accuracy: 0.9830 - factorized_top_k/top_25_categorical_accuracy: 0.9902 - loss: 1012.6144 - regularization_loss: 0.0000e+00 - total_loss: 1012.6144 - val_factorized_top_k/top_3_categorical_accuracy: 0.2181 - val_factorized_top_k/top_5_categorical_accuracy: 0.2838 - val_factorized_top_k/top_10_categorical_accuracy: 0.3779 - val_factorized_top_k/top_15_categorical_accuracy: 0.4476 - val_factorized_top_k/top_25_categorical_accuracy: 0.5581 - val_loss: 2631.9954 - val_regularization_loss: 0.0000e+00 - val_total_loss: 2631.9954 - lr: 0.0036\n",
      "Epoch 30/200\n",
      "62/62 [==============================] - 3s 46ms/step - factorized_top_k/top_3_categorical_accuracy: 0.8878 - factorized_top_k/top_5_categorical_accuracy: 0.9461 - factorized_top_k/top_10_categorical_accuracy: 0.9751 - factorized_top_k/top_15_categorical_accuracy: 0.9834 - factorized_top_k/top_25_categorical_accuracy: 0.9902 - loss: 1011.5963 - regularization_loss: 0.0000e+00 - total_loss: 1011.5963 - val_factorized_top_k/top_3_categorical_accuracy: 0.2169 - val_factorized_top_k/top_5_categorical_accuracy: 0.2826 - val_factorized_top_k/top_10_categorical_accuracy: 0.3782 - val_factorized_top_k/top_15_categorical_accuracy: 0.4496 - val_factorized_top_k/top_25_categorical_accuracy: 0.5593 - val_loss: 2636.3257 - val_regularization_loss: 0.0000e+00 - val_total_loss: 2636.3257 - lr: 0.0036\n",
      "Epoch 31/200\n",
      "62/62 [==============================] - 3s 46ms/step - factorized_top_k/top_3_categorical_accuracy: 0.8920 - factorized_top_k/top_5_categorical_accuracy: 0.9484 - factorized_top_k/top_10_categorical_accuracy: 0.9764 - factorized_top_k/top_15_categorical_accuracy: 0.9843 - factorized_top_k/top_25_categorical_accuracy: 0.9907 - loss: 1003.5085 - regularization_loss: 0.0000e+00 - total_loss: 1003.5085 - val_factorized_top_k/top_3_categorical_accuracy: 0.2152 - val_factorized_top_k/top_5_categorical_accuracy: 0.2803 - val_factorized_top_k/top_10_categorical_accuracy: 0.3796 - val_factorized_top_k/top_15_categorical_accuracy: 0.4488 - val_factorized_top_k/top_25_categorical_accuracy: 0.5578 - val_loss: 2641.3689 - val_regularization_loss: 0.0000e+00 - val_total_loss: 2641.3689 - lr: 0.0022\n",
      "Epoch 32/200\n",
      "62/62 [==============================] - 3s 47ms/step - factorized_top_k/top_3_categorical_accuracy: 0.8910 - factorized_top_k/top_5_categorical_accuracy: 0.9487 - factorized_top_k/top_10_categorical_accuracy: 0.9761 - factorized_top_k/top_15_categorical_accuracy: 0.9841 - factorized_top_k/top_25_categorical_accuracy: 0.9907 - loss: 1003.6494 - regularization_loss: 0.0000e+00 - total_loss: 1003.6494 - val_factorized_top_k/top_3_categorical_accuracy: 0.2172 - val_factorized_top_k/top_5_categorical_accuracy: 0.2841 - val_factorized_top_k/top_10_categorical_accuracy: 0.3770 - val_factorized_top_k/top_15_categorical_accuracy: 0.4482 - val_factorized_top_k/top_25_categorical_accuracy: 0.5584 - val_loss: 2645.9900 - val_regularization_loss: 0.0000e+00 - val_total_loss: 2645.9900 - lr: 0.0022\n",
      "Epoch 33/200\n",
      "62/62 [==============================] - 3s 47ms/step - factorized_top_k/top_3_categorical_accuracy: 0.8909 - factorized_top_k/top_5_categorical_accuracy: 0.9493 - factorized_top_k/top_10_categorical_accuracy: 0.9764 - factorized_top_k/top_15_categorical_accuracy: 0.9843 - factorized_top_k/top_25_categorical_accuracy: 0.9908 - loss: 1003.1616 - regularization_loss: 0.0000e+00 - total_loss: 1003.1616 - val_factorized_top_k/top_3_categorical_accuracy: 0.2146 - val_factorized_top_k/top_5_categorical_accuracy: 0.2826 - val_factorized_top_k/top_10_categorical_accuracy: 0.3765 - val_factorized_top_k/top_15_categorical_accuracy: 0.4456 - val_factorized_top_k/top_25_categorical_accuracy: 0.5567 - val_loss: 2651.2432 - val_regularization_loss: 0.0000e+00 - val_total_loss: 2651.2432 - lr: 0.0022\n",
      "Epoch 34/200\n",
      "62/62 [==============================] - 3s 47ms/step - factorized_top_k/top_3_categorical_accuracy: 0.8916 - factorized_top_k/top_5_categorical_accuracy: 0.9491 - factorized_top_k/top_10_categorical_accuracy: 0.9765 - factorized_top_k/top_15_categorical_accuracy: 0.9842 - factorized_top_k/top_25_categorical_accuracy: 0.9912 - loss: 1002.0300 - regularization_loss: 0.0000e+00 - total_loss: 1002.0300 - val_factorized_top_k/top_3_categorical_accuracy: 0.2187 - val_factorized_top_k/top_5_categorical_accuracy: 0.2815 - val_factorized_top_k/top_10_categorical_accuracy: 0.3770 - val_factorized_top_k/top_15_categorical_accuracy: 0.4465 - val_factorized_top_k/top_25_categorical_accuracy: 0.5572 - val_loss: 2656.9324 - val_regularization_loss: 0.0000e+00 - val_total_loss: 2656.9324 - lr: 0.0022\n",
      "Epoch 35/200\n",
      "62/62 [==============================] - 3s 47ms/step - factorized_top_k/top_3_categorical_accuracy: 0.8913 - factorized_top_k/top_5_categorical_accuracy: 0.9494 - factorized_top_k/top_10_categorical_accuracy: 0.9772 - factorized_top_k/top_15_categorical_accuracy: 0.9843 - factorized_top_k/top_25_categorical_accuracy: 0.9912 - loss: 1000.2692 - regularization_loss: 0.0000e+00 - total_loss: 1000.2692 - val_factorized_top_k/top_3_categorical_accuracy: 0.2187 - val_factorized_top_k/top_5_categorical_accuracy: 0.2786 - val_factorized_top_k/top_10_categorical_accuracy: 0.3770 - val_factorized_top_k/top_15_categorical_accuracy: 0.4482 - val_factorized_top_k/top_25_categorical_accuracy: 0.5552 - val_loss: 2661.2014 - val_regularization_loss: 0.0000e+00 - val_total_loss: 2661.2014 - lr: 0.0022\n",
      "Epoch 36/200\n",
      "62/62 [==============================] - 4s 67ms/step - factorized_top_k/top_3_categorical_accuracy: 0.8913 - factorized_top_k/top_5_categorical_accuracy: 0.9492 - factorized_top_k/top_10_categorical_accuracy: 0.9770 - factorized_top_k/top_15_categorical_accuracy: 0.9846 - factorized_top_k/top_25_categorical_accuracy: 0.9911 - loss: 1000.2803 - regularization_loss: 0.0000e+00 - total_loss: 1000.2803 - val_factorized_top_k/top_3_categorical_accuracy: 0.2172 - val_factorized_top_k/top_5_categorical_accuracy: 0.2772 - val_factorized_top_k/top_10_categorical_accuracy: 0.3759 - val_factorized_top_k/top_15_categorical_accuracy: 0.4488 - val_factorized_top_k/top_25_categorical_accuracy: 0.5561 - val_loss: 2665.1809 - val_regularization_loss: 0.0000e+00 - val_total_loss: 2665.1809 - lr: 0.0022\n",
      "Epoch 37/200\n",
      "30/62 [=============>................] - ETA: 2s - factorized_top_k/top_3_categorical_accuracy: 0.8978 - factorized_top_k/top_5_categorical_accuracy: 0.9514 - factorized_top_k/top_10_categorical_accuracy: 0.9770 - factorized_top_k/top_15_categorical_accuracy: 0.9848 - factorized_top_k/top_25_categorical_accuracy: 0.9915 - loss: 1020.1688 - regularization_loss: 0.0000e+00 - total_loss: 1020.1688"
     ]
    },
    {
     "ename": "KeyboardInterrupt",
     "evalue": "",
     "output_type": "error",
     "traceback": [
      "\u001b[0;31m---------------------------------------------------------------------------\u001b[0m",
      "\u001b[0;31mKeyboardInterrupt\u001b[0m                         Traceback (most recent call last)",
      "Input \u001b[0;32mIn [23]\u001b[0m, in \u001b[0;36m<cell line: 1>\u001b[0;34m()\u001b[0m\n\u001b[0;32m----> 1\u001b[0m data \u001b[38;5;241m=\u001b[39m \u001b[43mmodel\u001b[49m\u001b[38;5;241;43m.\u001b[39;49m\u001b[43mfit\u001b[49m\u001b[43m(\u001b[49m\u001b[43mcached_train\u001b[49m\u001b[43m,\u001b[49m\n\u001b[1;32m      2\u001b[0m \u001b[43m          \u001b[49m\u001b[43mvalidation_data\u001b[49m\u001b[38;5;241;43m=\u001b[39;49m\u001b[43mcached_test\u001b[49m\u001b[43m,\u001b[49m\n\u001b[1;32m      3\u001b[0m \u001b[43m          \u001b[49m\u001b[43mepochs\u001b[49m\u001b[38;5;241;43m=\u001b[39;49m\u001b[38;5;241;43m200\u001b[39;49m\u001b[43m,\u001b[49m\n\u001b[1;32m      4\u001b[0m \u001b[43m          \u001b[49m\u001b[43mverbose\u001b[49m\u001b[38;5;241;43m=\u001b[39;49m\u001b[38;5;241;43m1\u001b[39;49m\u001b[43m,\u001b[49m\u001b[43m \u001b[49m\n\u001b[1;32m      5\u001b[0m \u001b[43m          \u001b[49m\u001b[43mworkers\u001b[49m\u001b[38;5;241;43m=\u001b[39;49m\u001b[38;5;241;43m3\u001b[39;49m\u001b[43m,\u001b[49m\n\u001b[1;32m      6\u001b[0m \u001b[43m          \u001b[49m\u001b[43muse_multiprocessing\u001b[49m\u001b[38;5;241;43m=\u001b[39;49m\u001b[38;5;28;43;01mTrue\u001b[39;49;00m\u001b[43m,\u001b[49m\n\u001b[1;32m      7\u001b[0m \u001b[43m          \u001b[49m\u001b[43mcallbacks\u001b[49m\u001b[38;5;241;43m=\u001b[39;49m\u001b[43m[\u001b[49m\u001b[43mmodel_checkpoint_callback\u001b[49m\u001b[43m,\u001b[49m\u001b[43m \u001b[49m\n\u001b[1;32m      8\u001b[0m \u001b[43m                     \u001b[49m\u001b[43mreduce_lr\u001b[49m\u001b[43m]\u001b[49m\n\u001b[1;32m      9\u001b[0m \n\u001b[1;32m     10\u001b[0m \u001b[43m          \u001b[49m\u001b[43m)\u001b[49m\n",
      "File \u001b[0;32m~/.conda/envs/tfrs/lib/python3.9/site-packages/keras/utils/traceback_utils.py:64\u001b[0m, in \u001b[0;36mfilter_traceback.<locals>.error_handler\u001b[0;34m(*args, **kwargs)\u001b[0m\n\u001b[1;32m     62\u001b[0m filtered_tb \u001b[38;5;241m=\u001b[39m \u001b[38;5;28;01mNone\u001b[39;00m\n\u001b[1;32m     63\u001b[0m \u001b[38;5;28;01mtry\u001b[39;00m:\n\u001b[0;32m---> 64\u001b[0m   \u001b[38;5;28;01mreturn\u001b[39;00m \u001b[43mfn\u001b[49m\u001b[43m(\u001b[49m\u001b[38;5;241;43m*\u001b[39;49m\u001b[43margs\u001b[49m\u001b[43m,\u001b[49m\u001b[43m \u001b[49m\u001b[38;5;241;43m*\u001b[39;49m\u001b[38;5;241;43m*\u001b[39;49m\u001b[43mkwargs\u001b[49m\u001b[43m)\u001b[49m\n\u001b[1;32m     65\u001b[0m \u001b[38;5;28;01mexcept\u001b[39;00m \u001b[38;5;167;01mException\u001b[39;00m \u001b[38;5;28;01mas\u001b[39;00m e:  \u001b[38;5;66;03m# pylint: disable=broad-except\u001b[39;00m\n\u001b[1;32m     66\u001b[0m   filtered_tb \u001b[38;5;241m=\u001b[39m _process_traceback_frames(e\u001b[38;5;241m.\u001b[39m__traceback__)\n",
      "File \u001b[0;32m~/.conda/envs/tfrs/lib/python3.9/site-packages/keras/engine/training.py:1409\u001b[0m, in \u001b[0;36mModel.fit\u001b[0;34m(self, x, y, batch_size, epochs, verbose, callbacks, validation_split, validation_data, shuffle, class_weight, sample_weight, initial_epoch, steps_per_epoch, validation_steps, validation_batch_size, validation_freq, max_queue_size, workers, use_multiprocessing)\u001b[0m\n\u001b[1;32m   1402\u001b[0m \u001b[38;5;28;01mwith\u001b[39;00m tf\u001b[38;5;241m.\u001b[39mprofiler\u001b[38;5;241m.\u001b[39mexperimental\u001b[38;5;241m.\u001b[39mTrace(\n\u001b[1;32m   1403\u001b[0m     \u001b[38;5;124m'\u001b[39m\u001b[38;5;124mtrain\u001b[39m\u001b[38;5;124m'\u001b[39m,\n\u001b[1;32m   1404\u001b[0m     epoch_num\u001b[38;5;241m=\u001b[39mepoch,\n\u001b[1;32m   1405\u001b[0m     step_num\u001b[38;5;241m=\u001b[39mstep,\n\u001b[1;32m   1406\u001b[0m     batch_size\u001b[38;5;241m=\u001b[39mbatch_size,\n\u001b[1;32m   1407\u001b[0m     _r\u001b[38;5;241m=\u001b[39m\u001b[38;5;241m1\u001b[39m):\n\u001b[1;32m   1408\u001b[0m   callbacks\u001b[38;5;241m.\u001b[39mon_train_batch_begin(step)\n\u001b[0;32m-> 1409\u001b[0m   tmp_logs \u001b[38;5;241m=\u001b[39m \u001b[38;5;28;43mself\u001b[39;49m\u001b[38;5;241;43m.\u001b[39;49m\u001b[43mtrain_function\u001b[49m\u001b[43m(\u001b[49m\u001b[43miterator\u001b[49m\u001b[43m)\u001b[49m\n\u001b[1;32m   1410\u001b[0m   \u001b[38;5;28;01mif\u001b[39;00m data_handler\u001b[38;5;241m.\u001b[39mshould_sync:\n\u001b[1;32m   1411\u001b[0m     context\u001b[38;5;241m.\u001b[39masync_wait()\n",
      "File \u001b[0;32m~/.conda/envs/tfrs/lib/python3.9/site-packages/tensorflow/python/util/traceback_utils.py:150\u001b[0m, in \u001b[0;36mfilter_traceback.<locals>.error_handler\u001b[0;34m(*args, **kwargs)\u001b[0m\n\u001b[1;32m    148\u001b[0m filtered_tb \u001b[38;5;241m=\u001b[39m \u001b[38;5;28;01mNone\u001b[39;00m\n\u001b[1;32m    149\u001b[0m \u001b[38;5;28;01mtry\u001b[39;00m:\n\u001b[0;32m--> 150\u001b[0m   \u001b[38;5;28;01mreturn\u001b[39;00m \u001b[43mfn\u001b[49m\u001b[43m(\u001b[49m\u001b[38;5;241;43m*\u001b[39;49m\u001b[43margs\u001b[49m\u001b[43m,\u001b[49m\u001b[43m \u001b[49m\u001b[38;5;241;43m*\u001b[39;49m\u001b[38;5;241;43m*\u001b[39;49m\u001b[43mkwargs\u001b[49m\u001b[43m)\u001b[49m\n\u001b[1;32m    151\u001b[0m \u001b[38;5;28;01mexcept\u001b[39;00m \u001b[38;5;167;01mException\u001b[39;00m \u001b[38;5;28;01mas\u001b[39;00m e:\n\u001b[1;32m    152\u001b[0m   filtered_tb \u001b[38;5;241m=\u001b[39m _process_traceback_frames(e\u001b[38;5;241m.\u001b[39m__traceback__)\n",
      "File \u001b[0;32m~/.conda/envs/tfrs/lib/python3.9/site-packages/tensorflow/python/eager/def_function.py:915\u001b[0m, in \u001b[0;36mFunction.__call__\u001b[0;34m(self, *args, **kwds)\u001b[0m\n\u001b[1;32m    912\u001b[0m compiler \u001b[38;5;241m=\u001b[39m \u001b[38;5;124m\"\u001b[39m\u001b[38;5;124mxla\u001b[39m\u001b[38;5;124m\"\u001b[39m \u001b[38;5;28;01mif\u001b[39;00m \u001b[38;5;28mself\u001b[39m\u001b[38;5;241m.\u001b[39m_jit_compile \u001b[38;5;28;01melse\u001b[39;00m \u001b[38;5;124m\"\u001b[39m\u001b[38;5;124mnonXla\u001b[39m\u001b[38;5;124m\"\u001b[39m\n\u001b[1;32m    914\u001b[0m \u001b[38;5;28;01mwith\u001b[39;00m OptionalXlaContext(\u001b[38;5;28mself\u001b[39m\u001b[38;5;241m.\u001b[39m_jit_compile):\n\u001b[0;32m--> 915\u001b[0m   result \u001b[38;5;241m=\u001b[39m \u001b[38;5;28;43mself\u001b[39;49m\u001b[38;5;241;43m.\u001b[39;49m\u001b[43m_call\u001b[49m\u001b[43m(\u001b[49m\u001b[38;5;241;43m*\u001b[39;49m\u001b[43margs\u001b[49m\u001b[43m,\u001b[49m\u001b[43m \u001b[49m\u001b[38;5;241;43m*\u001b[39;49m\u001b[38;5;241;43m*\u001b[39;49m\u001b[43mkwds\u001b[49m\u001b[43m)\u001b[49m\n\u001b[1;32m    917\u001b[0m new_tracing_count \u001b[38;5;241m=\u001b[39m \u001b[38;5;28mself\u001b[39m\u001b[38;5;241m.\u001b[39mexperimental_get_tracing_count()\n\u001b[1;32m    918\u001b[0m without_tracing \u001b[38;5;241m=\u001b[39m (tracing_count \u001b[38;5;241m==\u001b[39m new_tracing_count)\n",
      "File \u001b[0;32m~/.conda/envs/tfrs/lib/python3.9/site-packages/tensorflow/python/eager/def_function.py:947\u001b[0m, in \u001b[0;36mFunction._call\u001b[0;34m(self, *args, **kwds)\u001b[0m\n\u001b[1;32m    944\u001b[0m   \u001b[38;5;28mself\u001b[39m\u001b[38;5;241m.\u001b[39m_lock\u001b[38;5;241m.\u001b[39mrelease()\n\u001b[1;32m    945\u001b[0m   \u001b[38;5;66;03m# In this case we have created variables on the first call, so we run the\u001b[39;00m\n\u001b[1;32m    946\u001b[0m   \u001b[38;5;66;03m# defunned version which is guaranteed to never create variables.\u001b[39;00m\n\u001b[0;32m--> 947\u001b[0m   \u001b[38;5;28;01mreturn\u001b[39;00m \u001b[38;5;28;43mself\u001b[39;49m\u001b[38;5;241;43m.\u001b[39;49m\u001b[43m_stateless_fn\u001b[49m\u001b[43m(\u001b[49m\u001b[38;5;241;43m*\u001b[39;49m\u001b[43margs\u001b[49m\u001b[43m,\u001b[49m\u001b[43m \u001b[49m\u001b[38;5;241;43m*\u001b[39;49m\u001b[38;5;241;43m*\u001b[39;49m\u001b[43mkwds\u001b[49m\u001b[43m)\u001b[49m  \u001b[38;5;66;03m# pylint: disable=not-callable\u001b[39;00m\n\u001b[1;32m    948\u001b[0m \u001b[38;5;28;01melif\u001b[39;00m \u001b[38;5;28mself\u001b[39m\u001b[38;5;241m.\u001b[39m_stateful_fn \u001b[38;5;129;01mis\u001b[39;00m \u001b[38;5;129;01mnot\u001b[39;00m \u001b[38;5;28;01mNone\u001b[39;00m:\n\u001b[1;32m    949\u001b[0m   \u001b[38;5;66;03m# Release the lock early so that multiple threads can perform the call\u001b[39;00m\n\u001b[1;32m    950\u001b[0m   \u001b[38;5;66;03m# in parallel.\u001b[39;00m\n\u001b[1;32m    951\u001b[0m   \u001b[38;5;28mself\u001b[39m\u001b[38;5;241m.\u001b[39m_lock\u001b[38;5;241m.\u001b[39mrelease()\n",
      "File \u001b[0;32m~/.conda/envs/tfrs/lib/python3.9/site-packages/tensorflow/python/eager/function.py:2453\u001b[0m, in \u001b[0;36mFunction.__call__\u001b[0;34m(self, *args, **kwargs)\u001b[0m\n\u001b[1;32m   2450\u001b[0m \u001b[38;5;28;01mwith\u001b[39;00m \u001b[38;5;28mself\u001b[39m\u001b[38;5;241m.\u001b[39m_lock:\n\u001b[1;32m   2451\u001b[0m   (graph_function,\n\u001b[1;32m   2452\u001b[0m    filtered_flat_args) \u001b[38;5;241m=\u001b[39m \u001b[38;5;28mself\u001b[39m\u001b[38;5;241m.\u001b[39m_maybe_define_function(args, kwargs)\n\u001b[0;32m-> 2453\u001b[0m \u001b[38;5;28;01mreturn\u001b[39;00m \u001b[43mgraph_function\u001b[49m\u001b[38;5;241;43m.\u001b[39;49m\u001b[43m_call_flat\u001b[49m\u001b[43m(\u001b[49m\n\u001b[1;32m   2454\u001b[0m \u001b[43m    \u001b[49m\u001b[43mfiltered_flat_args\u001b[49m\u001b[43m,\u001b[49m\u001b[43m \u001b[49m\u001b[43mcaptured_inputs\u001b[49m\u001b[38;5;241;43m=\u001b[39;49m\u001b[43mgraph_function\u001b[49m\u001b[38;5;241;43m.\u001b[39;49m\u001b[43mcaptured_inputs\u001b[49m\u001b[43m)\u001b[49m\n",
      "File \u001b[0;32m~/.conda/envs/tfrs/lib/python3.9/site-packages/tensorflow/python/eager/function.py:1860\u001b[0m, in \u001b[0;36mConcreteFunction._call_flat\u001b[0;34m(self, args, captured_inputs, cancellation_manager)\u001b[0m\n\u001b[1;32m   1856\u001b[0m possible_gradient_type \u001b[38;5;241m=\u001b[39m gradients_util\u001b[38;5;241m.\u001b[39mPossibleTapeGradientTypes(args)\n\u001b[1;32m   1857\u001b[0m \u001b[38;5;28;01mif\u001b[39;00m (possible_gradient_type \u001b[38;5;241m==\u001b[39m gradients_util\u001b[38;5;241m.\u001b[39mPOSSIBLE_GRADIENT_TYPES_NONE\n\u001b[1;32m   1858\u001b[0m     \u001b[38;5;129;01mand\u001b[39;00m executing_eagerly):\n\u001b[1;32m   1859\u001b[0m   \u001b[38;5;66;03m# No tape is watching; skip to running the function.\u001b[39;00m\n\u001b[0;32m-> 1860\u001b[0m   \u001b[38;5;28;01mreturn\u001b[39;00m \u001b[38;5;28mself\u001b[39m\u001b[38;5;241m.\u001b[39m_build_call_outputs(\u001b[38;5;28;43mself\u001b[39;49m\u001b[38;5;241;43m.\u001b[39;49m\u001b[43m_inference_function\u001b[49m\u001b[38;5;241;43m.\u001b[39;49m\u001b[43mcall\u001b[49m\u001b[43m(\u001b[49m\n\u001b[1;32m   1861\u001b[0m \u001b[43m      \u001b[49m\u001b[43mctx\u001b[49m\u001b[43m,\u001b[49m\u001b[43m \u001b[49m\u001b[43margs\u001b[49m\u001b[43m,\u001b[49m\u001b[43m \u001b[49m\u001b[43mcancellation_manager\u001b[49m\u001b[38;5;241;43m=\u001b[39;49m\u001b[43mcancellation_manager\u001b[49m\u001b[43m)\u001b[49m)\n\u001b[1;32m   1862\u001b[0m forward_backward \u001b[38;5;241m=\u001b[39m \u001b[38;5;28mself\u001b[39m\u001b[38;5;241m.\u001b[39m_select_forward_and_backward_functions(\n\u001b[1;32m   1863\u001b[0m     args,\n\u001b[1;32m   1864\u001b[0m     possible_gradient_type,\n\u001b[1;32m   1865\u001b[0m     executing_eagerly)\n\u001b[1;32m   1866\u001b[0m forward_function, args_with_tangents \u001b[38;5;241m=\u001b[39m forward_backward\u001b[38;5;241m.\u001b[39mforward()\n",
      "File \u001b[0;32m~/.conda/envs/tfrs/lib/python3.9/site-packages/tensorflow/python/eager/function.py:497\u001b[0m, in \u001b[0;36m_EagerDefinedFunction.call\u001b[0;34m(self, ctx, args, cancellation_manager)\u001b[0m\n\u001b[1;32m    495\u001b[0m \u001b[38;5;28;01mwith\u001b[39;00m _InterpolateFunctionError(\u001b[38;5;28mself\u001b[39m):\n\u001b[1;32m    496\u001b[0m   \u001b[38;5;28;01mif\u001b[39;00m cancellation_manager \u001b[38;5;129;01mis\u001b[39;00m \u001b[38;5;28;01mNone\u001b[39;00m:\n\u001b[0;32m--> 497\u001b[0m     outputs \u001b[38;5;241m=\u001b[39m \u001b[43mexecute\u001b[49m\u001b[38;5;241;43m.\u001b[39;49m\u001b[43mexecute\u001b[49m\u001b[43m(\u001b[49m\n\u001b[1;32m    498\u001b[0m \u001b[43m        \u001b[49m\u001b[38;5;28;43mstr\u001b[39;49m\u001b[43m(\u001b[49m\u001b[38;5;28;43mself\u001b[39;49m\u001b[38;5;241;43m.\u001b[39;49m\u001b[43msignature\u001b[49m\u001b[38;5;241;43m.\u001b[39;49m\u001b[43mname\u001b[49m\u001b[43m)\u001b[49m\u001b[43m,\u001b[49m\n\u001b[1;32m    499\u001b[0m \u001b[43m        \u001b[49m\u001b[43mnum_outputs\u001b[49m\u001b[38;5;241;43m=\u001b[39;49m\u001b[38;5;28;43mself\u001b[39;49m\u001b[38;5;241;43m.\u001b[39;49m\u001b[43m_num_outputs\u001b[49m\u001b[43m,\u001b[49m\n\u001b[1;32m    500\u001b[0m \u001b[43m        \u001b[49m\u001b[43minputs\u001b[49m\u001b[38;5;241;43m=\u001b[39;49m\u001b[43margs\u001b[49m\u001b[43m,\u001b[49m\n\u001b[1;32m    501\u001b[0m \u001b[43m        \u001b[49m\u001b[43mattrs\u001b[49m\u001b[38;5;241;43m=\u001b[39;49m\u001b[43mattrs\u001b[49m\u001b[43m,\u001b[49m\n\u001b[1;32m    502\u001b[0m \u001b[43m        \u001b[49m\u001b[43mctx\u001b[49m\u001b[38;5;241;43m=\u001b[39;49m\u001b[43mctx\u001b[49m\u001b[43m)\u001b[49m\n\u001b[1;32m    503\u001b[0m   \u001b[38;5;28;01melse\u001b[39;00m:\n\u001b[1;32m    504\u001b[0m     outputs \u001b[38;5;241m=\u001b[39m execute\u001b[38;5;241m.\u001b[39mexecute_with_cancellation(\n\u001b[1;32m    505\u001b[0m         \u001b[38;5;28mstr\u001b[39m(\u001b[38;5;28mself\u001b[39m\u001b[38;5;241m.\u001b[39msignature\u001b[38;5;241m.\u001b[39mname),\n\u001b[1;32m    506\u001b[0m         num_outputs\u001b[38;5;241m=\u001b[39m\u001b[38;5;28mself\u001b[39m\u001b[38;5;241m.\u001b[39m_num_outputs,\n\u001b[0;32m   (...)\u001b[0m\n\u001b[1;32m    509\u001b[0m         ctx\u001b[38;5;241m=\u001b[39mctx,\n\u001b[1;32m    510\u001b[0m         cancellation_manager\u001b[38;5;241m=\u001b[39mcancellation_manager)\n",
      "File \u001b[0;32m~/.conda/envs/tfrs/lib/python3.9/site-packages/tensorflow/python/eager/execute.py:54\u001b[0m, in \u001b[0;36mquick_execute\u001b[0;34m(op_name, num_outputs, inputs, attrs, ctx, name)\u001b[0m\n\u001b[1;32m     52\u001b[0m \u001b[38;5;28;01mtry\u001b[39;00m:\n\u001b[1;32m     53\u001b[0m   ctx\u001b[38;5;241m.\u001b[39mensure_initialized()\n\u001b[0;32m---> 54\u001b[0m   tensors \u001b[38;5;241m=\u001b[39m \u001b[43mpywrap_tfe\u001b[49m\u001b[38;5;241;43m.\u001b[39;49m\u001b[43mTFE_Py_Execute\u001b[49m\u001b[43m(\u001b[49m\u001b[43mctx\u001b[49m\u001b[38;5;241;43m.\u001b[39;49m\u001b[43m_handle\u001b[49m\u001b[43m,\u001b[49m\u001b[43m \u001b[49m\u001b[43mdevice_name\u001b[49m\u001b[43m,\u001b[49m\u001b[43m \u001b[49m\u001b[43mop_name\u001b[49m\u001b[43m,\u001b[49m\n\u001b[1;32m     55\u001b[0m \u001b[43m                                      \u001b[49m\u001b[43minputs\u001b[49m\u001b[43m,\u001b[49m\u001b[43m \u001b[49m\u001b[43mattrs\u001b[49m\u001b[43m,\u001b[49m\u001b[43m \u001b[49m\u001b[43mnum_outputs\u001b[49m\u001b[43m)\u001b[49m\n\u001b[1;32m     56\u001b[0m \u001b[38;5;28;01mexcept\u001b[39;00m core\u001b[38;5;241m.\u001b[39m_NotOkStatusException \u001b[38;5;28;01mas\u001b[39;00m e:\n\u001b[1;32m     57\u001b[0m   \u001b[38;5;28;01mif\u001b[39;00m name \u001b[38;5;129;01mis\u001b[39;00m \u001b[38;5;129;01mnot\u001b[39;00m \u001b[38;5;28;01mNone\u001b[39;00m:\n",
      "\u001b[0;31mKeyboardInterrupt\u001b[0m: "
     ]
    }
   ],
   "source": [
    "data = model.fit(cached_train,\n",
    "          validation_data=cached_test,\n",
    "          epochs=200,\n",
    "          verbose=1, \n",
    "          workers=3,\n",
    "          use_multiprocessing=True,\n",
    "          callbacks=[model_checkpoint_callback, \n",
    "                     reduce_lr]\n",
    "\n",
    "          )"
   ]
  },
  {
   "cell_type": "code",
   "execution_count": 27,
   "id": "c91798a6",
   "metadata": {},
   "outputs": [
    {
     "data": {
      "text/plain": [
       "<tensorflow.python.training.tracking.util.CheckpointLoadStatus at 0x7ff75c0fa940>"
      ]
     },
     "execution_count": 27,
     "metadata": {},
     "output_type": "execute_result"
    }
   ],
   "source": [
    "model.load_weights(\"new_amazon_check_points/best_check_point_25k\")"
   ]
  },
  {
   "cell_type": "code",
   "execution_count": 28,
   "id": "40d04cb7",
   "metadata": {},
   "outputs": [
    {
     "name": "stdout",
     "output_type": "stream",
     "text": [
      "7/7 [==============================] - 0s 38ms/step - factorized_top_k/top_3_categorical_accuracy: 0.2410 - factorized_top_k/top_5_categorical_accuracy: 0.3300 - factorized_top_k/top_10_categorical_accuracy: 0.4551 - factorized_top_k/top_15_categorical_accuracy: 0.5377 - factorized_top_k/top_25_categorical_accuracy: 0.6468 - loss: 2458.4392 - regularization_loss: 0.0000e+00 - total_loss: 2458.4392\n"
     ]
    }
   ],
   "source": [
    "result_summary = model.evaluate(cached_test)"
   ]
  },
  {
   "cell_type": "code",
   "execution_count": 29,
   "id": "215d3fd7",
   "metadata": {},
   "outputs": [
    {
     "data": {
      "text/plain": [
       "{3: 0.24103300273418427,\n",
       " 5: 0.329985648393631,\n",
       " 10: 0.45509326457977295,\n",
       " 15: 0.5377331376075745,\n",
       " 25: 0.6467719078063965}"
      ]
     },
     "execution_count": 29,
     "metadata": {},
     "output_type": "execute_result"
    }
   ],
   "source": [
    "{val:result_summary[idx] for idx, val in enumerate([3, 5, 10,15, 25]) }"
   ]
  },
  {
   "cell_type": "code",
   "execution_count": 31,
   "id": "4ee8552d",
   "metadata": {},
   "outputs": [],
   "source": [
    "data.history"
   ]
  },
  {
   "cell_type": "code",
   "execution_count": null,
   "id": "6bb4698c",
   "metadata": {},
   "outputs": [],
   "source": [
    "keys = iter([key for key in data.history.keys() if key.startswith(\"factorized_top\")])"
   ]
  },
  {
   "cell_type": "code",
   "execution_count": null,
   "id": "2fe020a2",
   "metadata": {},
   "outputs": [],
   "source": [
    "x = [i for i in range(1,201,1)]\n",
    "for key in keys:\n",
    "    plt.plot(x, data.history[key], \"-b\", label=\"Train\")\n",
    "    plt.plot(x, data.history[\"val_\"+key], \"-r\", label=\"Test\")\n",
    "    plt.legend(loc=\"upper left\")\n",
    "    plt.title(key.split(\"/\")[1])\n",
    "    break\n",
    "\n",
    "    "
   ]
  },
  {
   "cell_type": "code",
   "execution_count": null,
   "id": "d6e5af11",
   "metadata": {},
   "outputs": [],
   "source": [
    "plt.show()"
   ]
  }
 ],
 "metadata": {
  "kernelspec": {
   "display_name": "Python 3 (ipykernel)",
   "language": "python",
   "name": "python3"
  },
  "language_info": {
   "codemirror_mode": {
    "name": "ipython",
    "version": 3
   },
   "file_extension": ".py",
   "mimetype": "text/x-python",
   "name": "python",
   "nbconvert_exporter": "python",
   "pygments_lexer": "ipython3",
   "version": "3.9.1"
  },
  "vscode": {
   "interpreter": {
    "hash": "33b85ca7cd17e46580c5781b40041ecb0327ffab993dd3a95c3861a9f1364646"
   }
  }
 },
 "nbformat": 4,
 "nbformat_minor": 5
}
